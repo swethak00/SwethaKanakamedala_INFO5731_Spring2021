{
  "nbformat": 4,
  "nbformat_minor": 0,
  "metadata": {
    "colab": {
      "name": "In_class_exercise_01.ipynb",
      "provenance": [],
      "collapsed_sections": [],
      "include_colab_link": true
    },
    "kernelspec": {
      "display_name": "Python 3",
      "language": "python",
      "name": "python3"
    },
    "language_info": {
      "codemirror_mode": {
        "name": "ipython",
        "version": 3
      },
      "file_extension": ".py",
      "mimetype": "text/x-python",
      "name": "python",
      "nbconvert_exporter": "python",
      "pygments_lexer": "ipython3",
      "version": "3.8.5"
    }
  },
  "cells": [
    {
      "cell_type": "markdown",
      "metadata": {
        "id": "view-in-github",
        "colab_type": "text"
      },
      "source": [
        "<a href=\"https://colab.research.google.com/github/swethak00/SwethaKanakamedala_INFO5731_Spring2021/blob/main/In_class_exercise_01.ipynb\" target=\"_parent\"><img src=\"https://colab.research.google.com/assets/colab-badge.svg\" alt=\"Open In Colab\"/></a>"
      ]
    },
    {
      "cell_type": "markdown",
      "metadata": {
        "id": "DymRJbxDBCnf"
      },
      "source": [
        "# **The first In-class-exercise (1/19/2021, 20 points in total)**"
      ]
    },
    {
      "cell_type": "markdown",
      "metadata": {
        "id": "03jb4GZsBkBS"
      },
      "source": [
        "(1) Write a Python program to calculate the length of a string. (2 points)"
      ]
    },
    {
      "cell_type": "code",
      "metadata": {
        "id": "YaGLbSHHB8Ej",
        "colab": {
          "base_uri": "https://localhost:8080/"
        },
        "outputId": "5b58420c-1f6f-4c38-8ad0-a2aba5e196ca"
      },
      "source": [
        "# length of a string using LEN() function\n",
        "str = \"Swetha.K\"\n",
        "len(str)"
      ],
      "execution_count": null,
      "outputs": [
        {
          "output_type": "execute_result",
          "data": {
            "text/plain": [
              "8"
            ]
          },
          "metadata": {
            "tags": []
          },
          "execution_count": 3
        }
      ]
    },
    {
      "cell_type": "markdown",
      "metadata": {
        "id": "jJDe71iLB616"
      },
      "source": [
        "(2) Write a Python program to count the number of characters in a string. (2 points)\n",
        "\n",
        "Sample String : 'google.com‘, \n",
        "\n",
        "Expected Result : {'o': 3, 'g': 2, '.': 1, 'e': 1, 'l': 1, 'm': 1, 'c': 1}"
      ]
    },
    {
      "cell_type": "code",
      "metadata": {
        "id": "MtKskTzbCLaU",
        "colab": {
          "base_uri": "https://localhost:8080/"
        },
        "outputId": "57b0f422-d0cd-4b2c-bb29-4acb03821200"
      },
      "source": [
        "import operator\n",
        "def StrToDic(str1):\n",
        "  string_dic = dict()\n",
        "  for i in str1:\n",
        "    count = 0\n",
        "    for a in str1:\n",
        "      if i == a:\n",
        "        count = count+1\n",
        "    string_dic[i] = count\n",
        "  sorted_d = dict(sorted(string_dic.items(), key=operator.itemgetter(1),reverse=True))     \n",
        "  return sorted_d\n",
        "string = \"google.com\"\n",
        "print(\"result:\", StrToDic(string)) \n"
      ],
      "execution_count": null,
      "outputs": [
        {
          "output_type": "stream",
          "text": [
            "result: {'o': 3, 'g': 2, 'l': 1, 'e': 1, '.': 1, 'c': 1, 'm': 1}\n"
          ],
          "name": "stdout"
        }
      ]
    },
    {
      "cell_type": "markdown",
      "metadata": {
        "id": "55W9AMdXCSpV"
      },
      "source": [
        "(3) Write a Python program to sum all the items in a list. (2 points)"
      ]
    },
    {
      "cell_type": "code",
      "metadata": {
        "id": "I57NXsauCec2",
        "colab": {
          "base_uri": "https://localhost:8080/"
        },
        "outputId": "f66a77fa-fb84-4875-e931-61bbfbe22ad8"
      },
      "source": [
        "# Sum all the items in a list using SUM() function\n",
        "list = [1,-3,10,5,-6]\n",
        "sum_list = sum(list)\n",
        "print(\"Sum of all elements in given list: \", sum_list)\n",
        "\n",
        "# Another way to sum all the items in a list\n",
        "total = 0\n",
        "list = [1,-3,10,5,-6] \n",
        "for numbers in range(0, len(list)):\n",
        "    total = total + list[numbers]\n",
        "print(\"Sum of all elements in given list: \", total)"
      ],
      "execution_count": null,
      "outputs": [
        {
          "output_type": "stream",
          "text": [
            "Sum of all elements in given list:  7\n",
            "Sum of all elements in given list:  7\n"
          ],
          "name": "stdout"
        }
      ]
    },
    {
      "cell_type": "markdown",
      "metadata": {
        "id": "4ulBZ6yhCi9F"
      },
      "source": [
        "(4) Write a Python program to get a string from a given string where all occurrences of its first char have been changed to '\\$', except the first char itself. (2 points)\n",
        "\n",
        "Sample String : 'restart‘, \n",
        "\n",
        "Expected Result : 'resta\\$t'"
      ]
    },
    {
      "cell_type": "code",
      "metadata": {
        "id": "Fj0XhwbBCw2o",
        "colab": {
          "base_uri": "https://localhost:8080/"
        },
        "outputId": "966d3339-1a55-486b-d80c-115c1972e04a"
      },
      "source": [
        "string = input()  \n",
        "char = string[0]  \n",
        "length = len(string)  \n",
        "string = string.replace(char, '$')  \n",
        "string = char + string[1:]  \n",
        "print(string)\n"
      ],
      "execution_count": null,
      "outputs": [
        {
          "output_type": "stream",
          "text": [
            "restart\n",
            "resta$t\n"
          ],
          "name": "stdout"
        }
      ]
    },
    {
      "cell_type": "markdown",
      "metadata": {
        "id": "_bIP7s1MCzue"
      },
      "source": [
        "(5) Write a program with python which could accept two parameter a and b to calculate and output the result of S, where \n",
        "\n",
        "$\\ S=3.14*(1+a/b)^3$ (3 points)\n",
        "\n"
      ]
    },
    {
      "cell_type": "code",
      "metadata": {
        "id": "w79QilHXD3Mg",
        "colab": {
          "base_uri": "https://localhost:8080/"
        },
        "outputId": "dcccb671-dab7-48ee-9717-f2d321f65e9a"
      },
      "source": [
        "# To throw Divide by Zero error\n",
        "def error(error_div):\n",
        "  print(error_div)\n",
        "  return\n",
        "# Calculate the output result\n",
        "def result_s(a,b):\n",
        "  if b == 0:\n",
        "    error(\"runtime error\")\n",
        "  return 3.14*(1+a/b)**3\n",
        "a = int(input(\"enter value of a: \")) \n",
        "b = int(input(\"enter value of b:\")) \n",
        "print(\" Expected result:\", result_s(a,b))"
      ],
      "execution_count": null,
      "outputs": [
        {
          "output_type": "stream",
          "text": [
            "enter value of a: 6\n",
            "enter value of b:3\n",
            " Expected result: 84.78\n"
          ],
          "name": "stdout"
        }
      ]
    },
    {
      "cell_type": "markdown",
      "metadata": {
        "id": "xCa2bK9aD4Q3"
      },
      "source": [
        "(6) Write a Python program to concatenate following dictionaries to create a new one. (3 points)\n",
        "\n",
        "Sample Dictionary : dic1={1:10, 2:20}, dic2={3:30, 4:40}, dic3={5:50,6:60}, \n",
        "\n",
        "Expected Result : {1: 10, 2: 20, 3: 30, 4: 40, 5: 50, 6: 60}\n"
      ]
    },
    {
      "cell_type": "code",
      "metadata": {
        "id": "_z4aLqAbEET1",
        "colab": {
          "base_uri": "https://localhost:8080/"
        },
        "outputId": "2f0051c9-a046-4a10-fbfb-14dd5037e989"
      },
      "source": [
        "d1 = {1:10,2:20}\n",
        "d2 = {3:30,4:40}\n",
        "d3 = {5:50,6:60}\n",
        "d1.update(d2)\n",
        "d1.update(d3)\n",
        "print(d1)"
      ],
      "execution_count": null,
      "outputs": [
        {
          "output_type": "stream",
          "text": [
            "{1: 10, 2: 20, 3: 30, 4: 40, 5: 50, 6: 60}\n"
          ],
          "name": "stdout"
        }
      ]
    },
    {
      "cell_type": "markdown",
      "metadata": {
        "id": "0v48Vqa7FrQh"
      },
      "source": [
        "(7) Write a Python program to check whether an element exists within a tuple. (3 points)"
      ]
    },
    {
      "cell_type": "code",
      "metadata": {
        "id": "7WEmgq-DF2P1",
        "colab": {
          "base_uri": "https://localhost:8080/"
        },
        "outputId": "109138d8-d2bc-4037-c49d-e0abbd5f3218"
      },
      "source": [
        "tuple = (9, 29, 15, 17, 's', 'n')\n",
        "element = 'w'\n",
        "if element in tuple:\n",
        "    print(element,\"The element exists within tuple\")\n",
        "else:\n",
        "    print(element,\"The element does not exist within tuple\")\n"
      ],
      "execution_count": null,
      "outputs": [
        {
          "output_type": "stream",
          "text": [
            "w The element does not exist within tuple\n"
          ],
          "name": "stdout"
        }
      ]
    },
    {
      "cell_type": "markdown",
      "metadata": {
        "id": "vD5PYLMuGga_"
      },
      "source": [
        "(8) Write a Python program to find maximum and the minimum value in a set. (3 points)"
      ]
    },
    {
      "cell_type": "code",
      "metadata": {
        "id": "t0D5kdJUGjjw",
        "colab": {
          "base_uri": "https://localhost:8080/"
        },
        "outputId": "51ed9881-fecc-4284-f3db-5d9997ccda9b"
      },
      "source": [
        "#Using MAX() and MIN() functions\n",
        "set = [2,1,0,-1,18,23,13]\n",
        "print(max(set))\n",
        "print(min(set))"
      ],
      "execution_count": null,
      "outputs": [
        {
          "output_type": "stream",
          "text": [
            "23\n",
            "-1\n"
          ],
          "name": "stdout"
        }
      ]
    },
    {
      "cell_type": "markdown",
      "metadata": {
        "id": "uHkd-y5VhVWC"
      },
      "source": [
        "(9) Write a Python program to randomly divide the students in this class into five groups for term projects, each group should have at least 3 students but no more than 5 students (including 5). Here is the students list: (3 points for extra)\n",
        "\n",
        "studnet_list = ['vmb0067','pc0353','snd0097','yye0005','sg0940','bk0301','rak0120','rrk0058','spk0057','vl0135','nm0547','pn0159',\n",
        "                'msp0174','dd0420','ds0761','rs0850','ss1995','at0739','at0768','mv0299','tv0119','dy0091']"
      ]
    },
    {
      "cell_type": "code",
      "metadata": {
        "id": "3iGbmcOBhTwy"
      },
      "source": [
        "import random\n",
        "student_list = ['vmb0067','pc0353','snd0097','yye0005','sg0940','bk0301','rak0120','rrk0058',\n",
        "                'spk0057','vl0135','nm0547','pn0159', 'msp0174','dd0420','ds0761','rs0850',\n",
        "                'ss1995','at0739','at0768','mv0299','tv0119','dy0091']\n",
        "group_size = []\n",
        "for i in range(5):\n",
        "  group_size.append(random.randint(3,5))\n",
        "\n",
        "if sum(group_size) == len(student_list):\n",
        "  print(group_size)\n",
        "  for j in range(5):\n",
        "    sample_students = random.sample(student_list,group_size[j-1])\n",
        "    student_list = [j for j in student_list if j not in sample_students]\n",
        "    print(\"students\" +str(j+1)+ \" : \",sample_students)\n"
      ],
      "execution_count": 60,
      "outputs": []
    }
  ]
}