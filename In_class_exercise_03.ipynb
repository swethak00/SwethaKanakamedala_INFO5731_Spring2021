{
  "nbformat": 4,
  "nbformat_minor": 0,
  "metadata": {
    "kernelspec": {
      "display_name": "Python 3",
      "language": "python",
      "name": "python3"
    },
    "language_info": {
      "codemirror_mode": {
        "name": "ipython",
        "version": 3
      },
      "file_extension": ".py",
      "mimetype": "text/x-python",
      "name": "python",
      "nbconvert_exporter": "python",
      "pygments_lexer": "ipython3",
      "version": "3.8.5"
    },
    "colab": {
      "name": "In-class-exercise-03.ipynb",
      "provenance": [],
      "toc_visible": true,
      "include_colab_link": true
    }
  },
  "cells": [
    {
      "cell_type": "markdown",
      "metadata": {
        "id": "view-in-github",
        "colab_type": "text"
      },
      "source": [
        "<a href=\"https://colab.research.google.com/github/swethak00/SwethaKanakamedala_INFO5731_Spring2021/blob/main/In_class_exercise_03.ipynb\" target=\"_parent\"><img src=\"https://colab.research.google.com/assets/colab-badge.svg\" alt=\"Open In Colab\"/></a>"
      ]
    },
    {
      "cell_type": "markdown",
      "metadata": {
        "id": "mN6C0nCBb0by"
      },
      "source": [
        "## The third In-class-exercise (9/16/2020, 20 points in total)"
      ]
    },
    {
      "cell_type": "markdown",
      "metadata": {
        "id": "un5aEz6db0b4"
      },
      "source": [
        "The purpose of this exercise is to under users' information needs, then collect the data for analysis."
      ]
    },
    {
      "cell_type": "markdown",
      "metadata": {
        "id": "K2xLOQfHb0b6"
      },
      "source": [
        "Question 1 (8 points): Describe an interesting research question (or practical question) you have in mind, what kind of data should be collected to answer the question(s)? How many data needed for the analysis? The detail steps for collecting and save the data. "
      ]
    },
    {
      "cell_type": "code",
      "metadata": {
        "id": "He0RWFXyb0b8"
      },
      "source": [
        "'''\r\n",
        "NASA EXPOPLANET ARCHIVE\r\n",
        "The NASA Exoplanet Archive is an online astronomicaal exoplanet and steller catelog and data service that collates and cross-correlates astronomical data and information on exoplanets and their host star, and provides tools to work with these data. The archive is dedicated to collecting and serving important public data sets invovled in the search for and characterization of exttrasolar planets and their host stars.\r\n",
        "Here we can compare different aspects of discovery like size of planet vs discovery rate or size of star vs discovered planets relations.\r\n",
        "\r\n",
        "The data that are to be collected to answer the question is stellar parameters such as positions, magnitudes and temperatures; exoplanet parameters such as masses and orbital; discovery/characterization data such as published radial velocity curves, photometric light curves, images and spectra.\r\n",
        "\r\n",
        "We need about 500 reviews to get results for this research.\r\n",
        "\r\n",
        "Steps for collecting and save the sata are:\r\n",
        "I have used urllib request to extract the file.\r\n",
        "I have extracted the file and saved it in the file which has the format of csv.\r\n",
        "I have print the no of rows that I have collected from the site.\r\n",
        "'''"
      ],
      "execution_count": null,
      "outputs": []
    },
    {
      "cell_type": "markdown",
      "metadata": {
        "id": "CzNhXiq6b0b9"
      },
      "source": [
        "Question 2 (12 points): Write python code to collect 500 items of the data you plan to collect above."
      ]
    },
    {
      "cell_type": "code",
      "metadata": {
        "id": "Z2M9yCfZb0b_",
        "colab": {
          "base_uri": "https://localhost:8080/"
        },
        "outputId": "67557e4b-c763-46c4-a466-1836bb4212c7"
      },
      "source": [
        "# You code here (Please add comments in the code):\n",
        "\n",
        "import urllib.request\n",
        "import csv\n",
        "url='https://exoplanetarchive.ipac.caltech.edu/cgi-bin/nstedAPI/nph-nstedAPI?table=exoplanets&select=st_mass,st_rad,pl_rade,pl_telescope,pl_status&order=st_rad'\n",
        "\n",
        "with urllib.request.urlopen(url) as testfile, open('./dataset.csv', 'w') as f:\n",
        "    f.write(testfile.read().decode().strip())\n",
        "\n",
        "file = open(\"./dataset.csv\")\n",
        "reader = csv.reader(file)\n",
        "r = file.readline()\n",
        "print(\"Rows of the CSV file:\" +str(r))\n",
        "lines= len(list(reader))\n",
        "print(\"No of rows(data) collected: %d\" %(lines))\n"
      ],
      "execution_count": 2,
      "outputs": [
        {
          "output_type": "stream",
          "text": [
            "Rows of the CSV file:st_mass,st_rad,pl_rade,pl_telescope,pl_status\n",
            "\n",
            "No of rows(data) collected: 4341\n"
          ],
          "name": "stdout"
        }
      ]
    }
  ]
}