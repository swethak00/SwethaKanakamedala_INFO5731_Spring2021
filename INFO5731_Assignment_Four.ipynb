{
  "nbformat": 4,
  "nbformat_minor": 0,
  "metadata": {
    "colab": {
      "name": " INFO5731_Assignment_Four.ipynb",
      "provenance": [],
      "collapsed_sections": [],
      "include_colab_link": true
    },
    "kernelspec": {
      "display_name": "Python 3",
      "language": "python",
      "name": "python3"
    },
    "language_info": {
      "codemirror_mode": {
        "name": "ipython",
        "version": 3
      },
      "file_extension": ".py",
      "mimetype": "text/x-python",
      "name": "python",
      "nbconvert_exporter": "python",
      "pygments_lexer": "ipython3",
      "version": "3.7.4"
    }
  },
  "cells": [
    {
      "cell_type": "markdown",
      "metadata": {
        "id": "view-in-github",
        "colab_type": "text"
      },
      "source": [
        "<a href=\"https://colab.research.google.com/github/swethak00/SwethaKanakamedala_INFO5731_Spring2021/blob/main/INFO5731_Assignment_Four.ipynb\" target=\"_parent\"><img src=\"https://colab.research.google.com/assets/colab-badge.svg\" alt=\"Open In Colab\"/></a>"
      ]
    },
    {
      "cell_type": "markdown",
      "metadata": {
        "id": "USSdXHuqnwv9"
      },
      "source": [
        "# **INFO5731 Assignment Four**\n",
        "\n",
        "In this assignment, you are required to conduct topic modeling, sentiment analysis, and regression analysis."
      ]
    },
    {
      "cell_type": "markdown",
      "metadata": {
        "id": "YWxodXh5n4xF"
      },
      "source": [
        "# **Question 1: Topic Modeling**"
      ]
    },
    {
      "cell_type": "markdown",
      "metadata": {
        "id": "ev5tD5Hw-vAy"
      },
      "source": [
        "# **Reading Data**"
      ]
    },
    {
      "cell_type": "code",
      "metadata": {
        "id": "PuFPKhC0m1fd"
      },
      "source": [
        "import pandas as pd\n",
        "data = pd.read_csv(\"/content/joker_reviews.csv\")\n",
        "data = data.head(10000)"
      ],
      "execution_count": null,
      "outputs": []
    },
    {
      "cell_type": "markdown",
      "metadata": {
        "id": "lA-Y8C9j-51q"
      },
      "source": [
        "# **Data Cleaning**"
      ]
    },
    {
      "cell_type": "code",
      "metadata": {
        "id": "JZdxl8DBwcMV"
      },
      "source": [
        "from nltk.tokenize import RegexpTokenizer\n",
        "from stop_words import get_stop_words\n",
        "from nltk.stem.porter import PorterStemmer\n",
        "tokenizer = RegexpTokenizer(r'\\w+')\n",
        "en_stop = get_stop_words('en')\n",
        "p_stemmer = PorterStemmer()"
      ],
      "execution_count": null,
      "outputs": []
    },
    {
      "cell_type": "code",
      "metadata": {
        "id": "1nbqy-oTwuv8"
      },
      "source": [
        "data['Lower Case'] = data['text'].apply(lambda x: \" \".join(x.lower() for x in str(x).split()))\n",
        "data['Tokenization'] = data['Lower Case'].apply(lambda x: tokenizer.tokenize(x))\n",
        "data['Tokens'] = data['Tokenization'].apply(lambda x: [i for i in x if not i in en_stop])\n",
        "data['Stemming'] = data['Tokens'].apply(lambda x: [p_stemmer.stem(i) for i in x])"
      ],
      "execution_count": null,
      "outputs": []
    },
    {
      "cell_type": "code",
      "metadata": {
        "id": "Uq2H7SD70wB4"
      },
      "source": [
        "texts = []\n",
        "for line in data['Stemming']:\n",
        "  texts.append(line)"
      ],
      "execution_count": null,
      "outputs": []
    },
    {
      "cell_type": "markdown",
      "metadata": {
        "id": "B-cJBt_s-9Pz"
      },
      "source": [
        "# **Bigrams and Trigrams**"
      ]
    },
    {
      "cell_type": "code",
      "metadata": {
        "colab": {
          "base_uri": "https://localhost:8080/"
        },
        "id": "dpHrTkjk0hq1",
        "outputId": "e93eec46-f9a0-4f27-84c4-6d0e5cc7b681"
      },
      "source": [
        "from gensim import corpora, models\n",
        "bigram = models.Phrases(texts, min_count=5, threshold=100)\n",
        "trigram = models.Phrases(bigram[texts], threshold=100)\n",
        "bigram_mod = models.phrases.Phraser(bigram)\n",
        "trigram_mod = models.phrases.Phraser(trigram)\n",
        "print(trigram_mod[bigram_mod[texts[0]]])"
      ],
      "execution_count": null,
      "outputs": [
        {
          "output_type": "stream",
          "text": [
            "/usr/local/lib/python3.6/dist-packages/gensim/models/phrases.py:598: UserWarning: For a faster implementation, use the gensim.models.phrases.Phraser class\n",
            "  warnings.warn(\"For a faster implementation, use the gensim.models.phrases.Phraser class\")\n"
          ],
          "name": "stderr"
        },
        {
          "output_type": "stream",
          "text": [
            "['someon', 'work', 'mani', 'museum', 'eager', 'visit', 'galleri', 'recent', 'trip', 'la_vega', 'saw', 'show', 'infam', 'egg', 'hous', 'faberg', 'virginia', 'museum', 'fine', 'art', 'vmfa', 'knew', 'go', 'tuck_away', 'near', 'gelateria', 'garden', 'galleri', 'pretti', 'much', 'hidden', 'view', 's', 'real_estat_agent', 'call', 'cozi', 'charm', 'basic', 'euphem', 'small', 'said', 'can', 'still', 'see', 'wonder', 'art_galleri', 'size', 'two', 's', 'ask', 'let', 'tell', 'price', 'rel', 'inexpens', 'la_vega', 'attract', 'complet', 'top', 'space', 'amount', 'art', 'can', 'fit', 'bit', 'much', 's', 'kid', 'friendli', 'serious', 'don', 't', 'bring', 'secur', 'train', 'properli', 'show', 'curat', 'design', 'team', 'collabor', 'exhibit', 'definit', 'flow', 'mean', 'visitor', 'view', 'art', 'certain', 'sequenc', 'whether', 'histor', 'period', 'cultur', 'signific', 'audio', 'guid', 'usual', 'develop', 'arriv', 'galleri', 'tell', 'start', 'secur', 'certainli', 'help', 'told', 'just', 'look', 'around', 'whatev', 'fine', 'institut', 'find', 'lack', 'knowledg', 'respect', 'art', 'appal']\n"
          ],
          "name": "stdout"
        }
      ]
    },
    {
      "cell_type": "code",
      "metadata": {
        "id": "v4ARsu4p1pSR"
      },
      "source": [
        "def make_bigrams(texts):\n",
        "    return [bigram_mod[doc] for doc in texts]"
      ],
      "execution_count": null,
      "outputs": []
    },
    {
      "cell_type": "code",
      "metadata": {
        "id": "NNnNhz6b1rdN"
      },
      "source": [
        "def make_trigrams(texts):\n",
        "    return [trigram_mod[bigram_mod[doc]] for doc in texts]"
      ],
      "execution_count": null,
      "outputs": []
    },
    {
      "cell_type": "code",
      "metadata": {
        "id": "VHDUGXON1xWi"
      },
      "source": [
        "def lemmatization(texts, allowed_postags=['NOUN', 'ADJ', 'VERB', 'ADV']):\n",
        "    texts_out = []\n",
        "    for sent in texts:\n",
        "        doc = nlp(\" \".join(sent)) \n",
        "        texts_out.append([token.lemma_ for token in doc if token.pos_ in allowed_postags])\n",
        "    return texts_out"
      ],
      "execution_count": null,
      "outputs": []
    },
    {
      "cell_type": "code",
      "metadata": {
        "colab": {
          "base_uri": "https://localhost:8080/"
        },
        "id": "L8RiPV0K2vsK",
        "outputId": "26490e49-a787-4396-befa-bb22fd17bb1c"
      },
      "source": [
        "import spacy\n",
        "data_words_bigrams = make_bigrams(texts)\n",
        "nlp = spacy.load('en', disable=['parser', 'ner'])\n",
        "data_lemmatized = lemmatization(data_words_bigrams, allowed_postags=['NOUN', 'ADJ', 'VERB', 'ADV'])\n",
        "print(data_lemmatized[:1])"
      ],
      "execution_count": null,
      "outputs": [
        {
          "output_type": "stream",
          "text": [
            "[['someon', 'eager', 'visit', 'recent', 'trip', 'see', 'show', 'infam', 'egg', 'hous', 'fine', 'art', 'vmfa', 'know', 'go', 'gelateria', 'garden', 'galleri', 'pretti', 'much', 'hidden', 'view', 'agent', 'call', 'cozi', 'charm', 'basic', 'small', 'say', 'can', 'still', 'see', 'wonder', 'size', 's', 'ask', 'let', 'tell', 'price', 'complet', 'top', 'space', 'amount', 'art', 'can', 'fit', 'bit', 'much', 'kid', 'serious', 'bring', 'train', 'design', 'team', 'collabor', 'exhibit', 'definit', 'flow', 'visitor', 'view', 'art', 'certain', 'sequenc', 'histor', 'period', 'audio', 'usual', 'develop', 'help', 'tell', 'just', 'look', 'fine', 'institut', 'find', 'lack', 'respect']]\n"
          ],
          "name": "stdout"
        }
      ]
    },
    {
      "cell_type": "markdown",
      "metadata": {
        "id": "9OJIvxTV_BzC"
      },
      "source": [
        "# **Preparing Corpus and Dictionary**"
      ]
    },
    {
      "cell_type": "code",
      "metadata": {
        "colab": {
          "base_uri": "https://localhost:8080/"
        },
        "id": "vOqMoKR3yGmx",
        "outputId": "079feb47-b27b-4ac0-f79b-95342aec640a"
      },
      "source": [
        "id2word = corpora.Dictionary(data_lemmatized)\n",
        "texts = data_lemmatized\n",
        "corpus = [id2word.doc2bow(text) for text in texts]\n",
        "print(corpus[:1])"
      ],
      "execution_count": null,
      "outputs": [
        {
          "output_type": "stream",
          "text": [
            "[[(0, 1), (1, 1), (2, 3), (3, 1), (4, 1), (5, 1), (6, 1), (7, 1), (8, 1), (9, 2), (10, 1), (11, 1), (12, 1), (13, 1), (14, 1), (15, 1), (16, 1), (17, 1), (18, 1), (19, 1), (20, 1), (21, 1), (22, 2), (23, 1), (24, 1), (25, 1), (26, 1), (27, 1), (28, 1), (29, 1), (30, 1), (31, 1), (32, 1), (33, 1), (34, 1), (35, 1), (36, 1), (37, 1), (38, 1), (39, 1), (40, 1), (41, 2), (42, 1), (43, 1), (44, 1), (45, 1), (46, 1), (47, 1), (48, 1), (49, 2), (50, 1), (51, 1), (52, 1), (53, 1), (54, 1), (55, 1), (56, 1), (57, 1), (58, 1), (59, 2), (60, 1), (61, 1), (62, 1), (63, 1), (64, 2), (65, 1), (66, 1), (67, 1), (68, 1)]]\n"
          ],
          "name": "stdout"
        }
      ]
    },
    {
      "cell_type": "code",
      "metadata": {
        "colab": {
          "base_uri": "https://localhost:8080/",
          "height": 35
        },
        "id": "LCfhF-wE324I",
        "outputId": "ed457c94-55de-4999-9fd4-2712ab2169c2"
      },
      "source": [
        "id2word[0]"
      ],
      "execution_count": null,
      "outputs": [
        {
          "output_type": "execute_result",
          "data": {
            "application/vnd.google.colaboratory.intrinsic+json": {
              "type": "string"
            },
            "text/plain": [
              "'agent'"
            ]
          },
          "metadata": {
            "tags": []
          },
          "execution_count": 18
        }
      ]
    },
    {
      "cell_type": "code",
      "metadata": {
        "colab": {
          "base_uri": "https://localhost:8080/"
        },
        "id": "vIVNxeX637TF",
        "outputId": "ffa0ed7d-1215-41bf-fd35-aa97ce6c3f00"
      },
      "source": [
        "[[(id2word[id], freq) for id, freq in cp] for cp in corpus[:1]]"
      ],
      "execution_count": null,
      "outputs": [
        {
          "output_type": "execute_result",
          "data": {
            "text/plain": [
              "[[('agent', 1),\n",
              "  ('amount', 1),\n",
              "  ('art', 3),\n",
              "  ('ask', 1),\n",
              "  ('audio', 1),\n",
              "  ('basic', 1),\n",
              "  ('bit', 1),\n",
              "  ('bring', 1),\n",
              "  ('call', 1),\n",
              "  ('can', 2),\n",
              "  ('certain', 1),\n",
              "  ('charm', 1),\n",
              "  ('collabor', 1),\n",
              "  ('complet', 1),\n",
              "  ('cozi', 1),\n",
              "  ('definit', 1),\n",
              "  ('design', 1),\n",
              "  ('develop', 1),\n",
              "  ('eager', 1),\n",
              "  ('egg', 1),\n",
              "  ('exhibit', 1),\n",
              "  ('find', 1),\n",
              "  ('fine', 2),\n",
              "  ('fit', 1),\n",
              "  ('flow', 1),\n",
              "  ('galleri', 1),\n",
              "  ('garden', 1),\n",
              "  ('gelateria', 1),\n",
              "  ('go', 1),\n",
              "  ('help', 1),\n",
              "  ('hidden', 1),\n",
              "  ('histor', 1),\n",
              "  ('hous', 1),\n",
              "  ('infam', 1),\n",
              "  ('institut', 1),\n",
              "  ('just', 1),\n",
              "  ('kid', 1),\n",
              "  ('know', 1),\n",
              "  ('lack', 1),\n",
              "  ('let', 1),\n",
              "  ('look', 1),\n",
              "  ('much', 2),\n",
              "  ('period', 1),\n",
              "  ('pretti', 1),\n",
              "  ('price', 1),\n",
              "  ('recent', 1),\n",
              "  ('respect', 1),\n",
              "  ('s', 1),\n",
              "  ('say', 1),\n",
              "  ('see', 2),\n",
              "  ('sequenc', 1),\n",
              "  ('serious', 1),\n",
              "  ('show', 1),\n",
              "  ('size', 1),\n",
              "  ('small', 1),\n",
              "  ('someon', 1),\n",
              "  ('space', 1),\n",
              "  ('still', 1),\n",
              "  ('team', 1),\n",
              "  ('tell', 2),\n",
              "  ('top', 1),\n",
              "  ('train', 1),\n",
              "  ('trip', 1),\n",
              "  ('usual', 1),\n",
              "  ('view', 2),\n",
              "  ('visit', 1),\n",
              "  ('visitor', 1),\n",
              "  ('vmfa', 1),\n",
              "  ('wonder', 1)]]"
            ]
          },
          "metadata": {
            "tags": []
          },
          "execution_count": 19
        }
      ]
    },
    {
      "cell_type": "markdown",
      "metadata": {
        "id": "Z7IYl6x6_I4k"
      },
      "source": [
        "# **LDA**"
      ]
    },
    {
      "cell_type": "code",
      "metadata": {
        "id": "4Q-h8373ziS6"
      },
      "source": [
        "lda_model = models.ldamodel.LdaModel(corpus=corpus,\n",
        "                                           id2word=id2word,\n",
        "                                           num_topics = 20, \n",
        "                                           random_state=100,\n",
        "                                           update_every=1,\n",
        "                                           chunksize=100,\n",
        "                                           passes=10,\n",
        "                                           alpha='auto',\n",
        "                                           per_word_topics=True)"
      ],
      "execution_count": null,
      "outputs": []
    },
    {
      "cell_type": "code",
      "metadata": {
        "colab": {
          "base_uri": "https://localhost:8080/"
        },
        "id": "_WLkOiLe36ok",
        "outputId": "696bc94f-ebed-4c42-c316-236bdfea524d"
      },
      "source": [
        "from pprint import pprint\n",
        "pprint(lda_model.print_topics())\n",
        "doc_lda = lda_model[corpus]"
      ],
      "execution_count": null,
      "outputs": [
        {
          "output_type": "stream",
          "text": [
            "[(0,\n",
            "  '0.136*\"room\" + 0.091*\"stay\" + 0.059*\"insid\" + 0.055*\"hotel\" + 0.042*\"wasn\" '\n",
            "  '+ 0.030*\"weekend\" + 0.027*\"crowd\" + 0.020*\"cake\" + 0.020*\"casino\" + '\n",
            "  '0.018*\"bathroom\"'),\n",
            " (1,\n",
            "  '0.040*\"go\" + 0.039*\"good\" + 0.035*\"place\" + 0.031*\"time\" + 0.030*\"get\" + '\n",
            "  '0.027*\"come\" + 0.025*\"great\" + 0.024*\"will\" + 0.023*\"just\" + 0.022*\"make\"'),\n",
            " (2,\n",
            "  '0.111*\"store\" + 0.083*\"dog\" + 0.058*\"understand\" + 0.042*\"mention\" + '\n",
            "  '0.028*\"honestli\" + 0.025*\"tire\" + 0.024*\"mani\" + 0.022*\"smell\" + '\n",
            "  '0.018*\"afternoon\" + 0.017*\"cloth\"'),\n",
            " (3,\n",
            "  '0.137*\"special\" + 0.062*\"play\" + 0.033*\"pricey\" + 0.028*\"event\" + '\n",
            "  '0.026*\"doctor\" + 0.023*\"fee\" + 0.022*\"straight\" + 0.018*\"bone\" + '\n",
            "  '0.017*\"child\" + 0.016*\"detail\"'),\n",
            " (4,\n",
            "  '0.035*\"hold\" + 0.034*\"pool\" + 0.032*\"offic\" + 0.028*\"origin\" + '\n",
            "  '0.025*\"follow\" + 0.020*\"young\" + 0.019*\"corner\" + 0.018*\"wear\" + '\n",
            "  '0.017*\"cashier\" + 0.017*\"forev\"'),\n",
            " (5,\n",
            "  '0.023*\"hear\" + 0.022*\"deal\" + 0.016*\"impress\" + 0.015*\"soon\" + '\n",
            "  '0.015*\"burger\" + 0.015*\"local\" + 0.014*\"birthday\" + 0.013*\"cost\" + '\n",
            "  '0.012*\"cold\" + 0.011*\"product\"'),\n",
            " (6,\n",
            "  '0.164*\"price\" + 0.074*\"clean\" + 0.068*\"last\" + 0.065*\"stop\" + '\n",
            "  '0.063*\"reason\" + 0.049*\"week\" + 0.048*\"buy\" + 0.040*\"roll\" + 0.025*\"wine\" + '\n",
            "  '0.023*\"real\"'),\n",
            " (7,\n",
            "  '0.102*\"do\" + 0.063*\"job\" + 0.051*\"nail\" + 0.036*\"fix\" + 0.035*\"expen\" + '\n",
            "  '0.033*\"door\" + 0.027*\"mean\" + 0.023*\"question\" + 0.023*\"abl\" + '\n",
            "  '0.022*\"wish\"'),\n",
            " (8,\n",
            "  '0.107*\"work\" + 0.091*\"call\" + 0.081*\"day\" + 0.061*\"custom\" + 0.033*\"shop\" + '\n",
            "  '0.032*\"care\" + 0.026*\"plea\" + 0.021*\"phone\" + 0.021*\"charg\" + '\n",
            "  '0.019*\"regular\"'),\n",
            " (9,\n",
            "  '0.088*\"show\" + 0.077*\"car\" + 0.063*\"problem\" + 0.031*\"chine\" + 0.025*\"drop\" '\n",
            "  '+ 0.025*\"cover\" + 0.022*\"contact\" + 0.021*\"sound\" + 0.019*\"pull\" + '\n",
            "  '0.018*\"absolut\"'),\n",
            " (10,\n",
            "  '0.057*\"offer\" + 0.055*\"away\" + 0.051*\"free\" + 0.033*\"parti\" + 0.032*\"talk\" '\n",
            "  '+ 0.031*\"extra\" + 0.031*\"d\" + 0.030*\"girl\" + 0.028*\"sandwich\" + '\n",
            "  '0.026*\"chip\"'),\n",
            " (11,\n",
            "  '0.095*\"meat\" + 0.062*\"fish\" + 0.051*\"steak\" + 0.041*\"slow\" + 0.038*\"group\" '\n",
            "  '+ 0.037*\"cour\" + 0.036*\"stand\" + 0.029*\"serious\" + 0.027*\"wing\" + '\n",
            "  '0.024*\"die\"'),\n",
            " (12,\n",
            "  '0.179*\"pizza\" + 0.094*\"must\" + 0.029*\"son\" + 0.028*\"grow\" + 0.027*\"break\" + '\n",
            "  '0.022*\"spinach\" + 0.021*\"despit\" + 0.021*\"pre\" + 0.020*\"heart\" + '\n",
            "  '0.019*\"mine\"'),\n",
            " (13,\n",
            "  '0.082*\"chee\" + 0.052*\"kid\" + 0.032*\"basic\" + 0.027*\"eye\" + 0.026*\"buffet\" + '\n",
            "  '0.025*\"green\" + 0.023*\"veggi\" + 0.022*\"pasta\" + 0.020*\"team\" + '\n",
            "  '0.020*\"lack\"'),\n",
            " (14,\n",
            "  '0.109*\"thank\" + 0.081*\"beer\" + 0.076*\"hous\" + 0.048*\"cool\" + 0.045*\"treat\" '\n",
            "  '+ 0.040*\"everi\" + 0.037*\"short\" + 0.029*\"sell\" + 0.025*\"relax\" + '\n",
            "  '0.024*\"consid\"'),\n",
            " (15,\n",
            "  '0.151*\"food\" + 0.115*\"order\" + 0.052*\"eat\" + 0.039*\"delici\" + 0.038*\"alway\" '\n",
            "  '+ 0.032*\"tabl\" + 0.032*\"fresh\" + 0.028*\"side\" + 0.026*\"lunch\" + '\n",
            "  '0.025*\"menu\"'),\n",
            " (16,\n",
            "  '0.082*\"say\" + 0.056*\"tell\" + 0.056*\"never\" + 0.050*\"know\" + 0.044*\"ask\" + '\n",
            "  '0.033*\"help\" + 0.028*\"walk\" + 0.024*\"person\" + 0.021*\"let\" + 0.021*\"put\"'),\n",
            " (17,\n",
            "  '0.063*\"chicken\" + 0.058*\"flavor\" + 0.055*\"tast\" + 0.051*\"sauc\" + '\n",
            "  '0.044*\"dish\" + 0.044*\"sweet\" + 0.036*\"item\" + 0.029*\"quick\" + '\n",
            "  '0.028*\"breakfast\" + 0.026*\"soup\"'),\n",
            " (18,\n",
            "  '0.107*\"take\" + 0.064*\"see\" + 0.044*\"need\" + 0.038*\"use\" + 0.036*\"pay\" + '\n",
            "  '0.035*\"now\" + 0.031*\"hour\" + 0.030*\"new\" + 0.029*\"long\" + 0.027*\"year\"'),\n",
            " (19,\n",
            "  '0.062*\"decent\" + 0.051*\"sever\" + 0.045*\"game\" + 0.043*\"plan\" + '\n",
            "  '0.038*\"liter\" + 0.034*\"prefer\" + 0.033*\"highli_recommend\" + 0.027*\"choose\" '\n",
            "  '+ 0.026*\"choo\" + 0.026*\"noth\"')]\n"
          ],
          "name": "stdout"
        }
      ]
    },
    {
      "cell_type": "code",
      "metadata": {
        "colab": {
          "base_uri": "https://localhost:8080/"
        },
        "id": "YyAwfd-447yp",
        "outputId": "ddd25799-33c9-49d3-cc6e-fe57fbdc2aab"
      },
      "source": [
        "from gensim.models import CoherenceModel\n",
        "print('\\nPerplexity: ', lda_model.log_perplexity(corpus))\n",
        "coherence_model_lda = CoherenceModel(model=lda_model, texts=data_lemmatized, dictionary=id2word, coherence='c_v')\n",
        "coherence_lda = coherence_model_lda.get_coherence()\n",
        "print('\\nCoherence Score: ', coherence_lda)"
      ],
      "execution_count": null,
      "outputs": [
        {
          "output_type": "stream",
          "text": [
            "\n",
            "Perplexity:  -7.172431360137933\n",
            "\n",
            "Coherence Score:  0.35519954075493354\n"
          ],
          "name": "stdout"
        }
      ]
    },
    {
      "cell_type": "markdown",
      "metadata": {
        "id": "wGI9DXwD_NVL"
      },
      "source": [
        "# **Visualization using pyLDAvis**"
      ]
    },
    {
      "cell_type": "code",
      "metadata": {
        "colab": {
          "base_uri": "https://localhost:8080/",
          "height": 881
        },
        "id": "K9lXN_hQ5DLy",
        "outputId": "e2b39410-3dc5-4850-a8ee-1c86e2935bf1"
      },
      "source": [
        "import pyLDAvis\n",
        "import pyLDAvis.gensim\n",
        "import matplotlib.pyplot as plt\n",
        "%matplotlib inline\n",
        "pyLDAvis.enable_notebook()\n",
        "vis = pyLDAvis.gensim.prepare(lda_model, corpus, id2word)\n",
        "vis"
      ],
      "execution_count": null,
      "outputs": [
        {
          "output_type": "execute_result",
          "data": {
            "text/html": [
              "\n",
              "<link rel=\"stylesheet\" type=\"text/css\" href=\"https://cdn.rawgit.com/bmabey/pyLDAvis/files/ldavis.v1.0.0.css\">\n",
              "\n",
              "\n",
              "<div id=\"ldavis_el571402570280710001155601314\"></div>\n",
              "<script type=\"text/javascript\">\n",
              "\n",
              "var ldavis_el571402570280710001155601314_data = {\"mdsDat\": {\"x\": [-0.34682995159122765, -0.17013230572250115, -0.2153771959501649, -0.13069019801564213, -0.02548237920749969, -0.023084916327495052, -0.015047894440118989, 0.00965966673789176, 0.014071089419255105, 0.031070912407488955, 0.06972572038270095, 0.06392048083162606, 0.06739879699703874, 0.0878010377006728, 0.08388016027952935, 0.09177647757846702, 0.10187035810863249, 0.09795654389083364, 0.10399533293279141, 0.10351826398772095], \"y\": [0.18270548311768547, -0.3367846237174674, 0.20327483847282873, -0.17918233785447413, -0.04134847565103195, -0.04826505220347041, -0.0338213030256427, -0.01500954728135365, -0.018494337147105442, 0.02822311944781334, 0.020244580031638083, 0.01966561466368426, 0.017541404300292853, 0.024284627925401855, 0.024223066934340304, 0.02885934407825932, 0.030463730619026217, 0.030217515718159154, 0.03187652778411594, 0.031325823787300554], \"topics\": [1, 2, 3, 4, 5, 6, 7, 8, 9, 10, 11, 12, 13, 14, 15, 16, 17, 18, 19, 20], \"cluster\": [1, 1, 1, 1, 1, 1, 1, 1, 1, 1, 1, 1, 1, 1, 1, 1, 1, 1, 1, 1], \"Freq\": [41.02889619380248, 8.524674172570979, 7.9186933058002795, 6.8398433401446646, 4.90116860181788, 3.7284242525101075, 3.6424456864890598, 3.102657491989297, 2.902019386108451, 1.989538133337763, 1.8943577988299758, 1.8846966737370425, 1.8339776856266081, 1.6330381144308994, 1.600419955283991, 1.5219674969379364, 1.3348583966463452, 1.3009837363132417, 1.2687222678504344, 1.1486173097725687]}, \"tinfo\": {\"Term\": [\"food\", \"order\", \"take\", \"price\", \"say\", \"go\", \"good\", \"work\", \"place\", \"see\", \"never\", \"tell\", \"time\", \"call\", \"eat\", \"get\", \"room\", \"know\", \"day\", \"come\", \"pizza\", \"ask\", \"great\", \"will\", \"just\", \"delici\", \"need\", \"alway\", \"make\", \"chicken\", \"go\", \"place\", \"time\", \"get\", \"come\", \"great\", \"will\", \"just\", \"make\", \"can\", \"back\", \"also\", \"love\", \"wait\", \"look\", \"drink\", \"well\", \"first\", \"think\", \"find\", \"nice\", \"tri\", \"realli\", \"definit\", \"much\", \"staff\", \"thing\", \"feel\", \"t\", \"check\", \"good\", \"even\", \"give\", \"want\", \"food\", \"order\", \"eat\", \"delici\", \"alway\", \"fresh\", \"side\", \"lunch\", \"menu\", \"meal\", \"dinner\", \"hot\", \"worth\", \"owner\", \"salad\", \"portion\", \"awesom\", \"probabl\", \"plate\", \"second\", \"fast\", \"half\", \"style\", \"husband\", \"bread\", \"tea\", \"dessert\", \"add\", \"warm\", \"twice\", \"option\", \"tabl\", \"huge\", \"say\", \"tell\", \"ask\", \"help\", \"person\", \"let\", \"put\", \"return\", \"leave\", \"water\", \"today\", \"guy\", \"later\", \"cut\", \"name\", \"final\", \"hand\", \"hair\", \"pick\", \"move\", \"set\", \"anoth\", \"complet\", \"ladi\", \"fine\", \"wife\", \"someon\", \"receiv\", \"speak\", \"front\", \"walk\", \"never\", \"know\", \"want\", \"give\", \"need\", \"use\", \"pay\", \"now\", \"hour\", \"new\", \"year\", \"review\", \"run\", \"old\", \"line\", \"money\", \"less\", \"part\", \"wrong\", \"drive\", \"see\", \"turn\", \"light\", \"appoint\", \"trip\", \"fact\", \"nee\", \"finish\", \"would\", \"park\", \"other\", \"note\", \"anyon\", \"read\", \"take\", \"long\", \"almost\", \"hear\", \"deal\", \"impress\", \"soon\", \"burger\", \"local\", \"birthday\", \"cost\", \"cold\", \"product\", \"sale\", \"floor\", \"m\", \"rest\", \"low\", \"ice\", \"readi\", \"complain\", \"window\", \"bill\", \"avoid\", \"consist\", \"addit\", \"everyon\", \"allow\", \"mom\", \"casual\", \"truck\", \"split\", \"base\", \"chicken\", \"flavor\", \"tast\", \"sauc\", \"dish\", \"sweet\", \"item\", \"quick\", \"breakfast\", \"soup\", \"egg\", \"restaur\", \"waiter\", \"pork\", \"amount\", \"beef\", \"pack\", \"perfectli\", \"season\", \"shrimp\", \"potato\", \"hit\", \"present\", \"onion\", \"downtown\", \"fan\", \"ton\", \"qualiti\", \"purcha\", \"piec\", \"work\", \"call\", \"day\", \"custom\", \"shop\", \"care\", \"plea\", \"phone\", \"charg\", \"regular\", \"month\", \"send\", \"profession\", \"due\", \"card\", \"number\", \"inform\", \"request\", \"process\", \"respon\", \"answer\", \"email\", \"discuss\", \"upset\", \"pain\", \"gift\", \"happen\", \"client\", \"account\", \"refund\", \"week\", \"offer\", \"away\", \"free\", \"parti\", \"talk\", \"extra\", \"d\", \"girl\", \"sandwich\", \"chip\", \"reserv\", \"extrem\", \"gener\", \"rude\", \"poor\", \"book\", \"bite\", \"italian\", \"level\", \"rush\", \"face\", \"ad\", \"slice\", \"noodl\", \"build\", \"counter\", \"throw\", \"corn\", \"suck\", \"crust\", \"price\", \"clean\", \"last\", \"stop\", \"reason\", \"buy\", \"roll\", \"wine\", \"real\", \"list\", \"write\", \"true\", \"spici\", \"afford\", \"summer\", \"discount\", \"class\", \"shoot\", \"medium\", \"compliment\", \"sampl\", \"import\", \"gem\", \"instruct\", \"romant\", \"mini\", \"ayc\", \"girlfriend\", \"regret\", \"tuna\", \"week\", \"room\", \"stay\", \"insid\", \"hotel\", \"wasn\", \"weekend\", \"crowd\", \"cake\", \"casino\", \"bathroom\", \"view\", \"beauti\", \"modern\", \"suit\", \"shower\", \"coupon\", \"excel\", \"quickli\", \"fanci\", \"tradit\", \"strip\", \"cream\", \"diner\", \"downsid\", \"salt\", \"concept\", \"sleep\", \"martini\", \"lobbi\", \"court\", \"night\", \"show\", \"car\", \"problem\", \"chine\", \"drop\", \"cover\", \"contact\", \"sound\", \"pull\", \"absolut\", \"worker\", \"beat\", \"begin\", \"pass\", \"lobster\", \"smoke\", \"patio\", \"establish\", \"none\", \"section\", \"hostess\", \"welcom\", \"deserv\", \"posit\", \"app\", \"perhap\", \"typic\", \"dealership\", \"hype\", \"lemon\", \"do\", \"job\", \"nail\", \"fix\", \"expen\", \"door\", \"mean\", \"question\", \"abl\", \"wish\", \"lose\", \"world\", \"train\", \"foot\", \"anyway\", \"gym\", \"station\", \"entir\", \"shirt\", \"salon\", \"third\", \"moment\", \"skin\", \"quot\", \"effort\", \"spa\", \"alcohol\", \"access\", \"confu\", \"talent\", \"meat\", \"fish\", \"steak\", \"slow\", \"group\", \"cour\", \"stand\", \"serious\", \"wing\", \"die\", \"meet\", \"brunch\", \"solid\", \"dri\", \"touch\", \"limit\", \"fair\", \"weird\", \"sugar\", \"biscuit\", \"ve\", \"artist\", \"overcook\", \"rock\", \"adjust\", \"hadn\", \"bacon\", \"ruin\", \"canyon\", \"batter\", \"chee\", \"kid\", \"basic\", \"eye\", \"buffet\", \"green\", \"veggi\", \"pasta\", \"team\", \"lack\", \"thick\", \"sour\", \"spice\", \"black\", \"art\", \"certain\", \"butter\", \"tender\", \"tomato\", \"version\", \"cozi\", \"somewhat\", \"theater\", \"anywher\", \"whatev\", \"skip\", \"decor\", \"greasi\", \"respect\", \"salti\", \"thank\", \"beer\", \"hous\", \"cool\", \"treat\", \"everi\", \"short\", \"sell\", \"relax\", \"consid\", \"dip\", \"raman\", \"cute\", \"driver\", \"longer\", \"system\", \"block\", \"morn\", \"screen\", \"safe\", \"entertain\", \"mood\", \"movi\", \"flight\", \"bf\", \"popcorn\", \"soggi\", \"somehow\", \"dive\", \"ambienc\", \"hold\", \"pool\", \"offic\", \"origin\", \"follow\", \"young\", \"corner\", \"wear\", \"cashier\", \"forev\", \"result\", \"doesn\", \"didn\", \"trust\", \"situat\", \"desk\", \"choic\", \"bike\", \"folk\", \"exact\", \"push\", \"frequent\", \"ring\", \"hole\", \"fear\", \"public\", \"support\", \"natur\", \"dream\", \"fail\", \"decent\", \"sever\", \"game\", \"plan\", \"liter\", \"prefer\", \"highli_recommend\", \"choose\", \"choo\", \"noth\", \"lol\", \"pictur\", \"cafe\", \"quiet\", \"paper\", \"perform\", \"non\", \"apart\", \"uncomfort\", \"stick\", \"garlic\", \"unit\", \"bug\", \"okay\", \"hide\", \"assist\", \"bedroom\", \"fulli\", \"former\", \"worst\", \"store\", \"dog\", \"understand\", \"mention\", \"honestli\", \"tire\", \"mani\", \"smell\", \"afternoon\", \"cloth\", \"yesterday\", \"raw\", \"accept\", \"shock\", \"mexican\", \"privat\", \"lie\", \"simpli\", \"road\", \"everywher\", \"dentist\", \"cat\", \"par\", \"tooth\", \"makeup\", \"pressur\", \"tasteless\", \"patron\", \"trash\", \"somewher\", \"special\", \"play\", \"pricey\", \"event\", \"doctor\", \"fee\", \"straight\", \"bone\", \"child\", \"detail\", \"paint\", \"attend\", \"tattoo\", \"odd\", \"current\", \"student\", \"soda\", \"sing\", \"adult\", \"center\", \"approach\", \"display\", \"scratch\", \"stage\", \"lettuc\", \"site\", \"perch\", \"blood\", \"remain\", \"flag\", \"pizza\", \"must\", \"son\", \"grow\", \"break\", \"spinach\", \"despit\", \"pre\", \"heart\", \"mine\", \"starbuck\", \"club\", \"parent\", \"fit\", \"dead\", \"gourmet\", \"wide\", \"receptionist\", \"delish\", \"smooth\", \"scene\", \"oven\", \"anywher_el\", \"condiment\", \"coach\", \"advantag\", \"extend\", \"picnic\", \"soul\", \"draw\"], \"Freq\": [8080.0, 6159.0, 4643.0, 2984.0, 4087.0, 10235.0, 10030.0, 2456.0, 8919.0, 2756.0, 2827.0, 2769.0, 7950.0, 2082.0, 2759.0, 7708.0, 1700.0, 2718.0, 1864.0, 7007.0, 1290.0, 2199.0, 6333.0, 6187.0, 5991.0, 2098.0, 1908.0, 2015.0, 5638.0, 1475.0, 10234.91668065353, 8918.32243293698, 7949.414434085333, 7708.012267380105, 7006.097254221198, 6332.9960875288525, 6187.009643346916, 5990.336820921694, 5637.37260061329, 5203.598980645243, 5141.430926934984, 4223.014465773244, 3537.006792079488, 3164.405187475546, 3159.0986618130155, 2680.3831006064734, 2651.5430994350877, 2608.472779275849, 2591.4775000705267, 2579.661812226334, 2549.876642409924, 2514.0790098521156, 2404.2781996748026, 2332.4101097941716, 2318.227541138982, 2228.9159427996888, 2174.851288508346, 2140.7467531730026, 2029.2307702425462, 1949.8133287727437, 10022.505924465971, 3349.584576814196, 2867.2479087221354, 2337.062527884644, 8079.879961353632, 6158.246347406149, 2758.5665965894013, 2098.069504689909, 2014.2807036248078, 1704.1676140467837, 1513.462839071186, 1369.634304721931, 1335.3533061140351, 1306.5564895408183, 1278.6548746240687, 1066.145787170234, 973.6582344332465, 904.0596459476137, 903.2985550316175, 800.8773848492401, 780.7718915091251, 758.8331193033603, 736.2414421692653, 661.6394262476007, 631.4587264275464, 586.2542335147618, 545.4531097211658, 531.5210478532806, 517.4037237134289, 503.7065799901903, 488.5732049615659, 372.1209353700596, 356.7241498963504, 341.7109261259175, 752.5126645695509, 1705.290953527933, 464.9476287434982, 4086.7577412130554, 2768.6403897710984, 2198.2134927729307, 1629.3519178682197, 1172.0331576458018, 1055.2504041000116, 1032.1479172075606, 963.307181857363, 936.6964284007794, 896.2699013285672, 779.1235114195277, 758.0344084919587, 719.326864421667, 649.8424482496663, 610.1916818398057, 584.2239608467618, 578.0774781968917, 571.2768483703924, 568.6280269959153, 552.2469312878956, 547.4927053864153, 845.3616440771792, 532.1715365054054, 510.972907342599, 504.3529379151107, 495.5976005465817, 488.4401884299052, 474.5670351079515, 417.0178294081185, 389.2059459569821, 1388.6822566601836, 2767.8803286409857, 2486.2718447099146, 767.3245488053171, 505.15597593583647, 1907.7567393423726, 1647.9843428236197, 1552.2544103742866, 1524.0966560388633, 1320.0585418863996, 1305.2946737180519, 1176.0321036822163, 926.5452926581827, 826.5119654501228, 760.025276462192, 734.4232377907866, 667.9971115437436, 653.6789435464474, 588.8086077098073, 554.9762765600742, 532.2007658088364, 2751.586288534343, 518.0584857717012, 499.4648842811212, 495.1007267724549, 460.68008899773014, 446.79918078949925, 435.5413112921252, 434.2001705961238, 422.9233802424487, 368.5623200240712, 363.9038291947624, 352.9702143721815, 343.77959843249704, 341.55357768948136, 4598.402349884592, 1254.6967038058435, 411.4060990048782, 696.6310853399688, 667.8304861624255, 490.6459222640793, 475.1556259348223, 470.21643040699377, 461.2357596005087, 441.76229007717046, 399.70455932316355, 360.75974139460834, 348.6347709472291, 317.0401719201365, 305.79861850649013, 304.05442880815644, 302.78485362132665, 293.22506024022965, 287.3460947296638, 286.8477466262089, 270.00558145977016, 268.08060943723945, 258.51978416084023, 256.254917291262, 252.3834754274044, 250.14033568668955, 248.3253465051203, 232.97746605944872, 218.26878742598484, 214.54380303564628, 211.82753929886414, 209.45086943966635, 207.23811328285018, 1474.4699809073813, 1360.6222216013202, 1280.0153467392895, 1189.1901486580553, 1032.585830417827, 1021.1444134638028, 832.6407500176012, 668.9255149969093, 647.6738797645089, 605.0230757439462, 592.6493147495337, 495.57459001299316, 476.23177645830407, 460.3508336465915, 455.116118059148, 440.833927879487, 429.27092548252335, 358.14512035848674, 351.2296212142537, 297.0879679944831, 294.7441338371014, 274.9008487819916, 274.5437678613359, 274.1775941986239, 239.02710309195623, 234.46644969920186, 204.03404507316927, 186.59006644352544, 179.3164615372059, 178.77784194990883, 2455.8945610619785, 2081.2780385327897, 1863.9906189140015, 1403.449293707235, 765.6408464213231, 728.2467821182851, 598.0772646150858, 479.8859900020938, 472.5765730622665, 443.4848260848166, 439.3080833550133, 411.5135188725327, 385.5094982438333, 378.03349728734327, 307.51871735935237, 300.54621765834065, 292.9652389481276, 261.1633702612319, 239.8292193958045, 165.01924527705722, 162.7910988449775, 147.6566746523694, 133.17805253712322, 133.05654419555745, 132.56615450814257, 117.42684143678456, 417.5416022315079, 110.15881487347588, 110.03315258264551, 109.68946121118304, 127.78270086036343, 1115.8336381058857, 1065.4441345669454, 989.161098647481, 645.1077277692528, 619.7031059258421, 612.0707014661185, 601.3554968730685, 576.6789423689964, 542.1309458897401, 504.34558648191046, 428.98622566566837, 417.32869246463986, 408.5991425656338, 373.04251406752405, 352.35247482409414, 328.36330559937664, 289.1589552134886, 268.86860541487005, 264.7410819971647, 263.86229869429945, 263.36467834951776, 262.8585296513942, 256.3989370850713, 243.16530975016752, 237.6742477965586, 221.9222340106664, 220.46225250026907, 208.6674672467344, 194.5033602713675, 189.91677555324537, 2983.5965918969264, 1343.596761341537, 1232.9213363986566, 1179.820333870522, 1139.6103352060018, 883.7672958117882, 721.9100655392205, 455.10679440457767, 423.70225849998724, 317.64190200949633, 316.6837969489485, 196.58891210209654, 179.72417887112027, 173.5475817890849, 165.4203892523488, 165.07970968598485, 164.04932074793268, 154.96115487750993, 146.3506328588373, 139.62681508639741, 135.178174364181, 107.0513448599527, 103.72679565566665, 102.90268477518372, 97.54806009779996, 93.82239392686989, 93.14958869746725, 90.74575517074196, 78.43191065917034, 74.35971805740104, 895.0371992190276, 1699.7726516700975, 1133.588018047322, 737.2666028885599, 681.5743082215744, 526.7456696474871, 373.5034410044224, 334.76900770437277, 255.7518025914075, 248.55465231611444, 225.52693629634362, 218.12048630534127, 203.83276710876316, 200.55343570582397, 184.500096314639, 167.21180947924015, 150.89966123901576, 142.89298136505928, 142.1791073680662, 141.83592937078305, 124.76500566575807, 123.58714207774106, 101.3597752321454, 100.4094325825862, 98.78936109510673, 92.30588701298376, 87.72491918870215, 79.70760445038286, 77.69381608885887, 76.88308221397934, 75.4807636467601, 163.46347357658948, 1041.2457328174346, 914.6353324593089, 754.3799078667716, 372.92210696504054, 293.8985814171238, 291.86926463210574, 257.8760314849187, 251.3712718483995, 227.15890909748563, 220.031317496015, 219.74783134710935, 203.51868139822818, 202.1148998226641, 201.8346487040649, 192.46006266189002, 188.67321595307604, 185.9559677576255, 163.86037839871196, 161.7703161644814, 159.19894346233397, 151.02244867836416, 150.64320784816297, 124.32953780904249, 114.44951151810365, 103.65379438851593, 100.26999700349383, 94.57508067292669, 86.06279639047399, 80.54067167009158, 77.18174635026773, 1201.4318997667613, 749.2712982736813, 603.988006330552, 421.01297320334425, 411.18666328211685, 386.1610352337848, 323.4513155256363, 277.4733098524551, 270.8444349385516, 260.54270818667436, 249.244074270017, 190.18793929838685, 180.72189551621608, 173.16149813194534, 171.35106295965866, 170.50959324609397, 154.69467579617105, 145.22116987001556, 140.42331991416464, 139.328368774873, 124.51615625595763, 122.00005798168088, 117.00615314391472, 104.1979506461192, 102.83558580636398, 98.09501910352445, 97.95963134198146, 97.48575764302713, 93.92243508832722, 92.75718327793561, 1098.7823953195223, 717.3675897013055, 587.7208550131513, 466.80397723012334, 442.0659003731489, 428.45582868930785, 416.9574420288369, 338.9350994229816, 307.4456154579186, 277.72420649281713, 258.5146943550932, 250.24619472137715, 242.69426077763117, 199.4706167866781, 195.6740027522798, 189.75521391417388, 159.30402513908612, 151.72527682842414, 129.36050740994588, 124.68886550285062, 114.95121743155288, 109.98557207984365, 105.08612603717668, 104.14583199540616, 99.07374433278713, 93.44614879364238, 87.97801293167379, 82.45321294953828, 81.32858086096692, 78.17577977622213, 839.2793499958295, 533.2087334809767, 324.8114932922335, 277.6768524527988, 261.8520165090881, 259.2887550532442, 233.71176308120516, 228.18394383789422, 207.54488899611064, 203.5289076961399, 196.12586998624647, 190.556811332208, 178.2016825303412, 165.19871868714318, 143.93746256465658, 129.0489847280664, 126.22268115775812, 118.8597081370731, 111.95253661638121, 111.76100925586027, 105.19769686991437, 100.96532804589238, 90.57640610014046, 90.19782105122003, 89.39838007985443, 86.21111228341226, 78.82601056549343, 76.99443825616542, 76.04168180068478, 74.16514535386138, 1100.2417797205833, 814.2301968207021, 763.4260727904534, 479.1505116766628, 447.40425203557237, 405.3973844301953, 369.8621577460862, 291.8832032652869, 256.06186563443964, 238.64342969944528, 174.8444512240525, 174.55759149179548, 169.05104150608688, 168.32969897653894, 158.40548290657873, 137.4038836284113, 107.24688381172433, 101.29879372521, 100.94803450874132, 100.34470993677719, 90.63621897478686, 88.63037232699213, 79.46317841655132, 70.21138578221317, 66.1423963547061, 58.698705472463296, 58.23084556067132, 54.39779377023254, 52.5767661081187, 48.656541643561674, 336.0181436880939, 327.3477494262432, 310.1422561239172, 270.21889715035593, 239.41691057589622, 187.07250677391235, 178.89307394762946, 176.35100135200298, 166.37682400816527, 159.41775407868965, 156.0455206859046, 148.49766731540603, 148.0797920023852, 143.2896468875818, 127.48025785382879, 125.63262358591781, 125.39512706639533, 108.98407484258449, 105.0786892675658, 99.2178426936004, 95.97366800804758, 94.72762572218318, 94.23864920992892, 84.1787641235501, 82.07618737336031, 79.34773670928763, 78.06261902724964, 72.59156510686827, 72.01519856280711, 70.69575861934649, 522.2875026424293, 425.5575385317678, 379.2217732239079, 357.2515977910857, 322.4650963530394, 289.028096030034, 279.6775484461132, 223.86020753973807, 215.21952514689616, 214.0235510179738, 211.96039064517785, 192.55954779739372, 138.76798868100485, 137.7227311184409, 135.07654916640647, 115.18385944043531, 108.92193975273014, 102.43973780288184, 98.04858183522722, 91.05807643815206, 87.4821842093027, 82.42516173325826, 77.77319881186381, 72.21670229067223, 70.23171842753716, 67.2131714707289, 56.34619164473717, 52.49639668673792, 52.266902493158824, 51.06419897025529, 907.2680175607233, 679.742742824782, 470.04906881596764, 343.0215492517954, 230.6962849512339, 206.71890507873405, 196.0244398096146, 175.86507596542398, 148.8082174634373, 141.8285498109028, 128.54723301575348, 128.51090950863485, 122.96871383544753, 117.87083819686585, 102.3008741518703, 94.17618668654063, 89.44806669845006, 83.59745599362176, 78.5681719798148, 74.87200785064785, 70.90165982903693, 59.250643836582334, 58.117025526807105, 56.57637317878881, 53.35189725664174, 52.73411231272645, 51.27759978529289, 46.872887596077774, 45.431447726290216, 44.189212695553074, 1090.9538759990446, 491.3641295113332, 265.17337120137597, 226.64233550570927, 203.80477229209583, 181.2983310623409, 175.46028230977979, 141.6881401358136, 137.30425008886343, 128.59421192295093, 121.28702361761776, 120.49668190577546, 115.59865719778594, 110.81865396327049, 109.88581983494409, 104.13647639581075, 96.20682980997087, 84.02003307334645, 75.745114689118, 72.94289491710178, 71.10720319463954, 65.9630518491165, 65.32535302375152, 64.18878234200811, 62.06247405651563, 61.76513503309514, 56.285569271775636, 54.43323463689027, 53.223317905524624, 52.786220711374796, 1289.2445706109047, 681.1737525620347, 211.15033743707852, 201.7592873637312, 196.1946296758159, 161.01534985242895, 149.76928401109222, 149.6882707421622, 140.70329464118802, 138.84482606886777, 112.09687793528792, 109.92361974478109, 100.54454028878312, 95.50086643877309, 85.75112104858854, 67.80876441121438, 61.30435280371074, 58.925236269392904, 55.043138864673786, 54.60789742847855, 52.61746321203472, 52.5963466937195, 52.42002191846992, 47.282994718682055, 45.50004784420143, 45.21587331499898, 44.30622731177418, 42.59729405230774, 42.4610258378069, 42.19017214710265], \"Total\": [8080.0, 6159.0, 4643.0, 2984.0, 4087.0, 10235.0, 10030.0, 2456.0, 8919.0, 2756.0, 2827.0, 2769.0, 7950.0, 2082.0, 2759.0, 7708.0, 1700.0, 2718.0, 1864.0, 7007.0, 1290.0, 2199.0, 6333.0, 6187.0, 5991.0, 2098.0, 1908.0, 2015.0, 5638.0, 1475.0, 10235.840800031443, 8919.246552314893, 7950.338553463246, 7708.936386758019, 7007.021373599112, 6333.920206906766, 6187.93376272483, 5991.260940299608, 5638.296719991204, 5204.523100023156, 5142.355046312898, 4223.938585151158, 3537.9309114574016, 3165.3293068534595, 3160.0244932260007, 2681.307219984387, 2652.467218813001, 2609.3968986537625, 2592.40161944844, 2580.5859316042474, 2550.8007617878375, 2515.003129230029, 2405.202319052716, 2333.334229172085, 2319.1516605168954, 2229.8400621776022, 2175.7754078862595, 2141.670872550916, 2030.1548896204602, 1950.7374481506577, 10030.570668622451, 3575.5431730114246, 3373.2791708520876, 3113.8563983282256, 8080.805374765742, 6159.171760818259, 2759.4920100015115, 2098.9949181020193, 2015.2061170405793, 1705.0930274588939, 1514.3882524832961, 1370.559718134041, 1336.2787195261453, 1307.4819029529285, 1279.580288036179, 1067.071200582344, 974.5836478453564, 904.9850593597236, 904.2239684437274, 801.80279826135, 781.697304921235, 759.7585327154701, 737.1668555813751, 662.5648396597105, 632.3841398396562, 587.1796469268717, 546.3785231332756, 532.4464612653904, 518.3291371255388, 504.63199340230034, 489.498618373676, 373.0463487821697, 357.6495633084605, 342.6363395380276, 755.607738331701, 2003.4853444087346, 780.591046965631, 4087.6829921672797, 2769.5656407253227, 2199.138743727155, 1630.2771688224443, 1172.9584086000264, 1056.1756550542361, 1033.0731681617851, 964.2324328115872, 937.6216793550035, 897.1951522827914, 780.0487623737519, 758.9596594461829, 720.2521153758911, 650.7676992038904, 611.1169327940298, 585.1492118009859, 579.0027291511158, 572.2020993246165, 569.5532779501394, 553.1721822421197, 548.4179563443008, 846.8212500133636, 533.0967874596295, 511.89815829682334, 505.27818886933505, 496.52285150080604, 489.36543938412956, 475.4922860621758, 417.9430803623428, 390.1311969112064, 1401.6267824455585, 2827.7027443456072, 2718.2860025518767, 3113.8563983282256, 3373.2791708520876, 1908.6815934691892, 1648.9091969504364, 1553.1792645011033, 1525.02151016568, 1320.9833960132162, 1306.2195278448685, 1176.956957809033, 927.4701467849989, 827.436819576939, 760.9501305890082, 735.3480919176028, 668.9219656705598, 654.6037976732636, 589.7334618366235, 555.9011306868904, 533.1256199356526, 2756.4723276502027, 518.9833398985173, 500.3897384079375, 496.0255808992712, 461.6049431245464, 447.72403491631553, 436.4661654189415, 435.1250247229401, 423.84823436926496, 369.4871741508875, 364.8286833215787, 353.8950684989978, 344.7044525593133, 342.47843181629764, 4643.448875495919, 1266.86109468889, 714.1413257389933, 697.5543241845942, 668.7537250070509, 491.56916110870486, 476.0788647794479, 471.13966925161935, 462.1589984451343, 442.68552892179605, 400.62779816778914, 361.6829802392339, 349.55800979185466, 317.9634107647621, 306.7218573511157, 304.97766765278203, 303.70809246595223, 294.14829908485524, 288.26933357428936, 287.7709854708345, 270.92882030439574, 269.00384828186503, 259.4430230054658, 257.1781561358876, 253.3067142720299, 251.06357453131506, 249.2485853497458, 233.90070490407422, 219.19202627061034, 215.46704188027178, 212.75077814348964, 210.37410829099613, 208.16135212747568, 1475.394518279111, 1361.54675897305, 1280.9398841110192, 1190.114686029785, 1033.5103677895568, 1022.068950835532, 833.5652873893304, 669.8500523686384, 648.598417136238, 605.9476131156753, 593.5738521212628, 496.49912738472244, 477.15631383003335, 461.2753710183208, 456.0406554308773, 441.7584652512163, 430.19546285425264, 359.069657730216, 352.154158585983, 298.0125053662124, 295.6686712088307, 275.8253861537209, 275.46830523306517, 275.1021315703532, 239.9516404636855, 235.39098707093112, 204.95858244489852, 187.5146038152547, 180.24099890893515, 179.7023793216381, 2456.821248663499, 2082.20472613431, 1864.9173065155223, 1404.3759813087559, 766.5675340228435, 729.1734697198054, 599.0039522166062, 480.81267760361436, 473.50326066378705, 444.4115136863371, 440.23477095653385, 412.44020647405324, 386.43618584535386, 378.9601848888638, 308.4454049608729, 301.4729052598612, 293.89192654964813, 262.0900578627524, 240.75590699732498, 165.9459328785777, 163.717786446498, 148.58336225388987, 134.10474016689827, 133.98323179707793, 133.49284210966306, 118.35352903830508, 420.90546813185455, 111.0855024749964, 110.95984018416604, 110.61614881270357, 1023.697153646555, 1116.7582938924738, 1066.3687903535335, 990.0857544340687, 646.0323835558405, 620.6277617124298, 612.9953572527062, 602.2801526596562, 577.6035981555841, 543.0556016763278, 505.27024226849835, 429.91088145225626, 418.25334825122775, 409.5237983522217, 373.96716985411194, 353.27713061068204, 329.28796138596454, 290.0836110000765, 269.79326120145794, 265.6657377837526, 264.78695448088735, 264.28933413610565, 263.78318543798207, 257.3235928716592, 244.08996553675536, 238.59890358314644, 222.84688979725422, 221.3869082868569, 209.59212303332222, 195.42801605795535, 190.8414313398332, 2984.521245794709, 1344.5214152393198, 1233.8459902964394, 1180.7449877683048, 1140.5349891037845, 884.6919497095706, 722.8347194370028, 456.0314483023603, 424.62691239776984, 318.56655590727894, 317.6084508467311, 197.51356599987906, 180.6488327689028, 174.4722356868674, 166.34504315013132, 166.00436358376737, 164.9739746457152, 155.88580877529245, 147.2752867566198, 140.55146898417993, 136.1028282619635, 107.97599875773524, 104.65144955344918, 103.82733872264504, 98.47271402543988, 94.74704785799743, 94.07424259524979, 91.67040906852449, 79.35656455695288, 75.2843719752806, 1023.697153646555, 1700.701110749731, 1134.5164771269556, 738.195061968193, 682.5027673012075, 527.6741287271203, 374.4319000840558, 335.69746678400617, 256.6802616710409, 249.48311139574776, 226.45539537597693, 219.04894538497462, 204.7612261883965, 201.4818947854573, 185.42855539427234, 168.14026855887346, 151.8281203186491, 143.8214404446926, 143.10756644769953, 142.7643884504164, 125.69346474539142, 124.51560115737442, 102.28823431177875, 101.33789167306742, 99.71782017840145, 93.23434609261712, 88.6533782683355, 80.63606353001622, 78.62227522945986, 77.81154129361269, 76.40922272639345, 1782.0663662398092, 1042.169749673474, 915.559349315348, 755.3039247228107, 373.84612382107974, 294.822598273163, 292.79328148814494, 258.8000483461587, 252.29528870443866, 228.0829259535248, 220.95533435205417, 220.67184820314853, 204.44269825426736, 203.0389166787033, 202.75866556010408, 193.3840795179292, 189.5972328091152, 186.87998461366467, 164.78439525475113, 162.69433302052056, 160.12296031837315, 151.94646553440333, 151.56722470420215, 125.2535546650817, 115.37352837414285, 104.57781124455514, 101.19401385953303, 95.49909752896589, 86.9868132465132, 81.46468853283508, 78.10576320630693, 1202.3577822550021, 750.1971807619218, 604.9138888187925, 421.9388556915849, 412.1125457703575, 387.0869177220254, 324.3771980138769, 278.3991923406957, 271.77031742679225, 261.468590674915, 250.1699567582576, 191.11382178662745, 181.64777800445668, 174.08738062018594, 172.27694544789927, 171.4354757415215, 155.62055828441166, 146.14705235825616, 141.34920240240524, 140.25425126311362, 125.44203874419829, 122.92594046992154, 117.93203563215538, 105.12383313435986, 103.76146829460464, 99.02090159176511, 98.88551383022212, 98.4116401341085, 94.84831758404084, 93.68306576979928, 1099.7076114441293, 718.2928058259122, 588.646071137758, 467.72919335473017, 442.99111649775574, 429.3810448139147, 417.88265815344374, 339.8603155475884, 308.37083158252545, 278.64942261742397, 259.4399104797, 251.17141084598393, 243.61947690223795, 200.39583291128488, 196.59921887688657, 190.68043003878066, 160.2292412636929, 152.65049295303092, 130.28572353455266, 125.61408163278097, 115.87643356148322, 110.9107882378397, 106.0113421617835, 105.07104812001297, 99.99896049157815, 94.37136492344996, 88.90322905628061, 83.3784290795547, 82.25379700639337, 79.10099590082895, 840.2027193879377, 534.1321028730848, 325.7348626843417, 278.600221844907, 262.77538590119633, 260.2121244453524, 234.63513247331332, 229.10731323000238, 208.4682583882188, 204.45227708824805, 197.04923937835463, 191.48018072431617, 179.12505192244936, 166.12208807925134, 144.86083195676474, 129.97235412017454, 127.14605054986632, 119.7830775291813, 112.87590600848941, 112.68437864796847, 106.12106626202257, 101.88869743800058, 91.49977549224866, 91.12119044332823, 90.32174947196263, 87.13448167552046, 79.74937995760163, 77.91780765131655, 76.96505119279298, 75.08851474596958, 1101.1674649804106, 815.1558820805293, 764.3517580502806, 480.07619693649, 448.3299372953996, 406.3230696900225, 370.78784300591343, 292.8088885251141, 256.98755089426686, 239.5691149592725, 175.77013648387972, 175.4832767516227, 169.9767267659141, 169.25538424644992, 159.33116816640594, 138.32956888823853, 108.1725690788223, 102.22447898787794, 101.87371976856855, 101.27039519660443, 91.5619042382371, 89.55605758681936, 80.38886367637855, 71.1370710420404, 67.06808164377257, 59.6243907322905, 59.15653082886497, 55.323479030059744, 53.5024513679459, 49.58222690338888, 336.9444080651903, 328.2740138033396, 311.0685205010136, 271.14516152745233, 240.3431749529926, 187.99877115100873, 179.81933832472583, 177.27726572909935, 167.30308838526165, 160.34401845578603, 156.97178506300097, 149.4239316925024, 149.00605637948158, 144.21591126467817, 128.40652223092516, 126.55888796585494, 126.32139144349175, 109.9103392196809, 106.00495364466222, 100.14410708113476, 96.899932385144, 95.6538900992796, 95.16491358702534, 85.10502850950671, 83.00245175045673, 80.27400109009918, 78.98888340434605, 73.51782948396469, 72.94146293990353, 71.62202301050387, 523.2112981038123, 426.48133399315077, 380.14556868529087, 358.17539325246867, 323.3888918144224, 289.951891491417, 280.60134390749613, 224.78400300112102, 216.1433206082791, 214.94734647935675, 212.8841861065608, 193.48334325877667, 139.6917841423878, 138.64652657982384, 136.00034462778942, 116.10765490181828, 109.8457352141131, 103.3635332642648, 98.97237729661019, 91.98187189953502, 88.40597967068567, 83.34895719464123, 78.69699427324677, 73.14049777667611, 71.15551389326632, 68.13696693211186, 57.26998710896082, 53.42019217087559, 53.190697954541776, 51.98799443513723, 908.1937923051721, 680.6685175692309, 470.9748435604165, 343.9473239962443, 231.6220596956828, 207.64467982318294, 196.95021455690417, 176.79085070987287, 149.7339922078862, 142.7543245553517, 129.47300776020236, 129.43668425308374, 123.89448857989643, 118.79661294131475, 103.2266488963192, 95.10196143098953, 90.37384144289896, 84.52323073807067, 79.49394672426371, 75.79778259793746, 71.82743457348583, 60.17641860079549, 59.04280027125599, 57.5021479232377, 54.277672014986294, 53.65988705717534, 52.2033745350653, 47.79866234052666, 46.3572224707391, 45.11498745381274, 1091.8813728781365, 492.29162639042505, 266.1008680804678, 227.5698323848011, 204.73226917118765, 182.22582794577892, 176.3877791888716, 142.61563702022895, 138.23174696795525, 129.52170880204275, 122.2145204967096, 121.4241787848673, 116.52615410890876, 111.74615084236233, 110.81331671403592, 105.06397327490258, 97.1343266890627, 84.94752995243829, 76.67261156820983, 73.87039179619362, 72.03470007373137, 66.89054872820833, 66.25284990284335, 65.11627922109994, 62.98997093560745, 62.69263191218696, 57.213066666042515, 55.36073152938349, 54.15081478461644, 53.713717590466615, 1290.1728692857591, 682.1020512368891, 212.078636111933, 202.6875860385857, 197.12292835067038, 161.94364852728344, 150.6975826859467, 150.61656941701668, 141.6315933160425, 139.773124748923, 113.0251766101424, 110.85191842335071, 101.4728389636376, 96.42916511362756, 86.67941972344302, 68.73706308606886, 62.23265147856522, 59.85353494944814, 55.97143753952826, 55.53619612734293, 53.545761886889196, 53.52464536857397, 53.34832060127983, 48.21129339353653, 46.42834707175783, 46.144171989853454, 45.23452602442145, 43.52559275174504, 43.389324512661375, 43.118470821957125], \"Category\": [\"Default\", \"Default\", \"Default\", \"Default\", \"Default\", \"Default\", \"Default\", \"Default\", \"Default\", \"Default\", \"Default\", \"Default\", \"Default\", \"Default\", \"Default\", \"Default\", \"Default\", \"Default\", \"Default\", \"Default\", \"Default\", \"Default\", \"Default\", \"Default\", \"Default\", \"Default\", \"Default\", \"Default\", \"Default\", \"Default\", \"Topic1\", \"Topic1\", \"Topic1\", \"Topic1\", \"Topic1\", \"Topic1\", \"Topic1\", \"Topic1\", \"Topic1\", \"Topic1\", \"Topic1\", \"Topic1\", \"Topic1\", \"Topic1\", \"Topic1\", \"Topic1\", \"Topic1\", \"Topic1\", \"Topic1\", \"Topic1\", \"Topic1\", \"Topic1\", \"Topic1\", \"Topic1\", \"Topic1\", \"Topic1\", \"Topic1\", \"Topic1\", \"Topic1\", \"Topic1\", \"Topic1\", \"Topic1\", \"Topic1\", \"Topic1\", \"Topic2\", \"Topic2\", \"Topic2\", \"Topic2\", \"Topic2\", \"Topic2\", \"Topic2\", \"Topic2\", \"Topic2\", \"Topic2\", \"Topic2\", \"Topic2\", \"Topic2\", \"Topic2\", \"Topic2\", \"Topic2\", \"Topic2\", \"Topic2\", \"Topic2\", \"Topic2\", \"Topic2\", \"Topic2\", \"Topic2\", \"Topic2\", \"Topic2\", \"Topic2\", \"Topic2\", \"Topic2\", \"Topic2\", \"Topic2\", \"Topic2\", \"Topic2\", \"Topic2\", \"Topic3\", \"Topic3\", \"Topic3\", \"Topic3\", \"Topic3\", \"Topic3\", \"Topic3\", \"Topic3\", \"Topic3\", \"Topic3\", \"Topic3\", \"Topic3\", \"Topic3\", \"Topic3\", \"Topic3\", \"Topic3\", \"Topic3\", \"Topic3\", \"Topic3\", \"Topic3\", \"Topic3\", \"Topic3\", \"Topic3\", \"Topic3\", \"Topic3\", \"Topic3\", \"Topic3\", \"Topic3\", \"Topic3\", \"Topic3\", \"Topic3\", \"Topic3\", \"Topic3\", \"Topic3\", \"Topic3\", \"Topic4\", \"Topic4\", \"Topic4\", \"Topic4\", \"Topic4\", \"Topic4\", \"Topic4\", \"Topic4\", \"Topic4\", \"Topic4\", \"Topic4\", \"Topic4\", \"Topic4\", \"Topic4\", \"Topic4\", \"Topic4\", \"Topic4\", \"Topic4\", \"Topic4\", \"Topic4\", \"Topic4\", \"Topic4\", \"Topic4\", \"Topic4\", \"Topic4\", \"Topic4\", \"Topic4\", \"Topic4\", \"Topic4\", \"Topic4\", \"Topic4\", \"Topic4\", \"Topic4\", \"Topic5\", \"Topic5\", \"Topic5\", \"Topic5\", \"Topic5\", \"Topic5\", \"Topic5\", \"Topic5\", \"Topic5\", \"Topic5\", \"Topic5\", \"Topic5\", \"Topic5\", \"Topic5\", \"Topic5\", \"Topic5\", \"Topic5\", \"Topic5\", \"Topic5\", \"Topic5\", \"Topic5\", \"Topic5\", \"Topic5\", \"Topic5\", \"Topic5\", \"Topic5\", \"Topic5\", \"Topic5\", \"Topic5\", \"Topic5\", \"Topic6\", \"Topic6\", \"Topic6\", \"Topic6\", \"Topic6\", \"Topic6\", \"Topic6\", \"Topic6\", \"Topic6\", \"Topic6\", \"Topic6\", \"Topic6\", \"Topic6\", \"Topic6\", \"Topic6\", \"Topic6\", \"Topic6\", \"Topic6\", \"Topic6\", \"Topic6\", \"Topic6\", \"Topic6\", \"Topic6\", \"Topic6\", \"Topic6\", \"Topic6\", \"Topic6\", \"Topic6\", \"Topic6\", \"Topic6\", \"Topic7\", \"Topic7\", \"Topic7\", \"Topic7\", \"Topic7\", \"Topic7\", \"Topic7\", \"Topic7\", \"Topic7\", \"Topic7\", \"Topic7\", \"Topic7\", \"Topic7\", \"Topic7\", \"Topic7\", \"Topic7\", \"Topic7\", \"Topic7\", \"Topic7\", \"Topic7\", \"Topic7\", \"Topic7\", \"Topic7\", \"Topic7\", \"Topic7\", \"Topic7\", \"Topic7\", \"Topic7\", \"Topic7\", \"Topic7\", \"Topic7\", \"Topic8\", \"Topic8\", \"Topic8\", \"Topic8\", \"Topic8\", \"Topic8\", \"Topic8\", \"Topic8\", \"Topic8\", \"Topic8\", \"Topic8\", \"Topic8\", \"Topic8\", \"Topic8\", \"Topic8\", \"Topic8\", \"Topic8\", \"Topic8\", \"Topic8\", \"Topic8\", \"Topic8\", \"Topic8\", \"Topic8\", \"Topic8\", \"Topic8\", \"Topic8\", \"Topic8\", \"Topic8\", \"Topic8\", \"Topic8\", \"Topic9\", \"Topic9\", \"Topic9\", \"Topic9\", \"Topic9\", \"Topic9\", \"Topic9\", \"Topic9\", \"Topic9\", \"Topic9\", \"Topic9\", \"Topic9\", \"Topic9\", \"Topic9\", \"Topic9\", \"Topic9\", \"Topic9\", \"Topic9\", \"Topic9\", \"Topic9\", \"Topic9\", \"Topic9\", \"Topic9\", \"Topic9\", \"Topic9\", \"Topic9\", \"Topic9\", \"Topic9\", \"Topic9\", \"Topic9\", \"Topic9\", \"Topic10\", \"Topic10\", \"Topic10\", \"Topic10\", \"Topic10\", \"Topic10\", \"Topic10\", \"Topic10\", \"Topic10\", \"Topic10\", \"Topic10\", \"Topic10\", \"Topic10\", \"Topic10\", \"Topic10\", \"Topic10\", \"Topic10\", \"Topic10\", \"Topic10\", \"Topic10\", \"Topic10\", \"Topic10\", \"Topic10\", \"Topic10\", \"Topic10\", \"Topic10\", \"Topic10\", \"Topic10\", \"Topic10\", \"Topic10\", \"Topic10\", \"Topic11\", \"Topic11\", \"Topic11\", \"Topic11\", \"Topic11\", \"Topic11\", \"Topic11\", \"Topic11\", \"Topic11\", \"Topic11\", \"Topic11\", \"Topic11\", \"Topic11\", \"Topic11\", \"Topic11\", \"Topic11\", \"Topic11\", \"Topic11\", \"Topic11\", \"Topic11\", \"Topic11\", \"Topic11\", \"Topic11\", \"Topic11\", \"Topic11\", \"Topic11\", \"Topic11\", \"Topic11\", \"Topic11\", \"Topic11\", \"Topic12\", \"Topic12\", \"Topic12\", \"Topic12\", \"Topic12\", \"Topic12\", \"Topic12\", \"Topic12\", \"Topic12\", \"Topic12\", \"Topic12\", \"Topic12\", \"Topic12\", \"Topic12\", \"Topic12\", \"Topic12\", \"Topic12\", \"Topic12\", \"Topic12\", \"Topic12\", \"Topic12\", \"Topic12\", \"Topic12\", \"Topic12\", \"Topic12\", \"Topic12\", \"Topic12\", \"Topic12\", \"Topic12\", \"Topic12\", \"Topic13\", \"Topic13\", \"Topic13\", \"Topic13\", \"Topic13\", \"Topic13\", \"Topic13\", \"Topic13\", \"Topic13\", \"Topic13\", \"Topic13\", \"Topic13\", \"Topic13\", \"Topic13\", \"Topic13\", \"Topic13\", \"Topic13\", \"Topic13\", \"Topic13\", \"Topic13\", \"Topic13\", \"Topic13\", \"Topic13\", \"Topic13\", \"Topic13\", \"Topic13\", \"Topic13\", \"Topic13\", \"Topic13\", \"Topic13\", \"Topic14\", \"Topic14\", \"Topic14\", \"Topic14\", \"Topic14\", \"Topic14\", \"Topic14\", \"Topic14\", \"Topic14\", \"Topic14\", \"Topic14\", \"Topic14\", \"Topic14\", \"Topic14\", \"Topic14\", \"Topic14\", \"Topic14\", \"Topic14\", \"Topic14\", \"Topic14\", \"Topic14\", \"Topic14\", \"Topic14\", \"Topic14\", \"Topic14\", \"Topic14\", \"Topic14\", \"Topic14\", \"Topic14\", \"Topic14\", \"Topic15\", \"Topic15\", \"Topic15\", \"Topic15\", \"Topic15\", \"Topic15\", \"Topic15\", \"Topic15\", \"Topic15\", \"Topic15\", \"Topic15\", \"Topic15\", \"Topic15\", \"Topic15\", \"Topic15\", \"Topic15\", \"Topic15\", \"Topic15\", \"Topic15\", \"Topic15\", \"Topic15\", \"Topic15\", \"Topic15\", \"Topic15\", \"Topic15\", \"Topic15\", \"Topic15\", \"Topic15\", \"Topic15\", \"Topic15\", \"Topic16\", \"Topic16\", \"Topic16\", \"Topic16\", \"Topic16\", \"Topic16\", \"Topic16\", \"Topic16\", \"Topic16\", \"Topic16\", \"Topic16\", \"Topic16\", \"Topic16\", \"Topic16\", \"Topic16\", \"Topic16\", \"Topic16\", \"Topic16\", \"Topic16\", \"Topic16\", \"Topic16\", \"Topic16\", \"Topic16\", \"Topic16\", \"Topic16\", \"Topic16\", \"Topic16\", \"Topic16\", \"Topic16\", \"Topic16\", \"Topic17\", \"Topic17\", \"Topic17\", \"Topic17\", \"Topic17\", \"Topic17\", \"Topic17\", \"Topic17\", \"Topic17\", \"Topic17\", \"Topic17\", \"Topic17\", \"Topic17\", \"Topic17\", \"Topic17\", \"Topic17\", \"Topic17\", \"Topic17\", \"Topic17\", \"Topic17\", \"Topic17\", \"Topic17\", \"Topic17\", \"Topic17\", \"Topic17\", \"Topic17\", \"Topic17\", \"Topic17\", \"Topic17\", \"Topic17\", \"Topic18\", \"Topic18\", \"Topic18\", \"Topic18\", \"Topic18\", \"Topic18\", \"Topic18\", \"Topic18\", \"Topic18\", \"Topic18\", \"Topic18\", \"Topic18\", \"Topic18\", \"Topic18\", \"Topic18\", \"Topic18\", \"Topic18\", \"Topic18\", \"Topic18\", \"Topic18\", \"Topic18\", \"Topic18\", \"Topic18\", \"Topic18\", \"Topic18\", \"Topic18\", \"Topic18\", \"Topic18\", \"Topic18\", \"Topic18\", \"Topic19\", \"Topic19\", \"Topic19\", \"Topic19\", \"Topic19\", \"Topic19\", \"Topic19\", \"Topic19\", \"Topic19\", \"Topic19\", \"Topic19\", \"Topic19\", \"Topic19\", \"Topic19\", \"Topic19\", \"Topic19\", \"Topic19\", \"Topic19\", \"Topic19\", \"Topic19\", \"Topic19\", \"Topic19\", \"Topic19\", \"Topic19\", \"Topic19\", \"Topic19\", \"Topic19\", \"Topic19\", \"Topic19\", \"Topic19\", \"Topic20\", \"Topic20\", \"Topic20\", \"Topic20\", \"Topic20\", \"Topic20\", \"Topic20\", \"Topic20\", \"Topic20\", \"Topic20\", \"Topic20\", \"Topic20\", \"Topic20\", \"Topic20\", \"Topic20\", \"Topic20\", \"Topic20\", \"Topic20\", \"Topic20\", \"Topic20\", \"Topic20\", \"Topic20\", \"Topic20\", \"Topic20\", \"Topic20\", \"Topic20\", \"Topic20\", \"Topic20\", \"Topic20\", \"Topic20\"], \"logprob\": [30.0, 29.0, 28.0, 27.0, 26.0, 25.0, 24.0, 23.0, 22.0, 21.0, 20.0, 19.0, 18.0, 17.0, 16.0, 15.0, 14.0, 13.0, 12.0, 11.0, 10.0, 9.0, 8.0, 7.0, 6.0, 5.0, 4.0, 3.0, 2.0, 1.0, -3.225800037384033, -3.3635001182556152, -3.4784998893737793, -3.5092999935150146, -3.60479998588562, -3.7058000564575195, -3.729099988937378, -3.761399984359741, -3.822200059890747, -3.9021999835968018, -3.914299964904785, -4.111000061035156, -4.288300037384033, -4.399600028991699, -4.401299953460693, -4.5655999183654785, -4.576399803161621, -4.592800140380859, -4.599400043487549, -4.603899955749512, -4.615499973297119, -4.629700183868408, -4.674300193786621, -4.704699993133545, -4.7108001708984375, -4.750100135803223, -4.774600028991699, -4.79040002822876, -4.843900203704834, -4.883900165557861, -3.246799945831299, -4.342700004577637, -4.498199939727783, -4.702700138092041, -1.8909000158309937, -2.1624999046325684, -2.96560001373291, -3.239300012588501, -3.2799999713897705, -3.447200059890747, -3.5659000873565674, -3.6656999588012695, -3.6910998821258545, -3.712899923324585, -3.734499931335449, -3.9161999225616455, -4.006999969482422, -4.081099987030029, -4.081999778747559, -4.202300071716309, -4.227700233459473, -4.256199836730957, -4.286499977111816, -4.3933000564575195, -4.440000057220459, -4.5142998695373535, -4.586400032043457, -4.612299919128418, -4.639200210571289, -4.665999889373779, -4.696499824523926, -4.968800067901611, -5.011099815368652, -5.054100036621094, -4.264599800109863, -3.446500062942505, -4.746099948883057, -2.498800039291382, -2.888200044631958, -3.1189000606536865, -3.4184000492095947, -3.74780011177063, -3.852799892425537, -3.8749001026153564, -3.9439001083374023, -3.97189998626709, -4.015999794006348, -4.156099796295166, -4.183599948883057, -4.236000061035156, -4.337600231170654, -4.4004998207092285, -4.443999767303467, -4.454599857330322, -4.466400146484375, -4.471099853515625, -4.50029993057251, -4.508900165557861, -4.07450008392334, -4.537300109863281, -4.578000068664551, -4.591000080108643, -4.608500003814697, -4.6230998039245605, -4.651899814605713, -4.781199932098389, -4.850200176239014, -3.578200101852417, -2.8884999752044678, -2.995800018310547, -4.17140007019043, -4.589399814605713, -3.1140999794006348, -3.260499954223633, -3.3203999996185303, -3.33870005607605, -3.4823999404907227, -3.4935998916625977, -3.597899913787842, -3.836400032043457, -3.9505999088287354, -4.0345001220703125, -4.068699836730957, -4.16349983215332, -4.185200214385986, -4.289700031280518, -4.348899841308594, -4.3907999992370605, -2.7479000091552734, -4.417699813842773, -4.4542999267578125, -4.463099956512451, -4.535099983215332, -4.565700054168701, -4.59119987487793, -4.594299793243408, -4.62060022354126, -4.758200168609619, -4.770899772644043, -4.801400184631348, -4.8277997970581055, -4.8343000411987305, -2.2344000339508057, -3.5332000255584717, -4.648200035095215, -3.788300037384033, -3.8304998874664307, -4.138800144195557, -4.170899868011475, -4.181300163269043, -4.2006001472473145, -4.243800163269043, -4.343800067901611, -4.446300029754639, -4.480500221252441, -4.575500011444092, -4.611599922180176, -4.617300033569336, -4.621500015258789, -4.653600215911865, -4.673900127410889, -4.675600051879883, -4.736100196838379, -4.743299961090088, -4.779600143432617, -4.788400173187256, -4.803599834442139, -4.8125, -4.819799900054932, -4.883600234985352, -4.948800086975098, -4.966000080108643, -4.978799819946289, -4.989999771118164, -5.000699996948242, -2.765000104904175, -2.845400094985962, -2.906399965286255, -2.9800000190734863, -3.1212000846862793, -3.1324000358581543, -3.336400032043457, -3.5553998947143555, -3.5876998901367188, -3.6558001041412354, -3.6763999462127686, -3.855299949645996, -3.8951001167297363, -3.9291000366210938, -3.940500020980835, -3.972399950027466, -3.999000072479248, -4.180099964141846, -4.1996002197265625, -4.367000102996826, -4.374899864196777, -4.4446001052856445, -4.445899963378906, -4.447299957275391, -4.584499835968018, -4.603700160980225, -4.742800235748291, -4.832099914550781, -4.8719000816345215, -4.874899864196777, -2.2314999103546143, -2.3970000743865967, -2.507200002670288, -2.7909998893737793, -3.3970000743865967, -3.4470999240875244, -3.6440000534057617, -3.8642001152038574, -3.879499912261963, -3.9430999755859375, -3.952500104904175, -4.017899990081787, -4.083199977874756, -4.102700233459473, -4.309199810028076, -4.332099914550781, -4.357699871063232, -4.472599983215332, -4.557799816131592, -4.931700229644775, -4.945300102233887, -5.042799949645996, -5.145999908447266, -5.146900177001953, -5.150599956512451, -5.271900177001953, -4.003300189971924, -5.3358001708984375, -5.336900234222412, -5.340099811553955, -5.187399864196777, -2.859999895095825, -2.9061999320983887, -2.9804999828338623, -3.407900094985962, -3.4481000900268555, -3.4605000019073486, -3.478100061416626, -3.5199999809265137, -3.5817999839782715, -3.654099941253662, -3.8159000873565674, -3.843400001525879, -3.8645999431610107, -3.9556000232696533, -4.012700080871582, -4.083199977874756, -4.210299968719482, -4.283100128173828, -4.298600196838379, -4.3018999099731445, -4.303800106048584, -4.305699825286865, -4.330599784851074, -4.383600234985352, -4.406400203704834, -4.474999904632568, -4.481599807739258, -4.536600112915039, -4.606900215148926, -4.63070011138916, -1.8095999956130981, -2.6073999404907227, -2.6933000087738037, -2.7374000549316406, -2.7720000743865967, -3.0262999534606934, -3.228600025177002, -3.6898999214172363, -3.761399984359741, -4.049499988555908, -4.052599906921387, -4.529399871826172, -4.61899995803833, -4.6539998054504395, -4.702000141143799, -4.703999996185303, -4.710299968719482, -4.767300128936768, -4.82450008392334, -4.871500015258789, -4.903900146484375, -5.137199878692627, -5.168700218200684, -5.176700115203857, -5.230100154876709, -5.269100189208984, -5.276299953460693, -5.3024001121521, -5.448200225830078, -5.5015997886657715, -3.0136001110076904, -1.9946999549865723, -2.3998000621795654, -2.8299999237060547, -2.908600091934204, -3.1661999225616455, -3.509999990463257, -3.619499921798706, -3.8887999057769775, -3.91729998588562, -4.014500141143799, -4.047900199890137, -4.115699768066406, -4.131899833679199, -4.2153000831604, -4.313700199127197, -4.416399955749512, -4.470900058746338, -4.475900173187256, -4.478300094604492, -4.606500148773193, -4.616000175476074, -4.814300060272217, -4.823699951171875, -4.840000152587891, -4.907899856567383, -4.958799839019775, -5.054599761962891, -5.0802001953125, -5.090700149536133, -5.109099864959717, -4.336400032043457, -2.435800075531006, -2.5653998851776123, -2.757999897003174, -3.462599992752075, -3.700700044631958, -3.7076001167297363, -3.8315000534057617, -3.8570001125335693, -3.9583001136779785, -3.9902000427246094, -3.991499900817871, -4.06820011138916, -4.075099945068359, -4.076499938964844, -4.124100208282471, -4.143899917602539, -4.158400058746338, -4.284900188446045, -4.297800064086914, -4.313799858093262, -4.366499900817871, -4.36899995803833, -4.560999870300293, -4.643799781799316, -4.7428998947143555, -4.776100158691406, -4.83459997177124, -4.928899765014648, -4.995200157165527, -5.037799835205078, -2.287600040435791, -2.759700059890747, -2.9753000736236572, -3.336199998855591, -3.359800100326538, -3.422600030899048, -3.5998001098632812, -3.7530999183654785, -3.7772998809814453, -3.8160998821258545, -3.8603999614715576, -4.130799770355225, -4.1819000244140625, -4.224599838256836, -4.235099792480469, -4.239999771118164, -4.337399959564209, -4.400599956512451, -4.434199810028076, -4.441999912261963, -4.5543999671936035, -4.57480001449585, -4.616600036621094, -4.732500076293945, -4.745699882507324, -4.792900085449219, -4.794300079345703, -4.799099922180176, -4.836400032043457, -4.848800182342529, -2.349600076675415, -2.7760000228881836, -2.9753000736236572, -3.2056000232696533, -3.2600998878479004, -3.2913999557495117, -3.3185999393463135, -3.525700092315674, -3.623300075531006, -3.724900007247925, -3.796600103378296, -3.8290998935699463, -3.8596999645233154, -4.0559000968933105, -4.075099945068359, -4.105800151824951, -4.280700206756592, -4.329500198364258, -4.488900184631348, -4.525700092315674, -4.60699987411499, -4.651199817657471, -4.696800231933594, -4.7058000564575195, -4.75570011138916, -4.814199924468994, -4.874499797821045, -4.939300060272217, -4.953100204467773, -4.992599964141846, -2.503000020980835, -2.9565999507904053, -3.4523000717163086, -3.6089999675750732, -3.6677000522613525, -3.6775999069213867, -3.781399965286255, -3.8053998947143555, -3.9001998901367188, -3.9196999073028564, -3.9567999839782715, -3.985599994659424, -4.052599906921387, -4.128399848937988, -4.26609992980957, -4.37529993057251, -4.397500038146973, -4.457600116729736, -4.517399787902832, -4.519100189208984, -4.579699993133545, -4.620699882507324, -4.729300022125244, -4.733500003814697, -4.742400169372559, -4.77869987487793, -4.868299961090088, -4.8917999267578125, -4.904200077056885, -4.929200172424316, -2.2119998931884766, -2.5130999088287354, -2.577500104904175, -3.043299913406372, -3.1119000911712646, -3.2105000019073486, -3.3022000789642334, -3.5390000343322754, -3.6698999404907227, -3.7404000759124756, -4.051400184631348, -4.053100109100342, -4.085100173950195, -4.089399814605713, -4.150199890136719, -4.292399883270264, -4.540200233459473, -4.597300052642822, -4.6006999015808105, -4.6066999435424805, -4.708499908447266, -4.730899810791016, -4.840000152587891, -4.963799953460693, -5.023499965667725, -5.142899990081787, -5.150899887084961, -5.218999862670898, -5.2530999183654785, -5.33050012588501, -3.347899913787842, -3.374000072479248, -3.427999973297119, -3.5657999515533447, -3.6868999004364014, -3.9335999488830566, -3.978300094604492, -3.9925999641418457, -4.05079984664917, -4.093500137329102, -4.1149001121521, -4.1645002365112305, -4.167300224304199, -4.200200080871582, -4.3171000480651855, -4.331699848175049, -4.333600044250488, -4.473899841308594, -4.51039981842041, -4.567800045013428, -4.60099983215332, -4.614099979400635, -4.619200229644775, -4.732100009918213, -4.757400035858154, -4.791200160980225, -4.807600021362305, -4.880199909210205, -4.888199806213379, -4.906700134277344, -2.775700092315674, -2.9804999828338623, -3.0957999229431152, -3.155400037765503, -3.2578999996185303, -3.3673999309539795, -3.4003000259399414, -3.6229000091552734, -3.6621999740600586, -3.667799949645996, -3.677500009536743, -3.7734999656677246, -4.101099967956543, -4.10860013961792, -4.127999782562256, -4.287399768829346, -4.343299865722656, -4.404600143432617, -4.448400020599365, -4.52239990234375, -4.5625, -4.622000217437744, -4.680099964141846, -4.754199981689453, -4.782100200653076, -4.826000213623047, -5.002399921417236, -5.0731000900268555, -5.077499866485596, -5.100800037384033, -2.197700023651123, -2.4865000247955322, -2.855299949645996, -3.1703999042510986, -3.5671000480651855, -3.676800012588501, -3.7298998832702637, -3.8385000228881836, -4.005499839782715, -4.053599834442139, -4.151899814605713, -4.152200222015381, -4.196300029754639, -4.23859977722168, -4.380300045013428, -4.4629998207092285, -4.514500141143799, -4.582200050354004, -4.644199848175049, -4.692399978637695, -4.7469000816345215, -4.926400184631348, -4.945700168609619, -4.972599983215332, -5.031300067901611, -5.042900085449219, -5.070899963378906, -5.160699844360352, -5.191999912261963, -5.219699859619141, -1.9882999658584595, -2.785900115966797, -3.4026999473571777, -3.5597000122070312, -3.6658999919891357, -3.782900094985962, -3.815700054168701, -4.029399871826172, -4.0609002113342285, -4.126399993896484, -4.184899806976318, -4.191500186920166, -4.232999801635742, -4.275199890136719, -4.283599853515625, -4.337399959564209, -4.416600227355957, -4.552000045776367, -4.655700206756592, -4.693399906158447, -4.718900203704834, -4.794000148773193, -4.803699970245361, -4.821199893951416, -4.854899883270264, -4.8597002029418945, -4.952600002288818, -4.986100196838379, -5.008600234985352, -5.0167999267578125, -1.7217999696731567, -2.359800100326538, -3.531100034713745, -3.5764999389648438, -3.6045000553131104, -3.8020999431610107, -3.874500036239624, -3.8750998973846436, -3.937000036239624, -3.9502999782562256, -4.164299964904785, -4.183800220489502, -4.2729997634887695, -4.32450008392334, -4.432199954986572, -4.666900157928467, -4.7677998542785645, -4.807400226593018, -4.875500202178955, -4.883399963378906, -4.920599937438965, -4.921000003814697, -4.924300193786621, -5.027500152587891, -5.065899848937988, -5.072199821472168, -5.09250020980835, -5.131800174713135, -5.135000228881836, -5.14139986038208], \"loglift\": [30.0, 29.0, 28.0, 27.0, 26.0, 25.0, 24.0, 23.0, 22.0, 21.0, 20.0, 19.0, 18.0, 17.0, 16.0, 15.0, 14.0, 13.0, 12.0, 11.0, 10.0, 9.0, 8.0, 7.0, 6.0, 5.0, 4.0, 3.0, 2.0, 1.0, 0.8908, 0.8908, 0.8908, 0.8908, 0.8908, 0.8907, 0.8907, 0.8907, 0.8907, 0.8907, 0.8907, 0.8907, 0.8906, 0.8906, 0.8906, 0.8905, 0.8905, 0.8905, 0.8905, 0.8905, 0.8905, 0.8905, 0.8905, 0.8905, 0.8905, 0.8905, 0.8905, 0.8905, 0.8904, 0.8904, 0.8901, 0.8256, 0.7284, 0.6039, 2.4621, 2.4621, 2.4619, 2.4618, 2.4617, 2.4617, 2.4616, 2.4615, 2.4615, 2.4615, 2.4615, 2.4613, 2.4613, 2.4612, 2.4612, 2.4611, 2.461, 2.461, 2.4609, 2.4608, 2.4607, 2.4606, 2.4605, 2.4605, 2.4604, 2.4604, 2.4603, 2.4597, 2.4596, 2.4595, 2.4581, 2.3011, 1.9441, 2.5357, 2.5356, 2.5355, 2.5354, 2.5352, 2.5351, 2.535, 2.535, 2.535, 2.5349, 2.5348, 2.5347, 2.5347, 2.5345, 2.5344, 2.5344, 2.5343, 2.5343, 2.5343, 2.5343, 2.5343, 2.5342, 2.5342, 2.5341, 2.5341, 2.5341, 2.5341, 2.534, 2.5337, 2.5336, 2.5267, 2.5146, 2.4467, 1.1352, 0.6372, 2.6819, 2.6818, 2.6818, 2.6818, 2.6817, 2.6817, 2.6816, 2.6814, 2.6813, 2.6812, 2.6811, 2.681, 2.681, 2.6808, 2.6807, 2.6807, 2.6806, 2.6806, 2.6806, 2.6805, 2.6804, 2.6803, 2.6803, 2.6803, 2.6802, 2.6799, 2.6799, 2.6798, 2.6797, 2.6797, 2.6727, 2.6728, 2.1309, 3.0144, 3.0143, 3.0138, 3.0138, 3.0137, 3.0137, 3.0136, 3.0134, 3.0131, 3.0131, 3.0128, 3.0127, 3.0127, 3.0127, 3.0126, 3.0125, 3.0125, 3.0123, 3.0123, 3.0121, 3.0121, 3.012, 3.012, 3.012, 3.0117, 3.0115, 3.0114, 3.0113, 3.0113, 3.0113, 3.2886, 3.2885, 3.2885, 3.2884, 3.2883, 3.2883, 3.2881, 3.2878, 3.2878, 3.2877, 3.2876, 3.2873, 3.2872, 3.2872, 3.2872, 3.2871, 3.287, 3.2866, 3.2866, 3.2861, 3.2861, 3.2858, 3.2858, 3.2858, 3.2853, 3.2852, 3.2847, 3.2842, 3.284, 3.284, 3.3121, 3.3121, 3.312, 3.3119, 3.3113, 3.3112, 3.311, 3.3106, 3.3106, 3.3104, 3.3104, 3.3103, 3.3101, 3.3101, 3.3095, 3.3094, 3.3094, 3.309, 3.3087, 3.3069, 3.3068, 3.3063, 3.3056, 3.3056, 3.3055, 3.3047, 3.3045, 3.3041, 3.3041, 3.3041, 1.2317, 3.4721, 3.472, 3.472, 3.4715, 3.4714, 3.4714, 3.4714, 3.4713, 3.4712, 3.4711, 3.4708, 3.4707, 3.4707, 3.4704, 3.4703, 3.4701, 3.4697, 3.4695, 3.4694, 3.4694, 3.4694, 3.4694, 3.4693, 3.4691, 3.469, 3.4688, 3.4687, 3.4685, 3.4682, 3.4681, 3.5395, 3.5391, 3.539, 3.539, 3.539, 3.5387, 3.5385, 3.5377, 3.5376, 3.5369, 3.5368, 3.5351, 3.5346, 3.5344, 3.5342, 3.5342, 3.5341, 3.5338, 3.5335, 3.5332, 3.5329, 3.5312, 3.5309, 3.5308, 3.5303, 3.53, 3.5299, 3.5296, 3.528, 3.5274, 3.4055, 3.9167, 3.9164, 3.916, 3.9159, 3.9155, 3.9148, 3.9145, 3.9136, 3.9135, 3.9132, 3.913, 3.9127, 3.9126, 3.9122, 3.9117, 3.9111, 3.9108, 3.9108, 3.9107, 3.9099, 3.9098, 3.9081, 3.9081, 3.9079, 3.9073, 3.9067, 3.9057, 3.9054, 3.9053, 3.905, 1.5283, 3.9654, 3.9653, 3.9651, 3.9638, 3.9632, 3.9631, 3.9627, 3.9626, 3.9622, 3.9621, 3.9621, 3.9618, 3.9617, 3.9617, 3.9615, 3.9614, 3.9613, 3.9607, 3.9606, 3.9605, 3.9602, 3.9602, 3.9589, 3.9582, 3.9574, 3.9571, 3.9566, 3.9556, 3.9549, 3.9544, 3.9706, 3.9702, 3.9699, 3.9692, 3.9692, 3.969, 3.9685, 3.9681, 3.968, 3.9679, 3.9677, 3.9665, 3.9663, 3.9661, 3.966, 3.966, 3.9654, 3.965, 3.9648, 3.9648, 3.964, 3.9638, 3.9635, 3.9626, 3.9624, 3.962, 3.962, 3.962, 3.9616, 3.9615, 3.9978, 3.9974, 3.9971, 3.9967, 3.9966, 3.9965, 3.9965, 3.996, 3.9957, 3.9954, 3.9951, 3.995, 3.9949, 3.9941, 3.994, 3.9938, 3.9929, 3.9926, 3.9916, 3.9913, 3.9907, 3.9903, 3.9899, 3.9898, 3.9894, 3.9888, 3.9882, 3.9875, 3.9874, 3.9869, 4.1136, 4.113, 4.1119, 4.1114, 4.1112, 4.1112, 4.1108, 4.1107, 4.1103, 4.1102, 4.11, 4.1099, 4.1096, 4.1092, 4.1083, 4.1076, 4.1074, 4.107, 4.1065, 4.1065, 4.106, 4.1056, 4.1046, 4.1045, 4.1045, 4.1041, 4.1031, 4.1028, 4.1027, 4.1024, 4.1341, 4.1338, 4.1337, 4.133, 4.1328, 4.1326, 4.1324, 4.1317, 4.1313, 4.131, 4.1296, 4.1296, 4.1294, 4.1294, 4.1291, 4.1282, 4.1263, 4.1258, 4.1258, 4.1257, 4.1247, 4.1245, 4.1233, 4.1218, 4.121, 4.1193, 4.1191, 4.118, 4.1175, 4.1161, 4.1824, 4.1823, 4.1822, 4.1817, 4.1813, 4.1802, 4.18, 4.1799, 4.1796, 4.1794, 4.1792, 4.1789, 4.1789, 4.1787, 4.1779, 4.1778, 4.1778, 4.1767, 4.1764, 4.1759, 4.1756, 4.1754, 4.1754, 4.1742, 4.1739, 4.1736, 4.1734, 4.1725, 4.1724, 4.1721, 4.3146, 4.3142, 4.3139, 4.3138, 4.3135, 4.3132, 4.313, 4.3122, 4.3121, 4.312, 4.312, 4.3116, 4.3097, 4.3097, 4.3095, 4.3084, 4.3079, 4.3074, 4.307, 4.3063, 4.3058, 4.3052, 4.3045, 4.3036, 4.3033, 4.3027, 4.3001, 4.2989, 4.2988, 4.2984, 4.341, 4.3407, 4.3401, 4.3394, 4.338, 4.3376, 4.3373, 4.3368, 4.3358, 4.3355, 4.3349, 4.3349, 4.3345, 4.3342, 4.333, 4.3323, 4.3318, 4.331, 4.3303, 4.3298, 4.3291, 4.3265, 4.3262, 4.3258, 4.3248, 4.3246, 4.3242, 4.3225, 4.3219, 4.3213, 4.3663, 4.3653, 4.3637, 4.3631, 4.3626, 4.3621, 4.3619, 4.3606, 4.3604, 4.36, 4.3595, 4.3595, 4.3592, 4.3588, 4.3588, 4.3583, 4.3576, 4.3562, 4.355, 4.3545, 4.3542, 4.3532, 4.3531, 4.3528, 4.3523, 4.3523, 4.3508, 4.3503, 4.3499, 4.3497, 4.4659, 4.4652, 4.4622, 4.462, 4.4619, 4.4609, 4.4604, 4.4604, 4.46, 4.4599, 4.4584, 4.4582, 4.4574, 4.4569, 4.4558, 4.453, 4.4516, 4.451, 4.4499, 4.4498, 4.4491, 4.4491, 4.4491, 4.4472, 4.4464, 4.4463, 4.4459, 4.4451, 4.445, 4.4448]}, \"token.table\": {\"Topic\": [12, 11, 18, 12, 7, 8, 2, 5, 13, 19, 20, 9, 18, 12, 5, 2, 4, 1, 2, 15, 6, 1, 3, 7, 4, 12, 14, 20, 17, 11, 4, 19, 14, 13, 3, 17, 19, 5, 8, 2, 9, 1, 13, 5, 14, 10, 13, 11, 10, 17, 6, 15, 11, 15, 16, 5, 5, 13, 8, 14, 15, 19, 19, 8, 2, 20, 6, 13, 14, 17, 8, 5, 14, 9, 17, 10, 7, 1, 13, 11, 7, 7, 16, 10, 5, 18, 19, 14, 7, 1, 14, 6, 19, 11, 8, 16, 17, 17, 9, 9, 7, 18, 20, 20, 5, 1, 5, 3, 9, 10, 20, 12, 15, 5, 11, 15, 8, 16, 5, 8, 10, 13, 10, 11, 14, 10, 10, 8, 19, 7, 3, 15, 8, 7, 20, 5, 11, 17, 14, 1, 2, 20, 18, 11, 16, 20, 2, 19, 16, 13, 10, 2, 15, 9, 7, 6, 19, 15, 12, 19, 16, 18, 12, 10, 6, 20, 16, 13, 1, 4, 15, 11, 7, 2, 12, 6, 7, 15, 12, 11, 1, 3, 19, 15, 5, 18, 16, 10, 12, 20, 8, 8, 14, 8, 4, 16, 13, 6, 10, 2, 16, 19, 1, 3, 1, 3, 4, 1, 13, 20, 12, 19, 6, 15, 5, 16, 16, 2, 12, 16, 17, 8, 16, 2, 3, 17, 17, 17, 9, 8, 1, 7, 8, 9, 1, 3, 1, 1, 2, 20, 14, 1, 14, 13, 20, 3, 12, 13, 3, 2, 3, 1, 7, 5, 20, 3, 17, 17, 6, 16, 16, 18, 11, 2, 10, 4, 15, 1, 2, 2, 11, 5, 9, 5, 7, 10, 9, 8, 6, 12, 1, 14, 1, 3, 4, 14, 3, 9, 3, 3, 11, 4, 3, 19, 8, 18, 4, 13, 4, 9, 17, 10, 11, 5, 17, 1, 4, 15, 1, 12, 1, 5, 2, 5, 1, 18, 18, 10, 2, 12, 13, 9, 13, 18, 2, 18, 20, 9, 10, 5, 12, 4, 7, 15, 15, 3, 15, 1, 20, 12, 3, 16, 4, 4, 1, 3, 4, 1, 1, 10, 17, 11, 8, 4, 17, 4, 7, 19, 8, 16, 17, 4, 6, 1, 2, 2, 16, 4, 20, 13, 2, 6, 7, 19, 17, 18, 20, 4, 4, 8, 11, 14, 11, 18, 4, 19, 6, 17, 11, 3, 7, 3, 20, 17, 6, 20, 1, 17, 2, 19, 7, 16, 8, 15, 6, 2, 11, 6, 20, 17, 6, 18, 9, 19, 18, 2, 11, 7, 5, 7, 16, 11, 6, 16, 3, 6, 12, 6, 10, 17, 12, 15, 18, 4, 5, 9, 1, 9, 3, 20, 7, 9, 7, 15, 19, 7, 8, 14, 7, 5, 6, 16, 3, 4, 16, 18, 13, 9, 9, 10, 8, 13, 4, 8, 15, 2, 5, 12, 10, 14, 9, 8, 6, 3, 20, 19, 15, 6, 2, 11, 1, 4, 15, 7, 13, 3, 17, 12, 18, 9, 7, 15, 11, 10, 6, 2, 18, 19, 19, 16, 12, 14, 10, 8, 13, 18, 11, 20, 19, 15, 13, 15, 3, 14, 18, 20, 5, 20, 11, 6, 14, 12, 3, 19, 14, 9, 20, 5, 1, 19, 13, 20, 12, 10, 13, 17, 9, 18, 19, 10, 19, 2, 8, 13, 10, 9, 16, 6, 15, 1, 1, 2, 1, 4, 12, 8, 6, 18, 19, 2, 14, 3, 14, 15, 14, 14, 1, 1, 12, 8, 1, 18, 3, 14, 6, 18, 13, 10, 12, 18, 15, 1, 4, 5, 9, 16, 9, 4, 2, 11, 17, 18, 17, 7, 4, 13, 14, 14, 10, 1, 6, 1, 3, 1, 3, 4, 2, 10, 3, 16, 7, 9, 10, 13, 11, 1, 14, 20, 3, 1, 5, 9, 13, 12, 7, 11, 12, 17, 2, 4, 9, 4, 4, 18, 16], \"Freq\": [0.9971655571731091, 0.995676346285752, 0.9927802391361453, 0.985655760515882, 0.9913496614399143, 0.9970309501089628, 0.9971951239153378, 0.995763724254701, 0.9900102912403547, 0.9912274858720385, 0.9752044095599972, 0.9972933476492217, 0.9950980255247109, 0.9910450601314317, 0.9961491997023113, 0.422885483748599, 0.5755163371545503, 0.9997777938451905, 0.9994014919712776, 0.988257346639082, 0.9977180643469297, 0.0011808867573696563, 0.9978493099773595, 0.995615708823839, 0.9979563578187546, 0.9925878332438541, 0.9876956124269959, 0.9747260909793759, 0.9868083721482438, 0.9944748198716463, 0.9979324032091009, 0.9856360882647904, 0.9940575244174928, 0.9917881005778574, 0.9994821865012368, 0.9833135083156156, 0.9882710445389087, 0.9954189105576093, 0.9987164005868179, 0.9991079604383372, 0.9885809062543116, 0.9997364930463389, 0.9898403121476183, 0.9944209041899167, 0.9977439851593232, 0.9979890283681656, 0.9860811373069273, 0.9978346096092081, 0.9962823714110008, 0.9778245609424607, 0.9982830770412402, 0.9985820109920828, 0.9948831647858558, 0.9840746653610042, 0.9917174378120935, 0.9982924073257639, 0.9984514313728173, 0.9951113631147169, 0.9962644873443878, 0.9932454010648119, 0.9891601994035301, 0.9754206367619751, 0.9956832432046591, 0.9960886472115666, 0.9974357275515907, 0.9943034107697875, 0.9990773687995105, 0.9953362094752805, 0.9970492445533393, 0.9911433177380738, 0.997489914772648, 0.9975810373738436, 0.990986345663825, 0.9992178636758278, 0.9950477821825036, 0.997349770229264, 0.9994214180194727, 0.9998994912669033, 0.9847569710818831, 0.9993890627453411, 0.9985559682403782, 0.9983906851133019, 0.9922112114137371, 0.998063550702711, 0.9978324207906873, 0.9804505048962827, 0.9882173117668713, 0.9925187619570582, 0.9989371548084346, 0.9996219644261422, 0.9985685366636116, 0.9990548166867682, 0.9910892613674283, 0.9977367056466133, 0.9974860140925866, 0.9895394483199399, 0.9947103588255166, 0.9965121939699725, 0.9940961921551151, 0.9996121926855088, 0.9902282255486873, 0.9947159250152228, 0.9923148066766226, 0.9907740184871154, 0.9981116605520609, 0.9998542356952185, 0.9965717183452385, 0.9979426110128031, 0.9960763911742395, 0.9926299676211113, 0.9748753184518605, 0.991056060817429, 0.9976244226666311, 0.9948413753035121, 0.9969086236603457, 0.9977582789078951, 0.9971748793573312, 0.995443547216005, 0.9984329640362943, 0.9961996786312579, 0.9945456723239998, 0.9967836381447318, 0.9815569027388277, 0.9972906431318608, 0.9894359687335355, 0.9874058407553291, 0.9979223352779872, 0.9955909399026941, 0.9926604785584141, 0.9990202187113215, 0.9988203175959263, 0.9942537617678731, 0.9978744897137933, 0.9995081248308879, 0.9921616950642869, 0.9988729408467326, 0.9886555995134958, 0.997684877776527, 0.9906033130539693, 0.9994281877172142, 0.9995260026151379, 0.982644048782163, 0.9884802432608213, 0.989991863556818, 0.9955839690531595, 0.99537097627239, 0.9989813691909232, 0.9959720358319228, 0.9932482182004777, 0.997669391842539, 0.9867977155338531, 0.9995465012695143, 0.9956185021000404, 0.9939497760053725, 0.9917621094860377, 0.9995061802905293, 0.9866864789549442, 0.9906088159495636, 0.9988707335910817, 0.9964232840570171, 0.9904705245245943, 0.9990178514916215, 0.9971920577207263, 0.9928014854605002, 0.9960340322664745, 0.9740605174386757, 0.9870928974830241, 0.9930346210746667, 0.9995124691513737, 0.9978886403249793, 0.9925828991967429, 0.9972098533898651, 0.9974662644595622, 0.9998217026903038, 0.9926613577552446, 0.9990332254036932, 0.9960738386516449, 0.9938631219729215, 0.9921513821883705, 0.9952398693241645, 0.9369205846222616, 0.06292750195224145, 0.9974960108779377, 0.9967437987436158, 0.9949906020610155, 0.9894748557201307, 0.988575392856538, 0.9942884701880838, 0.9973003836408867, 0.9727083240851259, 0.9983762401445141, 0.9970033754506255, 0.9978455801616656, 0.9951215052233562, 0.9983828544821123, 0.9913151990915888, 0.9923282338854122, 0.9940907377625636, 0.9946458044704763, 0.9978112356834137, 0.9879226248223298, 0.9932730285295032, 0.9996867527314703, 0.9980360363172176, 0.9997729462921302, 0.9974703264508701, 0.9974144793817444, 0.9994646660864497, 0.99820016876763, 0.9955494262226386, 0.9977749010812336, 0.9867125638946039, 0.9995984280602582, 0.9840157736973958, 0.9976465408844686, 0.9905197482748692, 0.9944114287694864, 0.9999003348393642, 0.9937538228428037, 0.9916179071178971, 0.9776145453936442, 0.9989033733399292, 0.9931639988859741, 0.9993589631525719, 0.9971004705079664, 0.973414693711082, 0.9969864999630201, 0.9840963283714181, 0.993775054657829, 0.9987209574771252, 0.9998785323018585, 0.9885636782502107, 0.9989549958526721, 0.9926867450976099, 0.8499148320640767, 0.14970596100186911, 0.9999178572578581, 0.9992452404880479, 0.0006978665752186307, 0.989277064614385, 0.9882208229545708, 0.999854717635097, 0.9953417833702558, 0.9977626718440961, 0.9966076558904067, 0.9987355593485916, 0.9974598271469899, 0.9854684212254178, 0.9978991700204607, 0.997990994863249, 0.9982681788865039, 0.004751660768097866, 0.993097100532454, 0.9992053318782846, 0.995540590194215, 0.9992165940572137, 0.9837607259080499, 0.9978569457326107, 0.9970075772747731, 0.9971971398171784, 0.9870157083681222, 0.9973143331144707, 0.9937710592275077, 0.9989961301722327, 0.9992633476004857, 0.9992555576276098, 0.998231497427665, 0.40354037011376237, 0.5957024511203158, 0.9991614907828866, 0.9942958287669904, 0.9955967096515237, 0.9909609656871516, 0.9988421545659595, 0.9969651206138272, 0.9983811027331899, 0.9920315907850136, 0.9970597441984824, 0.9993218438940749, 0.9984041785378267, 0.9997895367415687, 0.9978804815007463, 0.06952910761508181, 0.9145468864079016, 0.015450912803351514, 0.9977878598629996, 0.9982454355768505, 0.9993143469257163, 0.9982615595995332, 0.9993369614113112, 0.9858427450047932, 0.9990776135497385, 0.9988868754467023, 0.9842836737197503, 0.9974940773721657, 0.9847982400552598, 0.9972226880344126, 0.9964315685744873, 0.9981667295632911, 0.9982215461831346, 0.9957051962835526, 0.9895704251564632, 0.9928428466222274, 0.9974922084195406, 0.9958466332200071, 0.008682877740989694, 0.9906374149947332, 0.9916452745453064, 0.9996757957958248, 0.9953233522785147, 0.9997368768693625, 0.9960961899544285, 0.9995916134651884, 0.9967942975618297, 0.9997700156526693, 0.9764604492500429, 0.9951753565791134, 0.9920852553854014, 0.9996314266745565, 0.9957543316166816, 0.9993565458338513, 0.9913407959698813, 0.9983043839365862, 0.997245729417989, 0.9990430742423266, 0.9881169357967704, 0.994468716712803, 0.9921153442256367, 0.997608247699028, 0.9945617261225612, 0.9924674933022123, 0.9986217141641693, 0.9971951989302186, 0.9937909550531487, 0.988021665651892, 0.9978809812211298, 0.9827231831268358, 0.9995034130210187, 0.9983843308565181, 0.9984892249364995, 0.9981723092028834, 0.9929564095186239, 0.9989319551986485, 0.9996428982856431, 0.020864993719010554, 0.9788864849868002, 0.9990663683868817, 0.9996860743497362, 0.9079347608215108, 0.09146685167732155, 0.9923007005008926, 0.9957322851532082, 0.9955345745804891, 0.9974708082178311, 0.9955926579468254, 0.9993301667164229, 0.9984313507064472, 0.9933228049759414, 0.9993209865584872, 0.9965649995721437, 0.9844067539688005, 0.9987513891504655, 0.9959937367113008, 0.0026468760158753547, 0.996548819977071, 0.9998097535084647, 0.9957765739908422, 0.9977285686146331, 0.9901980598851009, 0.9904600569980513, 0.998911518649357, 0.9972211170096472, 0.9963081008548893, 0.9900623879079713, 0.992644543434598, 0.9823382314784338, 0.9953402411081941, 0.9986814856239407, 0.9987562824833794, 0.9984019631490326, 0.9962582829295689, 0.9951668359495328, 0.9952911778354228, 0.9832911152442543, 0.9992407415370163, 0.978797384291192, 0.9970210300224819, 0.9904601044370853, 0.9882007461311848, 0.9991829133982932, 0.9983097833283748, 0.999028575602039, 0.9879245124875647, 0.9975018869808848, 0.9960914300395491, 0.9990909208264406, 0.9998602401775103, 0.9967183863698862, 0.9984171079145239, 0.9973762982728439, 0.9983239639523394, 0.9961190537484859, 0.9963849043710404, 0.9895279310258452, 0.9972351200639539, 0.9989987584689268, 0.9880949434978823, 0.9977384441642165, 0.9959063639584729, 0.9967170709371105, 0.9982999669139107, 0.9877024143477563, 0.9998253502817434, 0.9958629669703486, 0.9884128422336571, 0.9990016134300473, 0.9982736423310798, 0.9968602764237332, 0.998403670417431, 0.9988712603494942, 0.984129343588228, 0.9952520516430701, 0.9931147801196877, 0.9907127656026934, 0.9989611886216204, 0.9972556600670862, 0.9949741508625376, 0.9987309811119182, 0.992260601761373, 0.9953368714256854, 0.9893094353501791, 0.9972460238914577, 0.9966262713263737, 0.9986030308134725, 0.9973208366730474, 0.9985236159568177, 0.999500117290262, 0.9995309314410381, 0.9989646812858886, 0.9857396066887439, 0.9944298475465202, 0.982905452566822, 0.9968238588720872, 0.9961572033710179, 0.9787479691821115, 0.9958409034221235, 0.9978812319214176, 0.9874611764971664, 0.9942997525629638, 0.9976685097186483, 0.9989947064210333, 0.9938091736511059, 0.9987218509047725, 0.9994930868808785, 0.9877590012630016, 0.9937863605391611, 0.9898064391744754, 0.9988452139686194, 0.9951995430397322, 0.9995877519304835, 0.9974137573239671, 0.9834677974294828, 0.9994720810500525, 0.9970279711006528, 0.9874554138537911, 0.9986463879675365, 0.9969700577734875, 0.9910573030634153, 0.9867608221181609, 0.9855035786810792, 0.9918970951886404, 0.9980561812214637, 0.9990633793172459, 0.9998329145952393, 0.9898075614641161, 0.9810898715348759, 0.991423501855499, 0.9967225757304207, 0.9991474952700469, 0.9929868876010014, 0.0014511301128895648, 0.9983775176680205, 0.997237486439744, 0.9989326780775896, 0.9974686201706067, 0.9974144603985019, 0.9988713832123811, 0.9904548283295989, 0.9932943126778516, 0.9943175791160738, 0.999259642500296, 0.9978752188865565, 0.9988775823959193, 0.9932183493659985, 0.9966024735607381, 0.9990832915660699, 0.9938096221180647, 0.9888457033068672, 0.9889519407454911, 0.9890463334222565, 0.9920968409715023, 0.9869801064549262, 0.9921119223561868, 0.9948563096881703, 0.9984409924266217, 0.9955266310066536, 0.9968499919525909, 0.9903451052694814, 0.9883220821338083, 0.9804496509064955, 0.9974571946787056, 0.9760774439123643, 0.9972097756109464, 0.991277762299971, 0.9752856530226407, 0.994913980343764, 0.997733852814601, 0.9679800382175584, 0.9948659814018324, 0.9984361467969107, 0.9974922693173791, 0.9896900394224444, 0.9977435196162951, 0.999192794290635, 0.9937191815975778, 0.9964083201703671, 0.9941729821708662, 0.9934682632660506, 0.9996232634833989, 0.9828571405729486, 0.9978877846777752, 0.9909296615064931, 0.9960123630755936, 0.9995447601358215, 0.9989024455110874, 0.9893253759761766, 0.9993690527793704, 0.9986855313091911, 0.992132225966825, 0.9958591441346956, 0.9898730912058821, 0.9974769814791212, 0.9978098531285893, 0.9901315086590307, 0.997688838197757, 0.9919141374779807, 0.9874807268855298, 0.9989541304090511, 0.9903883970800723, 0.9994311322616984, 0.14824166337370948, 0.8510169564046284, 0.009475715395983726, 0.9902122588802993, 0.9927087594306774, 0.9989885052665101, 0.9992662543163207, 0.976948338191107, 0.9954846694037718, 0.9987476152710031, 0.9977538144567467, 0.9997957655464073, 0.9934625362335466, 0.9989397934305738, 0.9945379593604468, 0.9946752426872353, 0.9996436176806444, 0.9994593355296782, 0.9964761514670557, 0.9937353644911114, 0.9998316356650419, 0.996895274062731, 0.9986555169056863, 0.9922400976482658, 0.9953230431560179, 0.9912673188502794, 0.9969520790555032, 0.9944828894103912, 0.9964338787318345, 0.9707225239476807, 0.9970335746405369, 0.9996011419555028, 0.9986894786688123, 0.9964710909636096, 0.9973998444244616, 0.9915688133575871, 0.9829397265118672, 0.9981052572926337, 0.9981428136347547, 0.9947737984768441, 0.9901752658350716, 0.9979301578975068, 0.9838155480279007, 0.9926615309700316, 0.9994486070232868, 0.9924364813918941, 0.9972931058251238, 0.9939265880845249, 0.9952113652812566, 0.9995800415297766, 0.9975766561260567, 0.008561480238742585, 0.990991337634454, 0.7505163055222116, 0.24631835957874895, 0.0028903066964911872, 0.9981837995202576, 0.9987224525698342, 0.9986679015376415, 0.9927950957284553, 0.12503697948562795, 0.874282004997164, 0.998846518995954, 0.9957386776783547, 0.9962576031506208, 0.999823855009522, 0.9853662104676911, 0.9801928497456069, 0.9989469739424366, 0.9998490994311454, 0.9962682753861083, 0.9977382079542979, 0.99555460036382, 0.9982078509938596, 0.9996657271407329, 0.9969554421707203, 0.994171945408161, 0.9809957193795983, 0.9994011310915726, 0.9979987309124285, 0.9980842737493004, 0.9983789730994486, 0.9991869220002622, 0.9963466689437043, 0.9946873527688834], \"Term\": [\"abl\", \"absolut\", \"accept\", \"access\", \"account\", \"ad\", \"add\", \"addit\", \"adjust\", \"adult\", \"advantag\", \"afford\", \"afternoon\", \"alcohol\", \"allow\", \"almost\", \"almost\", \"also\", \"alway\", \"ambienc\", \"amount\", \"anoth\", \"anoth\", \"answer\", \"anyon\", \"anyway\", \"anywher\", \"anywher_el\", \"apart\", \"app\", \"appoint\", \"approach\", \"art\", \"artist\", \"ask\", \"assist\", \"attend\", \"avoid\", \"away\", \"awesom\", \"ayc\", \"back\", \"bacon\", \"base\", \"basic\", \"bathroom\", \"batter\", \"beat\", \"beauti\", \"bedroom\", \"beef\", \"beer\", \"begin\", \"bf\", \"bike\", \"bill\", \"birthday\", \"biscuit\", \"bite\", \"black\", \"block\", \"blood\", \"bone\", \"book\", \"bread\", \"break\", \"breakfast\", \"brunch\", \"buffet\", \"bug\", \"build\", \"burger\", \"butter\", \"buy\", \"cafe\", \"cake\", \"call\", \"can\", \"canyon\", \"car\", \"card\", \"care\", \"cashier\", \"casino\", \"casual\", \"cat\", \"center\", \"certain\", \"charg\", \"check\", \"chee\", \"chicken\", \"child\", \"chine\", \"chip\", \"choic\", \"choo\", \"choose\", \"class\", \"clean\", \"client\", \"cloth\", \"club\", \"coach\", \"cold\", \"come\", \"complain\", \"complet\", \"compliment\", \"concept\", \"condiment\", \"confu\", \"consid\", \"consist\", \"contact\", \"cool\", \"corn\", \"corner\", \"cost\", \"counter\", \"coupon\", \"cour\", \"court\", \"cover\", \"cozi\", \"cream\", \"crowd\", \"crust\", \"current\", \"custom\", \"cut\", \"cute\", \"d\", \"day\", \"dead\", \"deal\", \"dealership\", \"decent\", \"decor\", \"definit\", \"delici\", \"delish\", \"dentist\", \"deserv\", \"desk\", \"despit\", \"dessert\", \"detail\", \"didn\", \"die\", \"diner\", \"dinner\", \"dip\", \"discount\", \"discuss\", \"dish\", \"display\", \"dive\", \"do\", \"doctor\", \"doesn\", \"dog\", \"door\", \"downsid\", \"downtown\", \"draw\", \"dream\", \"dri\", \"drink\", \"drive\", \"driver\", \"drop\", \"due\", \"eat\", \"effort\", \"egg\", \"email\", \"entertain\", \"entir\", \"establish\", \"even\", \"even\", \"event\", \"everi\", \"everyon\", \"everywher\", \"exact\", \"excel\", \"expen\", \"extend\", \"extra\", \"extrem\", \"eye\", \"face\", \"fact\", \"fail\", \"fair\", \"fan\", \"fanci\", \"fast\", \"fear\", \"fee\", \"feel\", \"final\", \"find\", \"fine\", \"finish\", \"first\", \"fish\", \"fit\", \"fix\", \"flag\", \"flavor\", \"flight\", \"floor\", \"folk\", \"follow\", \"food\", \"foot\", \"forev\", \"former\", \"free\", \"frequent\", \"fresh\", \"front\", \"fulli\", \"game\", \"garlic\", \"gem\", \"gener\", \"get\", \"gift\", \"girl\", \"girlfriend\", \"give\", \"give\", \"go\", \"good\", \"good\", \"gourmet\", \"greasi\", \"great\", \"green\", \"group\", \"grow\", \"guy\", \"gym\", \"hadn\", \"hair\", \"half\", \"hand\", \"happen\", \"happen\", \"hear\", \"heart\", \"help\", \"hide\", \"highli_recommend\", \"hit\", \"hold\", \"hole\", \"honestli\", \"hostess\", \"hot\", \"hotel\", \"hour\", \"hous\", \"huge\", \"huge\", \"husband\", \"hype\", \"ice\", \"import\", \"impress\", \"inform\", \"insid\", \"instruct\", \"italian\", \"item\", \"job\", \"just\", \"kid\", \"know\", \"know\", \"know\", \"lack\", \"ladi\", \"last\", \"later\", \"leave\", \"lemon\", \"less\", \"let\", \"lettuc\", \"level\", \"lie\", \"light\", \"limit\", \"line\", \"list\", \"liter\", \"lobbi\", \"lobster\", \"local\", \"lol\", \"long\", \"long\", \"longer\", \"look\", \"lose\", \"love\", \"low\", \"lunch\", \"m\", \"make\", \"makeup\", \"mani\", \"martini\", \"meal\", \"mean\", \"meat\", \"medium\", \"meet\", \"mention\", \"menu\", \"mexican\", \"mine\", \"mini\", \"modern\", \"mom\", \"moment\", \"money\", \"month\", \"mood\", \"morn\", \"move\", \"movi\", \"much\", \"must\", \"nail\", \"name\", \"natur\", \"nee\", \"need\", \"never\", \"never\", \"new\", \"nice\", \"night\", \"night\", \"non\", \"none\", \"noodl\", \"note\", \"noth\", \"now\", \"number\", \"odd\", \"offer\", \"offic\", \"okay\", \"old\", \"onion\", \"option\", \"option\", \"order\", \"origin\", \"other\", \"oven\", \"overcook\", \"owner\", \"pack\", \"pain\", \"paint\", \"paper\", \"par\", \"parent\", \"park\", \"part\", \"parti\", \"pass\", \"pasta\", \"patio\", \"patron\", \"pay\", \"perch\", \"perfectli\", \"perform\", \"perhap\", \"person\", \"phone\", \"pick\", \"picnic\", \"pictur\", \"piec\", \"pizza\", \"place\", \"plan\", \"plate\", \"play\", \"plea\", \"pool\", \"poor\", \"popcorn\", \"pork\", \"portion\", \"posit\", \"potato\", \"pre\", \"prefer\", \"present\", \"pressur\", \"price\", \"pricey\", \"privat\", \"probabl\", \"problem\", \"process\", \"product\", \"profession\", \"public\", \"pull\", \"purcha\", \"push\", \"put\", \"qualiti\", \"question\", \"quick\", \"quickli\", \"quiet\", \"quot\", \"raman\", \"raw\", \"read\", \"readi\", \"real\", \"realli\", \"reason\", \"receiv\", \"receptionist\", \"refund\", \"regret\", \"regular\", \"relax\", \"remain\", \"request\", \"reserv\", \"respect\", \"respon\", \"rest\", \"restaur\", \"result\", \"return\", \"review\", \"ring\", \"road\", \"rock\", \"roll\", \"romant\", \"room\", \"rude\", \"ruin\", \"run\", \"rush\", \"safe\", \"salad\", \"sale\", \"salon\", \"salt\", \"salti\", \"sampl\", \"sandwich\", \"sauc\", \"say\", \"scene\", \"scratch\", \"screen\", \"season\", \"second\", \"section\", \"see\", \"see\", \"sell\", \"send\", \"serious\", \"set\", \"sever\", \"shirt\", \"shock\", \"shoot\", \"shop\", \"short\", \"show\", \"shower\", \"shrimp\", \"side\", \"simpli\", \"sing\", \"site\", \"situat\", \"skin\", \"skip\", \"sleep\", \"slice\", \"slow\", \"smell\", \"smoke\", \"smooth\", \"soda\", \"soggi\", \"solid\", \"somehow\", \"someon\", \"somewhat\", \"somewher\", \"son\", \"soon\", \"soul\", \"sound\", \"soup\", \"sour\", \"spa\", \"speak\", \"special\", \"spice\", \"spici\", \"spinach\", \"split\", \"staff\", \"stage\", \"stand\", \"starbuck\", \"station\", \"stay\", \"steak\", \"stick\", \"stop\", \"store\", \"straight\", \"strip\", \"student\", \"style\", \"suck\", \"sugar\", \"suit\", \"summer\", \"support\", \"sweet\", \"system\", \"t\", \"tabl\", \"tabl\", \"take\", \"take\", \"talent\", \"talk\", \"tast\", \"tasteless\", \"tattoo\", \"tea\", \"team\", \"tell\", \"tender\", \"thank\", \"theater\", \"thick\", \"thing\", \"think\", \"third\", \"throw\", \"time\", \"tire\", \"today\", \"tomato\", \"ton\", \"tooth\", \"touch\", \"tradit\", \"train\", \"trash\", \"treat\", \"tri\", \"trip\", \"truck\", \"true\", \"trust\", \"tuna\", \"turn\", \"twice\", \"typic\", \"uncomfort\", \"understand\", \"unit\", \"upset\", \"use\", \"ve\", \"veggi\", \"version\", \"view\", \"wait\", \"waiter\", \"walk\", \"walk\", \"want\", \"want\", \"want\", \"warm\", \"wasn\", \"water\", \"wear\", \"week\", \"week\", \"weekend\", \"weird\", \"welcom\", \"well\", \"whatev\", \"wide\", \"wife\", \"will\", \"window\", \"wine\", \"wing\", \"wish\", \"work\", \"worker\", \"world\", \"worst\", \"worth\", \"would\", \"write\", \"wrong\", \"year\", \"yesterday\", \"young\"]}, \"R\": 30, \"lambda.step\": 0.01, \"plot.opts\": {\"xlab\": \"PC1\", \"ylab\": \"PC2\"}, \"topic.order\": [2, 16, 17, 19, 6, 18, 9, 11, 7, 1, 10, 8, 12, 14, 15, 5, 20, 3, 4, 13]};\n",
              "\n",
              "function LDAvis_load_lib(url, callback){\n",
              "  var s = document.createElement('script');\n",
              "  s.src = url;\n",
              "  s.async = true;\n",
              "  s.onreadystatechange = s.onload = callback;\n",
              "  s.onerror = function(){console.warn(\"failed to load library \" + url);};\n",
              "  document.getElementsByTagName(\"head\")[0].appendChild(s);\n",
              "}\n",
              "\n",
              "if(typeof(LDAvis) !== \"undefined\"){\n",
              "   // already loaded: just create the visualization\n",
              "   !function(LDAvis){\n",
              "       new LDAvis(\"#\" + \"ldavis_el571402570280710001155601314\", ldavis_el571402570280710001155601314_data);\n",
              "   }(LDAvis);\n",
              "}else if(typeof define === \"function\" && define.amd){\n",
              "   // require.js is available: use it to load d3/LDAvis\n",
              "   require.config({paths: {d3: \"https://cdnjs.cloudflare.com/ajax/libs/d3/3.5.5/d3.min\"}});\n",
              "   require([\"d3\"], function(d3){\n",
              "      window.d3 = d3;\n",
              "      LDAvis_load_lib(\"https://cdn.rawgit.com/bmabey/pyLDAvis/files/ldavis.v1.0.0.js\", function(){\n",
              "        new LDAvis(\"#\" + \"ldavis_el571402570280710001155601314\", ldavis_el571402570280710001155601314_data);\n",
              "      });\n",
              "    });\n",
              "}else{\n",
              "    // require.js not available: dynamically load d3 & LDAvis\n",
              "    LDAvis_load_lib(\"https://cdnjs.cloudflare.com/ajax/libs/d3/3.5.5/d3.min.js\", function(){\n",
              "         LDAvis_load_lib(\"https://cdn.rawgit.com/bmabey/pyLDAvis/files/ldavis.v1.0.0.js\", function(){\n",
              "                 new LDAvis(\"#\" + \"ldavis_el571402570280710001155601314\", ldavis_el571402570280710001155601314_data);\n",
              "            })\n",
              "         });\n",
              "}\n",
              "</script>"
            ],
            "text/plain": [
              "PreparedData(topic_coordinates=              x         y  topics  cluster       Freq\n",
              "topic                                                \n",
              "1     -0.346830  0.182705       1        1  41.028896\n",
              "15    -0.170132 -0.336785       2        1   8.524674\n",
              "16    -0.215377  0.203275       3        1   7.918693\n",
              "18    -0.130690 -0.179182       4        1   6.839843\n",
              "5     -0.025482 -0.041348       5        1   4.901169\n",
              "17    -0.023085 -0.048265       6        1   3.728424\n",
              "8     -0.015048 -0.033821       7        1   3.642446\n",
              "10     0.009660 -0.015010       8        1   3.102657\n",
              "6      0.014071 -0.018494       9        1   2.902019\n",
              "0      0.031071  0.028223      10        1   1.989538\n",
              "9      0.069726  0.020245      11        1   1.894358\n",
              "7      0.063920  0.019666      12        1   1.884697\n",
              "11     0.067399  0.017541      13        1   1.833978\n",
              "13     0.087801  0.024285      14        1   1.633038\n",
              "14     0.083880  0.024223      15        1   1.600420\n",
              "4      0.091776  0.028859      16        1   1.521967\n",
              "19     0.101870  0.030464      17        1   1.334858\n",
              "2      0.097957  0.030218      18        1   1.300984\n",
              "3      0.103995  0.031877      19        1   1.268722\n",
              "12     0.103518  0.031326      20        1   1.148617, topic_info=          Term         Freq        Total Category  logprob  loglift\n",
              "142       food  8080.000000  8080.000000  Default  30.0000  30.0000\n",
              "267      order  6159.000000  6159.000000  Default  29.0000  29.0000\n",
              "114       take  4643.000000  4643.000000  Default  28.0000  28.0000\n",
              "44       price  2984.000000  2984.000000  Default  27.0000  27.0000\n",
              "48         say  4087.000000  4087.000000  Default  26.0000  26.0000\n",
              "...        ...          ...          ...      ...      ...      ...\n",
              "1218  advantag    45.215873    46.144172  Topic20  -5.0722   4.4463\n",
              "2420    extend    44.306227    45.234526  Topic20  -5.0925   4.4459\n",
              "2880    picnic    42.597294    43.525593  Topic20  -5.1318   4.4451\n",
              "2325      soul    42.461026    43.389325  Topic20  -5.1350   4.4450\n",
              "595       draw    42.190172    43.118471  Topic20  -5.1414   4.4448\n",
              "\n",
              "[648 rows x 6 columns], token_table=      Topic      Freq       Term\n",
              "term                            \n",
              "998      12  0.997166        abl\n",
              "925      11  0.995676    absolut\n",
              "1860     18  0.992780     accept\n",
              "569      12  0.985656     access\n",
              "1022      7  0.991350    account\n",
              "...     ...       ...        ...\n",
              "404       9  0.998084      write\n",
              "121       4  0.998379      wrong\n",
              "122       4  0.999187       year\n",
              "845      18  0.996347  yesterday\n",
              "1638     16  0.994687      young\n",
              "\n",
              "[635 rows x 3 columns], R=30, lambda_step=0.01, plot_opts={'xlab': 'PC1', 'ylab': 'PC2'}, topic_order=[2, 16, 17, 19, 6, 18, 9, 11, 7, 1, 10, 8, 12, 14, 15, 5, 20, 3, 4, 13])"
            ]
          },
          "metadata": {
            "tags": []
          },
          "execution_count": 25
        }
      ]
    },
    {
      "cell_type": "markdown",
      "metadata": {
        "id": "KW3vdB36_SfG"
      },
      "source": [
        "# **LSA**"
      ]
    },
    {
      "cell_type": "code",
      "metadata": {
        "id": "_TYdP9Ov6HMu"
      },
      "source": [
        "lsamodel = models.LsiModel(corpus, num_topics = 20, id2word = id2word)"
      ],
      "execution_count": null,
      "outputs": []
    },
    {
      "cell_type": "code",
      "metadata": {
        "colab": {
          "base_uri": "https://localhost:8080/"
        },
        "id": "N6UgkV6MD7wO",
        "outputId": "70d94b80-6caf-4d5c-acd4-438c7494f678"
      },
      "source": [
        "pprint(lsamodel.print_topics(num_topics = 20))"
      ],
      "execution_count": null,
      "outputs": [
        {
          "output_type": "stream",
          "text": [
            "[(0,\n",
            "  '0.284*\"go\" + 0.255*\"good\" + 0.238*\"get\" + 0.225*\"time\" + 0.217*\"place\" + '\n",
            "  '0.206*\"come\" + 0.204*\"food\" + 0.195*\"order\" + 0.190*\"just\" + 0.165*\"will\"'),\n",
            " (1,\n",
            "  '0.485*\"good\" + 0.406*\"food\" + 0.227*\"place\" + -0.223*\"go\" + -0.196*\"say\" + '\n",
            "  '-0.185*\"tell\" + -0.182*\"call\" + 0.164*\"order\" + -0.162*\"time\" + '\n",
            "  '0.149*\"great\"'),\n",
            " (2,\n",
            "  '0.633*\"order\" + -0.380*\"good\" + 0.285*\"come\" + 0.235*\"food\" + '\n",
            "  '-0.214*\"place\" + -0.167*\"go\" + -0.141*\"great\" + -0.121*\"can\" + 0.117*\"wait\" '\n",
            "  '+ 0.114*\"tabl\"'),\n",
            " (3,\n",
            "  '-0.554*\"go\" + 0.492*\"good\" + -0.439*\"place\" + -0.274*\"food\" + 0.238*\"get\" + '\n",
            "  '-0.159*\"great\" + 0.132*\"come\" + 0.110*\"time\" + 0.067*\"room\" + '\n",
            "  '-0.066*\"back\"'),\n",
            " (4,\n",
            "  '-0.623*\"go\" + 0.416*\"place\" + -0.416*\"good\" + 0.293*\"great\" + 0.169*\"come\" '\n",
            "  '+ 0.168*\"get\" + -0.151*\"order\" + 0.122*\"room\" + 0.078*\"can\" + 0.075*\"love\"'),\n",
            " (5,\n",
            "  '-0.698*\"time\" + 0.469*\"get\" + -0.241*\"great\" + 0.240*\"place\" + 0.146*\"say\" '\n",
            "  '+ -0.145*\"food\" + 0.126*\"just\" + -0.123*\"will\" + 0.121*\"order\" + '\n",
            "  '-0.111*\"make\"'),\n",
            " (6,\n",
            "  '-0.692*\"get\" + -0.350*\"food\" + 0.217*\"place\" + -0.198*\"great\" + '\n",
            "  '0.192*\"make\" + -0.182*\"time\" + 0.179*\"just\" + 0.171*\"say\" + 0.160*\"come\" + '\n",
            "  '0.160*\"order\"'),\n",
            " (7,\n",
            "  '-0.437*\"come\" + -0.427*\"food\" + 0.393*\"order\" + 0.370*\"time\" + '\n",
            "  '0.289*\"place\" + -0.200*\"back\" + -0.189*\"say\" + 0.178*\"get\" + -0.163*\"great\" '\n",
            "  '+ -0.145*\"will\"'),\n",
            " (8,\n",
            "  '0.566*\"come\" + -0.368*\"food\" + -0.308*\"just\" + -0.286*\"make\" + '\n",
            "  '0.279*\"place\" + 0.227*\"back\" + -0.193*\"can\" + 0.183*\"time\" + 0.171*\"good\" + '\n",
            "  '0.165*\"go\"'),\n",
            " (9,\n",
            "  '-0.442*\"great\" + 0.414*\"place\" + 0.318*\"food\" + 0.250*\"time\" + 0.217*\"say\" '\n",
            "  '+ -0.201*\"also\" + 0.183*\"good\" + -0.173*\"make\" + -0.172*\"go\" + '\n",
            "  '-0.147*\"order\"'),\n",
            " (10,\n",
            "  '-0.523*\"just\" + 0.338*\"will\" + -0.308*\"come\" + 0.301*\"great\" + '\n",
            "  '0.271*\"order\" + 0.202*\"call\" + -0.192*\"room\" + 0.153*\"take\" + -0.140*\"time\" '\n",
            "  '+ 0.138*\"make\"'),\n",
            " (11,\n",
            "  '0.609*\"room\" + -0.292*\"will\" + 0.249*\"stay\" + -0.233*\"just\" + -0.221*\"get\" '\n",
            "  '+ 0.194*\"order\" + 0.193*\"hotel\" + -0.165*\"time\" + 0.141*\"check\" + '\n",
            "  '0.141*\"great\"'),\n",
            " (12,\n",
            "  '-0.545*\"great\" + -0.400*\"just\" + 0.374*\"will\" + -0.307*\"say\" + 0.252*\"make\" '\n",
            "  '+ 0.207*\"can\" + 0.205*\"room\" + 0.142*\"food\" + 0.103*\"back\" + 0.093*\"stay\"'),\n",
            " (13,\n",
            "  '-0.757*\"can\" + 0.382*\"make\" + 0.260*\"just\" + -0.257*\"say\" + 0.121*\"room\" + '\n",
            "  '-0.114*\"t\" + 0.114*\"take\" + 0.095*\"place\" + -0.077*\"eat\" + 0.072*\"back\"'),\n",
            " (14,\n",
            "  '0.603*\"make\" + -0.543*\"will\" + -0.339*\"just\" + 0.184*\"come\" + -0.181*\"room\" '\n",
            "  '+ -0.158*\"back\" + -0.137*\"order\" + 0.094*\"say\" + 0.084*\"go\" + 0.080*\"ask\"'),\n",
            " (15,\n",
            "  '-0.601*\"take\" + 0.435*\"say\" + -0.271*\"wait\" + 0.192*\"room\" + -0.191*\"can\" + '\n",
            "  '-0.177*\"car\" + 0.142*\"time\" + 0.140*\"call\" + 0.128*\"will\" + -0.107*\"tabl\"'),\n",
            " (16,\n",
            "  '0.347*\"drink\" + 0.320*\"wait\" + 0.293*\"will\" + -0.254*\"also\" + '\n",
            "  '-0.207*\"price\" + 0.191*\"say\" + 0.188*\"tabl\" + 0.184*\"make\" + -0.176*\"work\" '\n",
            "  '+ -0.160*\"call\"'),\n",
            " (17,\n",
            "  '-0.312*\"say\" + -0.288*\"also\" + 0.267*\"can\" + -0.265*\"take\" + 0.243*\"just\" + '\n",
            "  '0.230*\"order\" + 0.208*\"make\" + 0.190*\"come\" + -0.179*\"tabl\" + '\n",
            "  '-0.173*\"love\"'),\n",
            " (18,\n",
            "  '0.530*\"love\" + 0.357*\"take\" + -0.283*\"drink\" + -0.211*\"price\" + '\n",
            "  '-0.196*\"give\" + 0.192*\"say\" + -0.155*\"tabl\" + -0.152*\"even\" + 0.148*\"room\" '\n",
            "  '+ 0.139*\"back\"'),\n",
            " (19,\n",
            "  '-0.580*\"love\" + 0.316*\"take\" + -0.314*\"drink\" + -0.223*\"also\" + '\n",
            "  '0.214*\"look\" + -0.176*\"tell\" + -0.168*\"call\" + 0.147*\"back\" + 0.145*\"eat\" + '\n",
            "  '-0.138*\"never\"')]\n"
          ],
          "name": "stdout"
        }
      ]
    },
    {
      "cell_type": "code",
      "metadata": {
        "id": "N5IB1qi8EG1o"
      },
      "source": [
        "coherence_values = []\n",
        "model_list = []\n",
        "for num_topics in range(2, 12, 1):\n",
        "  model = models.LsiModel(corpus, num_topics = 20, id2word = id2word)\n",
        "  model_list.append(model)\n",
        "  coherencemodel = CoherenceModel(model= model, texts = data['Stemming'], dictionary = id2word, coherence='c_v')\n",
        "  coherence_values.append(coherencemodel.get_coherence())"
      ],
      "execution_count": null,
      "outputs": []
    },
    {
      "cell_type": "code",
      "metadata": {
        "colab": {
          "base_uri": "https://localhost:8080/",
          "height": 279
        },
        "id": "V7b1zJEkIScK",
        "outputId": "f4df998b-554f-453a-ebda-faba03e60c71"
      },
      "source": [
        "x = range(2, 12, 1)\n",
        "plt.plot(x, coherence_values)\n",
        "plt.xlabel(\"Number of Topics\")\n",
        "plt.ylabel(\"Coherence score\")\n",
        "plt.legend((\"coherence_values\"), loc='best')\n",
        "plt.show()"
      ],
      "execution_count": null,
      "outputs": [
        {
          "output_type": "display_data",
          "data": {
            "image/png": "[encoded data removed]",
            "text/plain": [
              "<Figure size 432x288 with 1 Axes>"
            ]
          },
          "metadata": {
            "tags": [],
            "needs_background": "light"
          }
        }
      ]
    },
    {
      "cell_type": "markdown",
      "metadata": {
        "id": "vz-aNU3yB4iz"
      },
      "source": [
        "# **Summarization of Topics**\n",
        "\n",
        "**LDA**\n",
        "\n",
        "Reviews on Weekends\n",
        "\n",
        "Good to spend great time\n",
        "\n",
        "Reviews of movie\n",
        "\n",
        "Reviews of movie is positive by some people\n",
        "\n",
        "Reviews of  movie is negative by some people\n",
        "\n",
        "Reviews of movie is netural by some people\n",
        "\n",
        "More reviews on the cast and crew\n",
        "\n",
        "many are neutral having both positive and negative\n",
        "\n",
        "many praised the hero like he was awesone in acting\n",
        "\n",
        "many shared their joy by seeing this movie\n",
        "\n",
        "**LSA**\n",
        "\n",
        "Reviews on Weekends\n",
        "\n",
        "Good to spend great time\n",
        "\n",
        "Reviews of movie\n",
        "\n",
        "Reviews of movie is positive by some people\n",
        "\n",
        "Reviews of  movie is negative by some people\n",
        "\n",
        "Reviews of movie is netural by some people\n",
        "\n",
        "More reviews on the cast and crew\n",
        "\n",
        "many are neutral having both positive and negative\n",
        "\n",
        "many praised the hero like he was awesone in acting\n",
        "\n",
        "many shared their joy by seeing this movie\n",
        "\n",
        "\n"
      ]
    },
    {
      "cell_type": "markdown",
      "metadata": {
        "id": "AfpMRCrRwN6Z"
      },
      "source": [
        "# **Question 2: Review Sentiment Analysis**"
      ]
    },
    {
      "cell_type": "markdown",
      "metadata": {
        "id": "1dCQEbDawWCw"
      },
      "source": [
        "(30 points). Sentiment analysis also known as opinion mining is a sub field within Natural Language Processing (NLP) that builds machine learning algorithms to classify a text according to the sentimental polarities of opinions it contains, e.g., positive, negative, neutral. The purpose of this question is to develop a machine learning classifier for sentiment analysis. Based on the dataset from assignment three, write a python program to implement a sentiment classifier and evaluate its performance. Notice: **80% data for training and 20% data for testing**.\n",
        "\n",
        "(1) Features used for sentiment classification and explain why you select these features (tf-idf, sentiment lexicon, word2vec, etc). Considering achieve the best performance as you can. \n",
        "\n",
        "(2) Select two of the supervised learning algorithm from scikit-learn library: https://scikit-learn.org/stable/supervised_learning.html#supervised-learning, to build a sentiment classifier respectively. \n",
        "\n",
        "(3) Compare the performance over accuracy, precision, recall, and F1 score for the two algorithms you selected. Here is the reference of how to calculate these metrics: https://towardsdatascience.com/accuracy-precision-recall-or-f1-331fb37c5cb9. "
      ]
    },
    {
      "cell_type": "markdown",
      "metadata": {
        "id": "N5-aoBhN_XGq"
      },
      "source": [
        "# **Classifying Ratings**"
      ]
    },
    {
      "cell_type": "code",
      "metadata": {
        "id": "vATjQNTY8buA"
      },
      "source": [
        "data = data.dropna()\n",
        "def review_classification(rating):\n",
        "    if rating == 5:\n",
        "      return 'Very Positive'\n",
        "    elif rating == 4:\n",
        "      return 'Positive'\n",
        "    elif rating == 3:\n",
        "      return 'Neutral'\n",
        "    elif rating == 2:\n",
        "      return 'Negative'\n",
        "    elif rating == 1:\n",
        "      return 'Very Negative'\n",
        "\n",
        "rating_classification = data['stars'].map(review_classification)\n",
        "data['Rating'] = rating_classification"
      ],
      "execution_count": null,
      "outputs": []
    },
    {
      "cell_type": "code",
      "metadata": {
        "colab": {
          "base_uri": "https://localhost:8080/",
          "height": 450
        },
        "id": "j7eHf6VQ63-Q",
        "outputId": "6fdefac8-22b5-47a9-f1ef-26280565577e"
      },
      "source": [
        "import seaborn as sns\n",
        "print(data['Rating'].value_counts())\n",
        "sns.countplot(data.Rating)"
      ],
      "execution_count": null,
      "outputs": [
        {
          "output_type": "stream",
          "text": [
            "Very Positive    4341\n",
            "Positive         2316\n",
            "Very Negative    1409\n",
            "Neutral          1093\n",
            "Negative          841\n",
            "Name: Rating, dtype: int64\n"
          ],
          "name": "stdout"
        },
        {
          "output_type": "stream",
          "text": [
            "/usr/local/lib/python3.6/dist-packages/seaborn/_decorators.py:43: FutureWarning: Pass the following variable as a keyword arg: x. From version 0.12, the only valid positional argument will be `data`, and passing other arguments without an explicit keyword will result in an error or misinterpretation.\n",
            "  FutureWarning\n"
          ],
          "name": "stderr"
        },
        {
          "output_type": "execute_result",
          "data": {
            "text/plain": [
              "<matplotlib.axes._subplots.AxesSubplot at 0x7f8ff75e1dd8>"
            ]
          },
          "metadata": {
            "tags": []
          },
          "execution_count": 65
        },
        {
          "output_type": "display_data",
          "data": {
            "image/png": "[encoded data removed]",
            "text/plain": [
              "<Figure size 432x288 with 1 Axes>"
            ]
          },
          "metadata": {
            "tags": [],
            "needs_background": "light"
          }
        }
      ]
    },
    {
      "cell_type": "markdown",
      "metadata": {
        "id": "kAhkBTp7_b2S"
      },
      "source": [
        "# **Data Cleaning**"
      ]
    },
    {
      "cell_type": "code",
      "metadata": {
        "id": "qzkDFuBi7rRw"
      },
      "source": [
        "from nltk.corpus import stopwords\n",
        "from textblob import TextBlob\n",
        "data['Cleaned Text'] = data['text'].apply(lambda x: \" \".join(x.lower() for x in x.split()))\n",
        "data['Cleaned Text'] = data['Cleaned Text'].str.replace('[^\\w\\s]','')\n",
        "stop = stopwords.words('english')\n",
        "data['Cleaned Text'] = data['Cleaned Text'].apply(lambda x: \" \".join(x for x in x.split() if x not in stop))"
      ],
      "execution_count": null,
      "outputs": []
    },
    {
      "cell_type": "markdown",
      "metadata": {
        "id": "S7xrjEBC_fb_"
      },
      "source": [
        "# **Feature Selection**"
      ]
    },
    {
      "cell_type": "code",
      "metadata": {
        "id": "KZq-XgBK1LrA"
      },
      "source": [
        "from sklearn.preprocessing import LabelEncoder\n",
        "from sklearn.feature_extraction.text import TfidfVectorizer\n",
        "Tfidfvector = TfidfVectorizer(ngram_range=(1,2), max_features=1000)\n",
        "Tfidfvector.fit(data['text'])\n",
        "x_values = Tfidfvector.transform(data['text'])\n",
        "encoder = LabelEncoder()\n",
        "y_values = encoder.fit_transform(data['Rating'])"
      ],
      "execution_count": null,
      "outputs": []
    },
    {
      "cell_type": "markdown",
      "metadata": {
        "id": "8h7v6zU1QaaF"
      },
      "source": [
        "I have used the Tdidf Vector to improve the performance of the model. It improves the performance model by making it possible to have the words with similar meaning have similar representations and also reduce the computational complexity.\n",
        "\n",
        "Feature selection improves the accuracy of the model and also reduce the overfitting of the model.\n",
        "\n"
      ]
    },
    {
      "cell_type": "markdown",
      "metadata": {
        "id": "YlPmQXCb_mRN"
      },
      "source": [
        "# **Splitting into training and testing data**"
      ]
    },
    {
      "cell_type": "code",
      "metadata": {
        "id": "9_SxLbng3hz9"
      },
      "source": [
        "from sklearn import model_selection\n",
        "X_train, x_test, y_train, y_test = model_selection.train_test_split(x_values, y_values, test_size=0.2)"
      ],
      "execution_count": null,
      "outputs": []
    },
    {
      "cell_type": "markdown",
      "metadata": {
        "id": "CV0hkmC7_rLs"
      },
      "source": [
        "# **SVM**"
      ]
    },
    {
      "cell_type": "code",
      "metadata": {
        "colab": {
          "base_uri": "https://localhost:8080/"
        },
        "id": "poIXyfVC4m6U",
        "outputId": "a4ccd3c1-afa8-45d2-8706-967a39333c8f"
      },
      "source": [
        "from sklearn.metrics import accuracy_score\n",
        "from sklearn.metrics import classification_report\n",
        "from sklearn import svm\n",
        "svm_model = svm.SVC(kernel='linear')\n",
        "svm_model.fit(X_train, y_train)\n",
        "predicted = svm_model.predict(x_test)\n",
        "print(\"Accuracy score is {0}\".format(accuracy_score(y_test, predicted)))\n",
        "report = classification_report(y_test, predicted, output_dict=True)\n",
        "report"
      ],
      "execution_count": null,
      "outputs": [
        {
          "output_type": "stream",
          "text": [
            "Accuracy score is 0.611\n"
          ],
          "name": "stdout"
        },
        {
          "output_type": "execute_result",
          "data": {
            "text/plain": [
              "{'0': {'f1-score': 0.32343234323432346,\n",
              "  'precision': 0.4083333333333333,\n",
              "  'recall': 0.2677595628415301,\n",
              "  'support': 183},\n",
              " '1': {'f1-score': 0.3807106598984771,\n",
              "  'precision': 0.4411764705882353,\n",
              "  'recall': 0.33482142857142855,\n",
              "  'support': 224},\n",
              " '2': {'f1-score': 0.43995510662177323,\n",
              "  'precision': 0.4547563805104408,\n",
              "  'recall': 0.4260869565217391,\n",
              "  'support': 460},\n",
              " '3': {'f1-score': 0.691151919866444,\n",
              "  'precision': 0.6509433962264151,\n",
              "  'recall': 0.7366548042704626,\n",
              "  'support': 281},\n",
              " '4': {'f1-score': 0.766685052399338,\n",
              "  'precision': 0.7232049947970863,\n",
              "  'recall': 0.8157276995305164,\n",
              "  'support': 852},\n",
              " 'accuracy': 0.611,\n",
              " 'macro avg': {'f1-score': 0.5203870164040711,\n",
              "  'precision': 0.5356829150911022,\n",
              "  'recall': 0.5162100903471354,\n",
              "  'support': 2000},\n",
              " 'weighted avg': {'f1-score': 0.5971380049009313,\n",
              "  'precision': 0.5909111071766537,\n",
              "  'recall': 0.611,\n",
              "  'support': 2000}}"
            ]
          },
          "metadata": {
            "tags": []
          },
          "execution_count": 74
        }
      ]
    },
    {
      "cell_type": "markdown",
      "metadata": {
        "id": "RFWQ9sm1_t-C"
      },
      "source": [
        "# **Naive Bayes**"
      ]
    },
    {
      "cell_type": "code",
      "metadata": {
        "colab": {
          "base_uri": "https://localhost:8080/"
        },
        "id": "S-Pb85MfHdsG",
        "outputId": "ce970e37-b95a-43e3-e316-66b8441e71a9"
      },
      "source": [
        "from sklearn import naive_bayes\n",
        "nb = naive_bayes.MultinomialNB()\n",
        "nb.fit(X_train, y_train)\n",
        "predicted_nb = nb.predict(x_test)\n",
        "print(\"Accuracy score is {0}\".format(accuracy_score(y_test, predicted_nb)))\n",
        "report_nb = classification_report(y_test, predicted_nb, output_dict=True)\n",
        "report_nb"
      ],
      "execution_count": null,
      "outputs": [
        {
          "output_type": "stream",
          "text": [
            "Accuracy score is 0.554\n"
          ],
          "name": "stdout"
        },
        {
          "output_type": "execute_result",
          "data": {
            "text/plain": [
              "{'0': {'f1-score': 0.062176165803108814,\n",
              "  'precision': 0.6,\n",
              "  'recall': 0.03278688524590164,\n",
              "  'support': 183},\n",
              " '1': {'f1-score': 0.03361344537815126,\n",
              "  'precision': 0.2857142857142857,\n",
              "  'recall': 0.017857142857142856,\n",
              "  'support': 224},\n",
              " '2': {'f1-score': 0.3372093023255814,\n",
              "  'precision': 0.3625,\n",
              "  'recall': 0.31521739130434784,\n",
              "  'support': 460},\n",
              " '3': {'f1-score': 0.6321243523316062,\n",
              "  'precision': 0.6140939597315436,\n",
              "  'recall': 0.6512455516014235,\n",
              "  'support': 281},\n",
              " '4': {'f1-score': 0.7230046948356808,\n",
              "  'precision': 0.6025039123630673,\n",
              "  'recall': 0.903755868544601,\n",
              "  'support': 852},\n",
              " 'accuracy': 0.554,\n",
              " 'macro avg': {'f1-score': 0.3576255921348257,\n",
              "  'precision': 0.4929624315617794,\n",
              "  'recall': 0.3841725679106834,\n",
              "  'support': 2000},\n",
              " 'weighted avg': {'f1-score': 0.48382543609081174,\n",
              "  'precision': 0.5132218680089486,\n",
              "  'recall': 0.554,\n",
              "  'support': 2000}}"
            ]
          },
          "metadata": {
            "tags": []
          },
          "execution_count": 82
        }
      ]
    },
    {
      "cell_type": "markdown",
      "metadata": {
        "id": "p4rG2biNTZUe"
      },
      "source": [
        "I have selected the Naive Bayes and SVM. Below are metrics of the two models -\n",
        "![image.png](data:image/png;base64,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)\n"
      ]
    },
    {
      "cell_type": "markdown",
      "metadata": {
        "id": "E5mmYIfN8eYV"
      },
      "source": [
        "# **Question 3: House price prediction**"
      ]
    },
    {
      "cell_type": "markdown",
      "metadata": {
        "id": "hsi2y4z88ngX"
      },
      "source": [
        "(40 points). You are required to build a **regression** model to predict the house price with 79 explanatory variables describing (almost) every aspect of residential homes. The purpose of this question is to practice regression analysis, an supervised learning model. The training data, testing data, and data description files can be download from Dropbox: https://www.dropbox.com/s/52j9hpxppfo921o/assignment4-question3-data.zip?dl=0. Here is an axample for the implementation: https://towardsdatascience.com/linear-regression-in-python-predict-the-bay-areas-home-price-5c91c8378878. \n"
      ]
    },
    {
      "cell_type": "markdown",
      "metadata": {
        "id": "GlZ_6fsl_yjp"
      },
      "source": [
        "# **Reading Data from Csv files**"
      ]
    },
    {
      "cell_type": "code",
      "metadata": {
        "id": "XfvMKJjIXS5G"
      },
      "source": [
        "train_dataset = pd.read_csv(\"/content/train.csv\")\n",
        "test_dataset = pd.read_csv(\"/content/test.csv\")"
      ],
      "execution_count": null,
      "outputs": []
    },
    {
      "cell_type": "markdown",
      "metadata": {
        "id": "aHh5id30_6LU"
      },
      "source": [
        "# **Getting statistics of the training data**"
      ]
    },
    {
      "cell_type": "code",
      "metadata": {
        "colab": {
          "base_uri": "https://localhost:8080/",
          "height": 304
        },
        "id": "EL0fAYUAJTpY",
        "outputId": "543bc8f0-d42e-4d60-e5e4-374765fcc95b"
      },
      "source": [
        "train_dataset.describe()"
      ],
      "execution_count": null,
      "outputs": [
        {
          "output_type": "execute_result",
          "data": {
            "text/html": [
              "<div>\n",
              "<style scoped>\n",
              "    .dataframe tbody tr th:only-of-type {\n",
              "        vertical-align: middle;\n",
              "    }\n",
              "\n",
              "    .dataframe tbody tr th {\n",
              "        vertical-align: top;\n",
              "    }\n",
              "\n",
              "    .dataframe thead th {\n",
              "        text-align: right;\n",
              "    }\n",
              "</style>\n",
              "<table border=\"1\" class=\"dataframe\">\n",
              "  <thead>\n",
              "    <tr style=\"text-align: right;\">\n",
              "      <th></th>\n",
              "      <th>Id</th>\n",
              "      <th>MSSubClass</th>\n",
              "      <th>LotFrontage</th>\n",
              "      <th>LotArea</th>\n",
              "      <th>OverallQual</th>\n",
              "      <th>OverallCond</th>\n",
              "      <th>YearBuilt</th>\n",
              "      <th>YearRemodAdd</th>\n",
              "      <th>MasVnrArea</th>\n",
              "      <th>BsmtFinSF1</th>\n",
              "      <th>BsmtFinSF2</th>\n",
              "      <th>BsmtUnfSF</th>\n",
              "      <th>TotalBsmtSF</th>\n",
              "      <th>1stFlrSF</th>\n",
              "      <th>2ndFlrSF</th>\n",
              "      <th>LowQualFinSF</th>\n",
              "      <th>GrLivArea</th>\n",
              "      <th>BsmtFullBath</th>\n",
              "      <th>BsmtHalfBath</th>\n",
              "      <th>FullBath</th>\n",
              "      <th>HalfBath</th>\n",
              "      <th>BedroomAbvGr</th>\n",
              "      <th>KitchenAbvGr</th>\n",
              "      <th>TotRmsAbvGrd</th>\n",
              "      <th>Fireplaces</th>\n",
              "      <th>GarageYrBlt</th>\n",
              "      <th>GarageCars</th>\n",
              "      <th>GarageArea</th>\n",
              "      <th>WoodDeckSF</th>\n",
              "      <th>OpenPorchSF</th>\n",
              "      <th>EnclosedPorch</th>\n",
              "      <th>3SsnPorch</th>\n",
              "      <th>ScreenPorch</th>\n",
              "      <th>PoolArea</th>\n",
              "      <th>MiscVal</th>\n",
              "      <th>MoSold</th>\n",
              "      <th>YrSold</th>\n",
              "      <th>SalePrice</th>\n",
              "    </tr>\n",
              "  </thead>\n",
              "  <tbody>\n",
              "    <tr>\n",
              "      <th>count</th>\n",
              "      <td>1460.000000</td>\n",
              "      <td>1460.000000</td>\n",
              "      <td>1201.000000</td>\n",
              "      <td>1460.000000</td>\n",
              "      <td>1460.000000</td>\n",
              "      <td>1460.000000</td>\n",
              "      <td>1460.000000</td>\n",
              "      <td>1460.000000</td>\n",
              "      <td>1452.000000</td>\n",
              "      <td>1460.000000</td>\n",
              "      <td>1460.000000</td>\n",
              "      <td>1460.000000</td>\n",
              "      <td>1460.000000</td>\n",
              "      <td>1460.000000</td>\n",
              "      <td>1460.000000</td>\n",
              "      <td>1460.000000</td>\n",
              "      <td>1460.000000</td>\n",
              "      <td>1460.000000</td>\n",
              "      <td>1460.000000</td>\n",
              "      <td>1460.000000</td>\n",
              "      <td>1460.000000</td>\n",
              "      <td>1460.000000</td>\n",
              "      <td>1460.000000</td>\n",
              "      <td>1460.000000</td>\n",
              "      <td>1460.000000</td>\n",
              "      <td>1379.000000</td>\n",
              "      <td>1460.000000</td>\n",
              "      <td>1460.000000</td>\n",
              "      <td>1460.000000</td>\n",
              "      <td>1460.000000</td>\n",
              "      <td>1460.000000</td>\n",
              "      <td>1460.000000</td>\n",
              "      <td>1460.000000</td>\n",
              "      <td>1460.000000</td>\n",
              "      <td>1460.000000</td>\n",
              "      <td>1460.000000</td>\n",
              "      <td>1460.000000</td>\n",
              "      <td>1460.000000</td>\n",
              "    </tr>\n",
              "    <tr>\n",
              "      <th>mean</th>\n",
              "      <td>730.500000</td>\n",
              "      <td>56.897260</td>\n",
              "      <td>70.049958</td>\n",
              "      <td>10516.828082</td>\n",
              "      <td>6.099315</td>\n",
              "      <td>5.575342</td>\n",
              "      <td>1971.267808</td>\n",
              "      <td>1984.865753</td>\n",
              "      <td>103.685262</td>\n",
              "      <td>443.639726</td>\n",
              "      <td>46.549315</td>\n",
              "      <td>567.240411</td>\n",
              "      <td>1057.429452</td>\n",
              "      <td>1162.626712</td>\n",
              "      <td>346.992466</td>\n",
              "      <td>5.844521</td>\n",
              "      <td>1515.463699</td>\n",
              "      <td>0.425342</td>\n",
              "      <td>0.057534</td>\n",
              "      <td>1.565068</td>\n",
              "      <td>0.382877</td>\n",
              "      <td>2.866438</td>\n",
              "      <td>1.046575</td>\n",
              "      <td>6.517808</td>\n",
              "      <td>0.613014</td>\n",
              "      <td>1978.506164</td>\n",
              "      <td>1.767123</td>\n",
              "      <td>472.980137</td>\n",
              "      <td>94.244521</td>\n",
              "      <td>46.660274</td>\n",
              "      <td>21.954110</td>\n",
              "      <td>3.409589</td>\n",
              "      <td>15.060959</td>\n",
              "      <td>2.758904</td>\n",
              "      <td>43.489041</td>\n",
              "      <td>6.321918</td>\n",
              "      <td>2007.815753</td>\n",
              "      <td>180921.195890</td>\n",
              "    </tr>\n",
              "    <tr>\n",
              "      <th>std</th>\n",
              "      <td>421.610009</td>\n",
              "      <td>42.300571</td>\n",
              "      <td>24.284752</td>\n",
              "      <td>9981.264932</td>\n",
              "      <td>1.382997</td>\n",
              "      <td>1.112799</td>\n",
              "      <td>30.202904</td>\n",
              "      <td>20.645407</td>\n",
              "      <td>181.066207</td>\n",
              "      <td>456.098091</td>\n",
              "      <td>161.319273</td>\n",
              "      <td>441.866955</td>\n",
              "      <td>438.705324</td>\n",
              "      <td>386.587738</td>\n",
              "      <td>436.528436</td>\n",
              "      <td>48.623081</td>\n",
              "      <td>525.480383</td>\n",
              "      <td>0.518911</td>\n",
              "      <td>0.238753</td>\n",
              "      <td>0.550916</td>\n",
              "      <td>0.502885</td>\n",
              "      <td>0.815778</td>\n",
              "      <td>0.220338</td>\n",
              "      <td>1.625393</td>\n",
              "      <td>0.644666</td>\n",
              "      <td>24.689725</td>\n",
              "      <td>0.747315</td>\n",
              "      <td>213.804841</td>\n",
              "      <td>125.338794</td>\n",
              "      <td>66.256028</td>\n",
              "      <td>61.119149</td>\n",
              "      <td>29.317331</td>\n",
              "      <td>55.757415</td>\n",
              "      <td>40.177307</td>\n",
              "      <td>496.123024</td>\n",
              "      <td>2.703626</td>\n",
              "      <td>1.328095</td>\n",
              "      <td>79442.502883</td>\n",
              "    </tr>\n",
              "    <tr>\n",
              "      <th>min</th>\n",
              "      <td>1.000000</td>\n",
              "      <td>20.000000</td>\n",
              "      <td>21.000000</td>\n",
              "      <td>1300.000000</td>\n",
              "      <td>1.000000</td>\n",
              "      <td>1.000000</td>\n",
              "      <td>1872.000000</td>\n",
              "      <td>1950.000000</td>\n",
              "      <td>0.000000</td>\n",
              "      <td>0.000000</td>\n",
              "      <td>0.000000</td>\n",
              "      <td>0.000000</td>\n",
              "      <td>0.000000</td>\n",
              "      <td>334.000000</td>\n",
              "      <td>0.000000</td>\n",
              "      <td>0.000000</td>\n",
              "      <td>334.000000</td>\n",
              "      <td>0.000000</td>\n",
              "      <td>0.000000</td>\n",
              "      <td>0.000000</td>\n",
              "      <td>0.000000</td>\n",
              "      <td>0.000000</td>\n",
              "      <td>0.000000</td>\n",
              "      <td>2.000000</td>\n",
              "      <td>0.000000</td>\n",
              "      <td>1900.000000</td>\n",
              "      <td>0.000000</td>\n",
              "      <td>0.000000</td>\n",
              "      <td>0.000000</td>\n",
              "      <td>0.000000</td>\n",
              "      <td>0.000000</td>\n",
              "      <td>0.000000</td>\n",
              "      <td>0.000000</td>\n",
              "      <td>0.000000</td>\n",
              "      <td>0.000000</td>\n",
              "      <td>1.000000</td>\n",
              "      <td>2006.000000</td>\n",
              "      <td>34900.000000</td>\n",
              "    </tr>\n",
              "    <tr>\n",
              "      <th>25%</th>\n",
              "      <td>365.750000</td>\n",
              "      <td>20.000000</td>\n",
              "      <td>59.000000</td>\n",
              "      <td>7553.500000</td>\n",
              "      <td>5.000000</td>\n",
              "      <td>5.000000</td>\n",
              "      <td>1954.000000</td>\n",
              "      <td>1967.000000</td>\n",
              "      <td>0.000000</td>\n",
              "      <td>0.000000</td>\n",
              "      <td>0.000000</td>\n",
              "      <td>223.000000</td>\n",
              "      <td>795.750000</td>\n",
              "      <td>882.000000</td>\n",
              "      <td>0.000000</td>\n",
              "      <td>0.000000</td>\n",
              "      <td>1129.500000</td>\n",
              "      <td>0.000000</td>\n",
              "      <td>0.000000</td>\n",
              "      <td>1.000000</td>\n",
              "      <td>0.000000</td>\n",
              "      <td>2.000000</td>\n",
              "      <td>1.000000</td>\n",
              "      <td>5.000000</td>\n",
              "      <td>0.000000</td>\n",
              "      <td>1961.000000</td>\n",
              "      <td>1.000000</td>\n",
              "      <td>334.500000</td>\n",
              "      <td>0.000000</td>\n",
              "      <td>0.000000</td>\n",
              "      <td>0.000000</td>\n",
              "      <td>0.000000</td>\n",
              "      <td>0.000000</td>\n",
              "      <td>0.000000</td>\n",
              "      <td>0.000000</td>\n",
              "      <td>5.000000</td>\n",
              "      <td>2007.000000</td>\n",
              "      <td>129975.000000</td>\n",
              "    </tr>\n",
              "    <tr>\n",
              "      <th>50%</th>\n",
              "      <td>730.500000</td>\n",
              "      <td>50.000000</td>\n",
              "      <td>69.000000</td>\n",
              "      <td>9478.500000</td>\n",
              "      <td>6.000000</td>\n",
              "      <td>5.000000</td>\n",
              "      <td>1973.000000</td>\n",
              "      <td>1994.000000</td>\n",
              "      <td>0.000000</td>\n",
              "      <td>383.500000</td>\n",
              "      <td>0.000000</td>\n",
              "      <td>477.500000</td>\n",
              "      <td>991.500000</td>\n",
              "      <td>1087.000000</td>\n",
              "      <td>0.000000</td>\n",
              "      <td>0.000000</td>\n",
              "      <td>1464.000000</td>\n",
              "      <td>0.000000</td>\n",
              "      <td>0.000000</td>\n",
              "      <td>2.000000</td>\n",
              "      <td>0.000000</td>\n",
              "      <td>3.000000</td>\n",
              "      <td>1.000000</td>\n",
              "      <td>6.000000</td>\n",
              "      <td>1.000000</td>\n",
              "      <td>1980.000000</td>\n",
              "      <td>2.000000</td>\n",
              "      <td>480.000000</td>\n",
              "      <td>0.000000</td>\n",
              "      <td>25.000000</td>\n",
              "      <td>0.000000</td>\n",
              "      <td>0.000000</td>\n",
              "      <td>0.000000</td>\n",
              "      <td>0.000000</td>\n",
              "      <td>0.000000</td>\n",
              "      <td>6.000000</td>\n",
              "      <td>2008.000000</td>\n",
              "      <td>163000.000000</td>\n",
              "    </tr>\n",
              "    <tr>\n",
              "      <th>75%</th>\n",
              "      <td>1095.250000</td>\n",
              "      <td>70.000000</td>\n",
              "      <td>80.000000</td>\n",
              "      <td>11601.500000</td>\n",
              "      <td>7.000000</td>\n",
              "      <td>6.000000</td>\n",
              "      <td>2000.000000</td>\n",
              "      <td>2004.000000</td>\n",
              "      <td>166.000000</td>\n",
              "      <td>712.250000</td>\n",
              "      <td>0.000000</td>\n",
              "      <td>808.000000</td>\n",
              "      <td>1298.250000</td>\n",
              "      <td>1391.250000</td>\n",
              "      <td>728.000000</td>\n",
              "      <td>0.000000</td>\n",
              "      <td>1776.750000</td>\n",
              "      <td>1.000000</td>\n",
              "      <td>0.000000</td>\n",
              "      <td>2.000000</td>\n",
              "      <td>1.000000</td>\n",
              "      <td>3.000000</td>\n",
              "      <td>1.000000</td>\n",
              "      <td>7.000000</td>\n",
              "      <td>1.000000</td>\n",
              "      <td>2002.000000</td>\n",
              "      <td>2.000000</td>\n",
              "      <td>576.000000</td>\n",
              "      <td>168.000000</td>\n",
              "      <td>68.000000</td>\n",
              "      <td>0.000000</td>\n",
              "      <td>0.000000</td>\n",
              "      <td>0.000000</td>\n",
              "      <td>0.000000</td>\n",
              "      <td>0.000000</td>\n",
              "      <td>8.000000</td>\n",
              "      <td>2009.000000</td>\n",
              "      <td>214000.000000</td>\n",
              "    </tr>\n",
              "    <tr>\n",
              "      <th>max</th>\n",
              "      <td>1460.000000</td>\n",
              "      <td>190.000000</td>\n",
              "      <td>313.000000</td>\n",
              "      <td>215245.000000</td>\n",
              "      <td>10.000000</td>\n",
              "      <td>9.000000</td>\n",
              "      <td>2010.000000</td>\n",
              "      <td>2010.000000</td>\n",
              "      <td>1600.000000</td>\n",
              "      <td>5644.000000</td>\n",
              "      <td>1474.000000</td>\n",
              "      <td>2336.000000</td>\n",
              "      <td>6110.000000</td>\n",
              "      <td>4692.000000</td>\n",
              "      <td>2065.000000</td>\n",
              "      <td>572.000000</td>\n",
              "      <td>5642.000000</td>\n",
              "      <td>3.000000</td>\n",
              "      <td>2.000000</td>\n",
              "      <td>3.000000</td>\n",
              "      <td>2.000000</td>\n",
              "      <td>8.000000</td>\n",
              "      <td>3.000000</td>\n",
              "      <td>14.000000</td>\n",
              "      <td>3.000000</td>\n",
              "      <td>2010.000000</td>\n",
              "      <td>4.000000</td>\n",
              "      <td>1418.000000</td>\n",
              "      <td>857.000000</td>\n",
              "      <td>547.000000</td>\n",
              "      <td>552.000000</td>\n",
              "      <td>508.000000</td>\n",
              "      <td>480.000000</td>\n",
              "      <td>738.000000</td>\n",
              "      <td>15500.000000</td>\n",
              "      <td>12.000000</td>\n",
              "      <td>2010.000000</td>\n",
              "      <td>755000.000000</td>\n",
              "    </tr>\n",
              "  </tbody>\n",
              "</table>\n",
              "</div>"
            ],
            "text/plain": [
              "                Id   MSSubClass  ...       YrSold      SalePrice\n",
              "count  1460.000000  1460.000000  ...  1460.000000    1460.000000\n",
              "mean    730.500000    56.897260  ...  2007.815753  180921.195890\n",
              "std     421.610009    42.300571  ...     1.328095   79442.502883\n",
              "min       1.000000    20.000000  ...  2006.000000   34900.000000\n",
              "25%     365.750000    20.000000  ...  2007.000000  129975.000000\n",
              "50%     730.500000    50.000000  ...  2008.000000  163000.000000\n",
              "75%    1095.250000    70.000000  ...  2009.000000  214000.000000\n",
              "max    1460.000000   190.000000  ...  2010.000000  755000.000000\n",
              "\n",
              "[8 rows x 38 columns]"
            ]
          },
          "metadata": {
            "tags": []
          },
          "execution_count": 152
        }
      ]
    },
    {
      "cell_type": "markdown",
      "metadata": {
        "id": "sduYsVP8ACi0"
      },
      "source": [
        "# **Checking for Null values**"
      ]
    },
    {
      "cell_type": "code",
      "metadata": {
        "colab": {
          "base_uri": "https://localhost:8080/"
        },
        "id": "Z7HRVrpTKyyU",
        "outputId": "7d1bdbca-0f50-4418-8959-d096e4f3e226"
      },
      "source": [
        "print(train_dataset.isnull().sum())"
      ],
      "execution_count": null,
      "outputs": [
        {
          "output_type": "stream",
          "text": [
            "Id                 0\n",
            "MSSubClass         0\n",
            "MSZoning           0\n",
            "LotFrontage      259\n",
            "LotArea            0\n",
            "                ... \n",
            "MoSold             0\n",
            "YrSold             0\n",
            "SaleType           0\n",
            "SaleCondition      0\n",
            "SalePrice          0\n",
            "Length: 81, dtype: int64\n"
          ],
          "name": "stdout"
        }
      ]
    },
    {
      "cell_type": "code",
      "metadata": {
        "colab": {
          "base_uri": "https://localhost:8080/"
        },
        "id": "y2NP3tpRcFuj",
        "outputId": "e7190520-6766-49cd-e6e0-962f4619e4db"
      },
      "source": [
        "print(test_dataset.isnull().sum())"
      ],
      "execution_count": null,
      "outputs": [
        {
          "output_type": "stream",
          "text": [
            "Id                 0\n",
            "MSSubClass         0\n",
            "MSZoning           4\n",
            "LotFrontage      227\n",
            "LotArea            0\n",
            "                ... \n",
            "MiscVal            0\n",
            "MoSold             0\n",
            "YrSold             0\n",
            "SaleType           1\n",
            "SaleCondition      0\n",
            "Length: 80, dtype: int64\n"
          ],
          "name": "stdout"
        }
      ]
    },
    {
      "cell_type": "markdown",
      "metadata": {
        "id": "JFVvJdQVAHFU"
      },
      "source": [
        "# **Exploratory Data Analysis**"
      ]
    },
    {
      "cell_type": "code",
      "metadata": {
        "colab": {
          "base_uri": "https://localhost:8080/",
          "height": 843
        },
        "id": "Lkd7ArLZJWHS",
        "outputId": "a834fa4b-02c4-497c-da77-6887b85551c5"
      },
      "source": [
        "%matplotlib inline\n",
        "import matplotlib.pyplot as plt\n",
        "train_dataset.hist(bins=50, figsize=(20,15))\n",
        "plt.savefig(\"attribute_histogram_plots\")\n",
        "plt.show()"
      ],
      "execution_count": null,
      "outputs": [
        {
          "output_type": "display_data",
          "data": {
            "image/png": "[encoded data removed]",
            "text/plain": [
              "<Figure size 1440x1080 with 42 Axes>"
            ]
          },
          "metadata": {
            "tags": [],
            "needs_background": "light"
          }
        }
      ]
    },
    {
      "cell_type": "code",
      "metadata": {
        "colab": {
          "base_uri": "https://localhost:8080/"
        },
        "id": "mQaMF4QjJzKm",
        "outputId": "a470a900-2b1a-4315-d894-7a991fd346b5"
      },
      "source": [
        "corr_matrix = train_dataset.corr()\n",
        "corr_matrix[\"SalePrice\"].sort_values(ascending=False)"
      ],
      "execution_count": null,
      "outputs": [
        {
          "output_type": "execute_result",
          "data": {
            "text/plain": [
              "SalePrice        1.000000\n",
              "OverallQual      0.790982\n",
              "GrLivArea        0.708624\n",
              "GarageCars       0.640409\n",
              "GarageArea       0.623431\n",
              "TotalBsmtSF      0.613581\n",
              "1stFlrSF         0.605852\n",
              "FullBath         0.560664\n",
              "TotRmsAbvGrd     0.533723\n",
              "YearBuilt        0.522897\n",
              "YearRemodAdd     0.507101\n",
              "GarageYrBlt      0.486362\n",
              "MasVnrArea       0.477493\n",
              "Fireplaces       0.466929\n",
              "BsmtFinSF1       0.386420\n",
              "LotFrontage      0.351799\n",
              "WoodDeckSF       0.324413\n",
              "2ndFlrSF         0.319334\n",
              "OpenPorchSF      0.315856\n",
              "HalfBath         0.284108\n",
              "LotArea          0.263843\n",
              "BsmtFullBath     0.227122\n",
              "BsmtUnfSF        0.214479\n",
              "BedroomAbvGr     0.168213\n",
              "ScreenPorch      0.111447\n",
              "PoolArea         0.092404\n",
              "MoSold           0.046432\n",
              "3SsnPorch        0.044584\n",
              "BsmtFinSF2      -0.011378\n",
              "BsmtHalfBath    -0.016844\n",
              "MiscVal         -0.021190\n",
              "Id              -0.021917\n",
              "LowQualFinSF    -0.025606\n",
              "YrSold          -0.028923\n",
              "OverallCond     -0.077856\n",
              "MSSubClass      -0.084284\n",
              "EnclosedPorch   -0.128578\n",
              "KitchenAbvGr    -0.135907\n",
              "Name: SalePrice, dtype: float64"
            ]
          },
          "metadata": {
            "tags": []
          },
          "execution_count": 155
        }
      ]
    },
    {
      "cell_type": "code",
      "metadata": {
        "colab": {
          "base_uri": "https://localhost:8080/",
          "height": 296
        },
        "id": "My8okJP_LBcQ",
        "outputId": "fa058aa6-d064-4d1f-bc05-d52dcfd57e07"
      },
      "source": [
        "train_dataset.plot(kind=\"scatter\", x=\"OverallQual\", y=\"SalePrice\", alpha=0.5)"
      ],
      "execution_count": null,
      "outputs": [
        {
          "output_type": "execute_result",
          "data": {
            "text/plain": [
              "<matplotlib.axes._subplots.AxesSubplot at 0x7f901232dfd0>"
            ]
          },
          "metadata": {
            "tags": []
          },
          "execution_count": 156
        },
        {
          "output_type": "display_data",
          "data": {
            "image/png": "[encoded data removed]",
            "text/plain": [
              "<Figure size 432x288 with 1 Axes>"
            ]
          },
          "metadata": {
            "tags": [],
            "needs_background": "light"
          }
        }
      ]
    },
    {
      "cell_type": "code",
      "metadata": {
        "colab": {
          "base_uri": "https://localhost:8080/",
          "height": 296
        },
        "id": "zk5Gwsd5LtPM",
        "outputId": "7e4e5bcd-01c1-4abd-97a3-62a57bbefdcb"
      },
      "source": [
        "train_dataset.plot(kind=\"scatter\", x=\"GrLivArea\", y=\"SalePrice\", alpha=0.5)"
      ],
      "execution_count": null,
      "outputs": [
        {
          "output_type": "execute_result",
          "data": {
            "text/plain": [
              "<matplotlib.axes._subplots.AxesSubplot at 0x7f8ffbc57390>"
            ]
          },
          "metadata": {
            "tags": []
          },
          "execution_count": 157
        },
        {
          "output_type": "display_data",
          "data": {
            "image/png": "[encoded data removed]",
            "text/plain": [
              "<Figure size 432x288 with 1 Axes>"
            ]
          },
          "metadata": {
            "tags": [],
            "needs_background": "light"
          }
        }
      ]
    },
    {
      "cell_type": "code",
      "metadata": {
        "colab": {
          "base_uri": "https://localhost:8080/",
          "height": 296
        },
        "id": "wEoUxS2nMulu",
        "outputId": "2ac1c6cd-1302-432e-ef52-0f345c3675af"
      },
      "source": [
        "train_dataset.plot(kind=\"scatter\", x=\"GarageCars\", y=\"SalePrice\", alpha=0.5)"
      ],
      "execution_count": null,
      "outputs": [
        {
          "output_type": "execute_result",
          "data": {
            "text/plain": [
              "<matplotlib.axes._subplots.AxesSubplot at 0x7f8ffc35e8d0>"
            ]
          },
          "metadata": {
            "tags": []
          },
          "execution_count": 158
        },
        {
          "output_type": "display_data",
          "data": {
            "image/png": "[encoded data removed]",
            "text/plain": [
              "<Figure size 432x288 with 1 Axes>"
            ]
          },
          "metadata": {
            "tags": [],
            "needs_background": "light"
          }
        }
      ]
    },
    {
      "cell_type": "code",
      "metadata": {
        "colab": {
          "base_uri": "https://localhost:8080/",
          "height": 282
        },
        "id": "sRkhhQMPM9oR",
        "outputId": "747a8074-693b-4400-8713-c8fabef4dc6e"
      },
      "source": [
        "train_dataset.boxplot(column=['OverallQual', 'GrLivArea', 'GarageCars', 'GarageArea'])"
      ],
      "execution_count": null,
      "outputs": [
        {
          "output_type": "execute_result",
          "data": {
            "text/plain": [
              "<matplotlib.axes._subplots.AxesSubplot at 0x7f8ffc1bdda0>"
            ]
          },
          "metadata": {
            "tags": []
          },
          "execution_count": 159
        },
        {
          "output_type": "display_data",
          "data": {
            "image/png": "[encoded data removed]",
            "text/plain": [
              "<Figure size 432x288 with 1 Axes>"
            ]
          },
          "metadata": {
            "tags": [],
            "needs_background": "light"
          }
        }
      ]
    },
    {
      "cell_type": "code",
      "metadata": {
        "colab": {
          "base_uri": "https://localhost:8080/",
          "height": 282
        },
        "id": "B7-u_lUPPPhi",
        "outputId": "5d7da49d-dac2-4562-8614-3ff83b19850b"
      },
      "source": [
        "train_dataset.boxplot(column=['TotalBsmtSF', '1stFlrSF', 'FullBath', 'SalePrice'])"
      ],
      "execution_count": null,
      "outputs": [
        {
          "output_type": "execute_result",
          "data": {
            "text/plain": [
              "<matplotlib.axes._subplots.AxesSubplot at 0x7f8ff8500668>"
            ]
          },
          "metadata": {
            "tags": []
          },
          "execution_count": 160
        },
        {
          "output_type": "display_data",
          "data": {
            "image/png": "[encoded data removed]",
            "text/plain": [
              "<Figure size 432x288 with 1 Axes>"
            ]
          },
          "metadata": {
            "tags": [],
            "needs_background": "light"
          }
        }
      ]
    },
    {
      "cell_type": "code",
      "metadata": {
        "id": "FopLo6RnPazl"
      },
      "source": [
        "train_dataset.fillna(train_dataset.mean(), inplace = True)\n",
        "test_dataset.fillna(test_dataset.mean(), inplace = True)"
      ],
      "execution_count": null,
      "outputs": []
    },
    {
      "cell_type": "code",
      "metadata": {
        "colab": {
          "base_uri": "https://localhost:8080/"
        },
        "id": "WT_VSUJKPwbX",
        "outputId": "ee09a101-88c5-46c6-969e-d1f41a03c62d"
      },
      "source": [
        "print(train_dataset.isnull().sum())"
      ],
      "execution_count": null,
      "outputs": [
        {
          "output_type": "stream",
          "text": [
            "Id               0\n",
            "MSSubClass       0\n",
            "MSZoning         0\n",
            "LotFrontage      0\n",
            "LotArea          0\n",
            "                ..\n",
            "MoSold           0\n",
            "YrSold           0\n",
            "SaleType         0\n",
            "SaleCondition    0\n",
            "SalePrice        0\n",
            "Length: 81, dtype: int64\n"
          ],
          "name": "stdout"
        }
      ]
    },
    {
      "cell_type": "code",
      "metadata": {
        "colab": {
          "base_uri": "https://localhost:8080/"
        },
        "id": "3W7fkQIWcrgv",
        "outputId": "497958af-562d-44c5-84d9-19f121f36623"
      },
      "source": [
        "print(test_dataset.isnull().sum())"
      ],
      "execution_count": null,
      "outputs": [
        {
          "output_type": "stream",
          "text": [
            "Id               0\n",
            "MSSubClass       0\n",
            "MSZoning         4\n",
            "LotFrontage      0\n",
            "LotArea          0\n",
            "                ..\n",
            "MiscVal          0\n",
            "MoSold           0\n",
            "YrSold           0\n",
            "SaleType         1\n",
            "SaleCondition    0\n",
            "Length: 80, dtype: int64\n"
          ],
          "name": "stdout"
        }
      ]
    },
    {
      "cell_type": "markdown",
      "metadata": {
        "id": "PtvTgf1GAo-V"
      },
      "source": [
        "# **Data Encoding**"
      ]
    },
    {
      "cell_type": "code",
      "metadata": {
        "id": "b7J80BgsP2MH"
      },
      "source": [
        "from sklearn.preprocessing import LabelEncoder\n",
        "columns = ('GarageCond', 'LandContour', 'RoofStyle', 'RoofMatl', 'Heating', 'MiscFeature', 'SaleType', 'GarageType', 'Electrical', 'SaleCondition', 'Foundation', 'Exterior1st', 'Exterior2nd', 'MasVnrType', 'FireplaceQu', 'LotConfig', 'Neighborhood', 'Condition1', 'Condition2', 'Utilities', 'BldgType', 'HouseStyle','PoolQC', 'BsmtQual', 'BsmtCond', 'GarageQual','BsmtExposure', 'ExterQual', 'ExterCond','HeatingQC', 'KitchenQual', 'BsmtFinType1','BsmtFinType2', 'Functional', 'Fence', 'GarageFinish', 'LandSlope','LotShape', 'PavedDrive', 'Street', 'Alley', 'CentralAir', 'MSSubClass', 'OverallCond', 'YrSold', 'MoSold', 'MSZoning')\n",
        "for column in columns:\n",
        "    encoder = LabelEncoder()\n",
        "    encoder.fit(list(train_dataset[column].values))\n",
        "    train_dataset[column] = encoder.transform(list(train_dataset[column].values))"
      ],
      "execution_count": null,
      "outputs": []
    },
    {
      "cell_type": "code",
      "metadata": {
        "id": "YeQzXF1Mc8N5"
      },
      "source": [
        "for column in columns:\n",
        "    encoder_test = LabelEncoder()\n",
        "    encoder_test.fit(list(test_dataset[column].values))\n",
        "    test_dataset[column] = encoder_test.transform(list(test_dataset[column].values))"
      ],
      "execution_count": null,
      "outputs": []
    },
    {
      "cell_type": "code",
      "metadata": {
        "id": "ZrmFERpmQOII"
      },
      "source": [
        "x_values = train_dataset[train_dataset.columns[:80]] "
      ],
      "execution_count": null,
      "outputs": []
    },
    {
      "cell_type": "code",
      "metadata": {
        "id": "RXAGLfHedjiG"
      },
      "source": [
        "x_test_values = test_dataset[test_dataset.columns[:80]]"
      ],
      "execution_count": null,
      "outputs": []
    },
    {
      "cell_type": "code",
      "metadata": {
        "id": "wfM8HoMGRf0P"
      },
      "source": [
        "y_values = train_dataset['SalePrice']"
      ],
      "execution_count": null,
      "outputs": []
    },
    {
      "cell_type": "markdown",
      "metadata": {
        "id": "qw3TX03QANUM"
      },
      "source": [
        "# **Training the Regression Model**"
      ]
    },
    {
      "cell_type": "code",
      "metadata": {
        "colab": {
          "base_uri": "https://localhost:8080/"
        },
        "id": "PXGXPNgVRipY",
        "outputId": "211c2257-d566-4c07-fd6b-f0941b0fb6b5"
      },
      "source": [
        "from sklearn.linear_model import LinearRegression\n",
        "reg_model = LinearRegression()\n",
        "reg_model.fit(x_values, y_values)\n",
        "reg_model.score(x_values, y_values)"
      ],
      "execution_count": null,
      "outputs": [
        {
          "output_type": "execute_result",
          "data": {
            "text/plain": [
              "0.8548395143943592"
            ]
          },
          "metadata": {
            "tags": []
          },
          "execution_count": 201
        }
      ]
    },
    {
      "cell_type": "markdown",
      "metadata": {
        "id": "MItRRng7ASW-"
      },
      "source": [
        "# **Predicting the House Sale Price**"
      ]
    },
    {
      "cell_type": "code",
      "metadata": {
        "id": "eN0oOAvqTQkJ"
      },
      "source": [
        "predicted = reg_model.predict(x_test_values)"
      ],
      "execution_count": null,
      "outputs": []
    },
    {
      "cell_type": "code",
      "metadata": {
        "colab": {
          "base_uri": "https://localhost:8080/",
          "height": 402
        },
        "id": "wDYIu4FCdxEG",
        "outputId": "9cf742e3-fe3b-46cc-f218-7e1aa13a33b5"
      },
      "source": [
        "pd.DataFrame({'Predicted House Price Values': predicted})"
      ],
      "execution_count": null,
      "outputs": [
        {
          "output_type": "execute_result",
          "data": {
            "text/html": [
              "<div>\n",
              "<style scoped>\n",
              "    .dataframe tbody tr th:only-of-type {\n",
              "        vertical-align: middle;\n",
              "    }\n",
              "\n",
              "    .dataframe tbody tr th {\n",
              "        vertical-align: top;\n",
              "    }\n",
              "\n",
              "    .dataframe thead th {\n",
              "        text-align: right;\n",
              "    }\n",
              "</style>\n",
              "<table border=\"1\" class=\"dataframe\">\n",
              "  <thead>\n",
              "    <tr style=\"text-align: right;\">\n",
              "      <th></th>\n",
              "      <th>Predicted House Price Values</th>\n",
              "    </tr>\n",
              "  </thead>\n",
              "  <tbody>\n",
              "    <tr>\n",
              "      <th>0</th>\n",
              "      <td>184936.609022</td>\n",
              "    </tr>\n",
              "    <tr>\n",
              "      <th>1</th>\n",
              "      <td>239791.092108</td>\n",
              "    </tr>\n",
              "    <tr>\n",
              "      <th>2</th>\n",
              "      <td>245071.890618</td>\n",
              "    </tr>\n",
              "    <tr>\n",
              "      <th>3</th>\n",
              "      <td>263617.412688</td>\n",
              "    </tr>\n",
              "    <tr>\n",
              "      <th>4</th>\n",
              "      <td>263185.252850</td>\n",
              "    </tr>\n",
              "    <tr>\n",
              "      <th>...</th>\n",
              "      <td>...</td>\n",
              "    </tr>\n",
              "    <tr>\n",
              "      <th>1454</th>\n",
              "      <td>152148.218848</td>\n",
              "    </tr>\n",
              "    <tr>\n",
              "      <th>1455</th>\n",
              "      <td>138020.527442</td>\n",
              "    </tr>\n",
              "    <tr>\n",
              "      <th>1456</th>\n",
              "      <td>225624.228917</td>\n",
              "    </tr>\n",
              "    <tr>\n",
              "      <th>1457</th>\n",
              "      <td>196336.422912</td>\n",
              "    </tr>\n",
              "    <tr>\n",
              "      <th>1458</th>\n",
              "      <td>318680.747439</td>\n",
              "    </tr>\n",
              "  </tbody>\n",
              "</table>\n",
              "<p>1459 rows × 1 columns</p>\n",
              "</div>"
            ],
            "text/plain": [
              "      Predicted House Price Values\n",
              "0                    184936.609022\n",
              "1                    239791.092108\n",
              "2                    245071.890618\n",
              "3                    263617.412688\n",
              "4                    263185.252850\n",
              "...                            ...\n",
              "1454                 152148.218848\n",
              "1455                 138020.527442\n",
              "1456                 225624.228917\n",
              "1457                 196336.422912\n",
              "1458                 318680.747439\n",
              "\n",
              "[1459 rows x 1 columns]"
            ]
          },
          "metadata": {
            "tags": []
          },
          "execution_count": 207
        }
      ]
    }
  ]
}