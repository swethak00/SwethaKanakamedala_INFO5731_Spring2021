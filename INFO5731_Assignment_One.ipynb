{
  "nbformat": 4,
  "nbformat_minor": 0,
  "metadata": {
    "colab": {
      "name": "INFO5731_Assignment_One.ipynb",
      "provenance": [],
      "collapsed_sections": [],
      "include_colab_link": true
    },
    "kernelspec": {
      "display_name": "Python 3",
      "language": "python",
      "name": "python3"
    },
    "language_info": {
      "codemirror_mode": {
        "name": "ipython",
        "version": 3
      },
      "file_extension": ".py",
      "mimetype": "text/x-python",
      "name": "python",
      "nbconvert_exporter": "python",
      "pygments_lexer": "ipython3",
      "version": "3.7.4"
    }
  },
  "cells": [
    {
      "cell_type": "markdown",
      "metadata": {
        "id": "view-in-github",
        "colab_type": "text"
      },
      "source": [
        "<a href=\"https://colab.research.google.com/github/swethak00/SwethaKanakamedala_INFO5731_Spring2021/blob/main/INFO5731_Assignment_One.ipynb\" target=\"_parent\"><img src=\"https://colab.research.google.com/assets/colab-badge.svg\" alt=\"Open In Colab\"/></a>"
      ]
    },
    {
      "cell_type": "markdown",
      "metadata": {
        "id": "Ryk8D1Q4Wsrp"
      },
      "source": [
        "# **INFO5731 Assignment One**"
      ]
    },
    {
      "cell_type": "markdown",
      "metadata": {
        "id": "90_NR8c5XGWc"
      },
      "source": [
        "# Question 1\n",
        "\n",
        "(20 points). Write a Python program to generate 12 random numbers between 1 and 100. Sort the list of numbers in ascending order and print it out. Sort the list of numbers in descending order and print it out. Calculate the average for the group and print it out."
      ]
    },
    {
      "cell_type": "code",
      "metadata": {
        "colab": {
          "base_uri": "https://localhost:8080/"
        },
        "id": "5QX6bJjGWXY9",
        "outputId": "d84ff4b4-3695-43d7-fe9f-f61d0bdcee2a"
      },
      "source": [
        "import random\n",
        "randomList = []\n",
        "for i in range(0,12):\n",
        "    x = random.randint(1,100)\n",
        "    randomList.append(x)\n",
        "print(randomList)\n",
        "print('----------------------------------------------------------')\n",
        "randomList.sort()   \n",
        "print(randomList) \n",
        "print('----------------------------------------------------------')\n",
        "randomList.sort(reverse = True)  \n",
        "print(randomList) \n",
        "print('----------------------------------------------------------')\n",
        "avg = sum(randomList)/len(randomList)\n",
        "print('average = ',avg)\n"
      ],
      "execution_count": null,
      "outputs": [
        {
          "output_type": "stream",
          "text": [
            "[28, 87, 84, 27, 12, 62, 55, 38, 12, 26, 95, 8]\n",
            "----------------------------------------------------------\n",
            "[8, 12, 12, 26, 27, 28, 38, 55, 62, 84, 87, 95]\n",
            "----------------------------------------------------------\n",
            "[95, 87, 84, 62, 55, 38, 28, 27, 26, 12, 12, 8]\n",
            "----------------------------------------------------------\n",
            "average =  44.5\n"
          ],
          "name": "stdout"
        }
      ]
    },
    {
      "cell_type": "markdown",
      "metadata": {
        "id": "1F_PZdH9Sh49"
      },
      "source": [
        "# Question 2\n",
        "(25 points). Write a program that will do the following string formatting tasks:\n",
        "\n",
        "(1) Ask the user to enter two sentences.\n",
        "\n",
        "(2) Make each sentence into a list. Each element in the list should correspond to a word in the sentence. For example, if the sentence is \"Alas! Am I alive? This is my first python program\", the program should print out ['Alas, '!', 'Am', 'I', 'alive, '?', 'This', 'is', 'my', 'first', 'python', 'program'].\n",
        "\n",
        "(3) Compare the two sentences. Print out a list of words that occur in both sentences.\n",
        "\n",
        "(4) Remove any punctuation from the sentence and print it back out. It should remove at least the following characters, but it can remove more: period(“.”), comma (“,”), semicolon (“;”), and colon (“:”)\n",
        "\n",
        "(5) Count the number of vowels in the sentences. Print out each vowel and the number of times it appears in the sentences, such as: a:2, e:1, i:0, etc"
      ]
    },
    {
      "cell_type": "code",
      "metadata": {
        "colab": {
          "base_uri": "https://localhost:8080/"
        },
        "id": "Y0oOSlsOS0cq",
        "outputId": "16d84ae9-7106-4b23-dba8-aef464c846d7"
      },
      "source": [
        "#1\n",
        "Sen1 = input(\"Enter first sentence\")\n",
        "Sen2 = input(\"Enter second sentence\")\n",
        "print(Sen1)\n",
        "print(Sen2)\n",
        "print('---------------------------------------------------')\n",
        "\n",
        "#2\n",
        "Sen1.split()\n",
        "print(Sen1.split())\n",
        "Sen2.split()\n",
        "print(Sen2.split())\n",
        "print('---------------------------------------------------')\n",
        "\n",
        "#3\n",
        "sen1_words = set(Sen1.split())\n",
        "sen2_words = set(Sen2.split())\n",
        "common = sen1_words & sen2_words\n",
        "print(common)\n",
        "print('---------------------------------------------------')\n",
        "\n",
        "#4\n",
        "punctuations = '''!()-[]{};:'\"\\,<>./?@#$%^&*_~'''\n",
        "\n",
        "sentence = \"What is her name???, she asked.\"\n",
        "no_punctuations = \"\"\n",
        "for char in sentence:\n",
        "   if char not in punctuations:\n",
        "       no_punctuations = no_punctuations + char\n",
        "print(no_punctuations)\n",
        "print('----------------------------------------------------')\n",
        "\n",
        "#5\n",
        "sen = \"My Name Is Swetha\"\n",
        "lowercase = sen.lower()\n",
        "vowel_counts = {}\n",
        "for vowel in \"aeiou\":\n",
        "    count = lowercase.count(vowel)\n",
        "    vowel_counts[vowel] = count\n",
        "print(vowel_counts)\n"
      ],
      "execution_count": null,
      "outputs": [
        {
          "output_type": "stream",
          "text": [
            "Enter first sentencemy name is swetha\n",
            "Enter second sentencemy mom name is neeraja\n",
            "my name is swetha\n",
            "my mom name is neeraja\n",
            "---------------------------------------------------\n",
            "['my', 'name', 'is', 'swetha']\n",
            "['my', 'mom', 'name', 'is', 'neeraja']\n",
            "---------------------------------------------------\n",
            "{'my', 'is', 'name'}\n",
            "---------------------------------------------------\n",
            "What is her name she asked\n",
            "----------------------------------------------------\n",
            "{'a': 2, 'e': 2, 'i': 1, 'o': 0, 'u': 0}\n"
          ],
          "name": "stdout"
        }
      ]
    },
    {
      "cell_type": "markdown",
      "metadata": {
        "id": "CmFoI4jDS9nx"
      },
      "source": [
        "# Question 3 \n",
        "\n",
        "(15 points). The formula that describes the volume V of a sphere with radius r is the following:\n",
        "\n",
        "$ V=\\frac{4}{3}\\ast\\ \\pi\\ast\\ r^3 $\n",
        "\n",
        "Write a program to calculate the value of V when r is in the range of 1–10. Output the result in the following format:\n",
        "\n",
        "\tr\tV\n",
        "\t1\t…\n",
        "\t2\t…\n",
        "\t3\t…\n"
      ]
    },
    {
      "cell_type": "code",
      "metadata": {
        "colab": {
          "base_uri": "https://localhost:8080/"
        },
        "id": "pEyqeioAT95b",
        "outputId": "1c862bdc-5e10-4024-c884-b3267a1b6c12"
      },
      "source": [
        "def volume(rad):\n",
        "  return (4/3)*(3.1415)*(rad**3)\n",
        "\n",
        "def main():\n",
        "  print(\"r\\t\\tV\")\n",
        "  for r in range(1,11):\n",
        "    print(\"%d\\t\\t%.2f\"%(r,volume(r)))\n",
        "  return\n",
        "main()\n"
      ],
      "execution_count": null,
      "outputs": [
        {
          "output_type": "stream",
          "text": [
            "r\t\tV\n",
            "1\t\t4.19\n",
            "2\t\t33.51\n",
            "3\t\t113.09\n",
            "4\t\t268.07\n",
            "5\t\t523.58\n",
            "6\t\t904.75\n",
            "7\t\t1436.71\n",
            "8\t\t2144.60\n",
            "9\t\t3053.54\n",
            "10\t\t4188.67\n"
          ],
          "name": "stdout"
        }
      ]
    },
    {
      "cell_type": "code",
      "metadata": {
        "id": "pMCr3l8tnu0j"
      },
      "source": [
        ""
      ],
      "execution_count": null,
      "outputs": []
    },
    {
      "cell_type": "markdown",
      "metadata": {
        "id": "z3tBE7E-Xn5X"
      },
      "source": [
        "# Question 4\n",
        "\n",
        "(40 points). In the field of Data Science, data is often formatted as a comma-delimited (CSV) file, where each line in a file corresponds to a field's value. Refer to Chapter 9 (p. 106) for more information on comma-delimited files. To answer this question, you will need to download the file [Assignment1_denton_housing.csv](https://github.com/unt-iialab/info5731_spring2021/blob/main/assignment/Assignment1_denton_housing.csv) included with this assignment. The file [Assignment1_denton_housing.csv](https://github.com/unt-iialab/info5731_spring2021/blob/main/assignment/Assignment1_denton_housing.csv) contains statistics about housing in the city of Denton from 2008 to 2014. Write a program to implement the following questions.\n",
        "\n",
        "(1) (10 pts) Calculate the difference in the number of Occupied Housing Units from year to year and print it. The difference must be calculated for the consecutive years such as 2008-2009, 2009-2010 etc. Finally, print the values in the ascending order.\n",
        "\n",
        "(2) (10 pts) For all the years, calculate the percentage of housing units which are vacant an occupied. Print the results in the following format:\n",
        "\n",
        "Year Vacant Housing Units Occupied Housing Units\n",
        "\n",
        "    2008  30%   70%                          \n",
        "\t2009 ----- -----\n",
        "\t2010 ----- -----\n",
        "    2011 ----- -----\n",
        "\t2012 ----- -----\n",
        "    2013 ----- -----\n",
        "\t2014 ----- -----\n",
        "  \n",
        "  \n",
        "\n",
        "(3) (10 pts) Calculate and print the valued and years in which the highest number of housing units were vacant and occupied. Print the results in the following format:  \n",
        "\n",
        "                              Year\tValue\n",
        "\tVacant Housing Units\t  -----   -----\n",
        "\tOccupied Housing Units\t-----   -----\n",
        "\n",
        "(4) (10 pts) Calculate the harmonic mean of the total housing units and print it out. You can find the information about harmonic mean here: https://ncalculators.com/statistics/harmonic-mean-calculator.htm"
      ]
    },
    {
      "cell_type": "code",
      "metadata": {
        "colab": {
          "base_uri": "https://localhost:8080/"
        },
        "id": "lqGYuHBhcsRH",
        "outputId": "5b3c8f04-bc86-4a8a-bcef-ec32c5145a79"
      },
      "source": [
        "#1\n",
        "import csv\n",
        "housing_units_occupied = {} \n",
        "with open(\"Assignment1_denton_housing.csv\",'r') as input_file:\n",
        "    file_reader = csv.reader(input_file) \n",
        "    for row in file_reader: \n",
        "        if row[1] == \"Occupied Housing Units\": \n",
        "            housing_units_occupied[int(row[0])] = int(row[2])\n",
        "unit_difference = {} \n",
        "year = 2008 \n",
        "while year < 2014:\n",
        "    unit_difference[housing_units_occupied[year+1]-housing_units_occupied[year]] = str(year)+\"-\"+str(year+1)\n",
        "    year = year+1\n",
        "\n",
        "for item in unit_difference:\n",
        "    print(\"From\",unit_difference[item]+\":\",item)\n",
        "#2\n",
        "\n",
        "import csv\n",
        "housing_units_total = {}\n",
        "housing_units_occupied = {}\n",
        "housing_units_vacant = {}\n",
        "with open(\"Assignment1_denton_housing.csv\",'r') as input_file:\n",
        "    file_reader = csv.reader(input_file) \n",
        "    for row in file_reader: \n",
        "        if row[1] == \"Total Housing Units\": \n",
        "            housing_units_total[int(row[0])] = int(row[2])\n",
        "        elif row[1] == \"Occupied Housing Units\": \n",
        "            housing_units_occupied[int(row[0])] = int(row[2])\n",
        "        elif row[1] == \"Vacant Housing Units\": \n",
        "            housing_units_vacant[int(row[0])] = int(row[2])\n",
        "year = 2008 \n",
        "print(\"Year\\tVacant Housing Units\\tOccupied Housing Units\") \n",
        "while year <= 2014: \n",
        "    vacant_percent = (housing_units_vacant[year]/housing_units_total[year])*100\n",
        "    occupied_percent = (housing_units_occupied[year]/housing_units_total[year])*100\n",
        "    print(str(year)+\"\\t\"+str(round(vacant_percent,1))+\"%\\t\\t\\t\"+str(round(occupied_percent,1))+\"%\")\n",
        "    year+=1\n",
        "\n",
        "\n",
        "#3\n",
        "occ_year = 0\n",
        "vac_year = 0\n",
        "occ_house_val = 0\n",
        "vac_house_val = 0\n",
        "def highest_values(row):\n",
        "  global occ_year\n",
        "  global vac_year\n",
        "  global occ_house_val\n",
        "  global vac_house_val\n",
        "  year = int(row[fields[0]])\n",
        "  val = int(row[fields[2]] )\n",
        "  if row[fields[1]] == \"Occupied Housing Units\" and val > occ_house_val:\n",
        "    occ_house_val =val\n",
        "    occ_year = year\n",
        "  if row[fields[1]] == \"Vacant Housing Units\" and val > vac_house_val:\n",
        "     vac_house_val =val\n",
        "     vac_year = year\n",
        "  return\n",
        "def print_highest():\n",
        "    print(\"\\n\\n\\n#4.3\\n\\n\")\n",
        "    print(\"\\t\\t\\tyear\\t\\tvalue\")\n",
        "    print(\"Vacant Housing Units\\t%d\\t\\t%d\"%(vac_year,vac_house_val))\n",
        "    print(\"Occupied Housing Units\\t%d\\t\\t%d\"%(occ_year,occ_house_val))\n",
        "    return\n",
        "\n",
        "#4\n",
        "count = 0\n",
        "sum_recp = 0\n",
        "def process_Harmonic_Mean(row):\n",
        "  global count\n",
        "  global sum_recp\n",
        "  if row[fields[1]] == \"Total Housing Units\" :\n",
        "    count+=1\n",
        "    sum_recp+=(1/int(row[fields[2]]))\n",
        "\n",
        "  return\n",
        "def print_harmonic_mean():\n",
        "  global count\n",
        "  global sum_recp\n",
        "  print(\"\\n\\n\\n#4.4\\n\\n\")\n",
        "  print(\"Harmonic Mean for Total Housing Units : %.4f\" %(count/sum_recp))\n",
        "  return\n",
        "\n",
        "\n",
        "\n",
        "def main():\n",
        "  global fileName\n",
        "  with open(fileName, newline='') as csvfile:\n",
        "    data = csv.DictReader(csvfile)\n",
        "    for row in data:\n",
        "      percentageCal(row)\n",
        "      occupied_vacent(row)\n",
        "      highest_values(row)\n",
        "      process_Harmonic_Mean(row)\n",
        "      \n",
        "   \n",
        "\n",
        "  print_highest()\n",
        "  print_harmonic_mean()\n",
        "  return\n",
        "main()\n",
        "\n"
      ],
      "execution_count": null,
      "outputs": [
        {
          "output_type": "stream",
          "text": [
            "From 2008-2009: -795\n",
            "From 2009-2010: 5091\n",
            "From 2010-2011: -303\n",
            "From 2011-2012: 1404\n",
            "From 2012-2013: 1565\n",
            "From 2013-2014: 2622\n",
            "Year\tVacant Housing Units\tOccupied Housing Units\n",
            "2008\t10.9%\t\t\t89.1%\n",
            "2009\t9.1%\t\t\t90.9%\n",
            "2010\t8.1%\t\t\t91.9%\n",
            "2011\t9.4%\t\t\t90.6%\n",
            "2012\t6.7%\t\t\t93.3%\n",
            "2013\t8.8%\t\t\t91.2%\n",
            "2014\t5.7%\t\t\t94.3%\n",
            "\n",
            "\n",
            "\n",
            "#4.3\n",
            "\n",
            "\n",
            "\t\t\tyear\t\tvalue\n",
            "Vacant Housing Units\t2008\t\t4483\n",
            "Occupied Housing Units\t2014\t\t46295\n",
            "\n",
            "\n",
            "\n",
            "#4.4\n",
            "\n",
            "\n",
            "Harmonic Mean for Total Housing Units : 44398.2854\n"
          ],
          "name": "stdout"
        }
      ]
    }
  ]
}